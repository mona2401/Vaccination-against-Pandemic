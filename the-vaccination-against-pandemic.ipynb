{
 "cells": [
  {
   "cell_type": "markdown",
   "id": "focal-coordinator",
   "metadata": {
    "papermill": {
     "duration": 0.037725,
     "end_time": "2021-06-16T10:54:33.321427",
     "exception": false,
     "start_time": "2021-06-16T10:54:33.283702",
     "status": "completed"
    },
    "tags": []
   },
   "source": [
    "# This Notebook aims to determine and check the details of vaccination on among countries"
   ]
  },
  {
   "cell_type": "markdown",
   "id": "mental-binary",
   "metadata": {
    "papermill": {
     "duration": 0.036372,
     "end_time": "2021-06-16T10:54:33.394703",
     "exception": false,
     "start_time": "2021-06-16T10:54:33.358331",
     "status": "completed"
    },
    "tags": []
   },
   "source": [
    "<img src= \"https://wwwassets.rand.org/content/rand/blog/2020/08/its-going-to-be-the-vaccination-stupid/jcr:content/par/blogpost.aspectcrop.868x455.lt.jpg/x1598055738172.jpg.pagespeed.ic.WPm0htSOxE.jpg\" style='width: 900px;'>"
   ]
  },
  {
   "cell_type": "code",
   "execution_count": 1,
   "id": "lyric-speaker",
   "metadata": {
    "execution": {
     "iopub.execute_input": "2021-06-16T10:54:33.484953Z",
     "iopub.status.busy": "2021-06-16T10:54:33.484126Z",
     "iopub.status.idle": "2021-06-16T10:54:37.828791Z",
     "shell.execute_reply": "2021-06-16T10:54:37.828053Z",
     "shell.execute_reply.started": "2021-06-16T10:27:14.968130Z"
    },
    "papermill": {
     "duration": 4.396984,
     "end_time": "2021-06-16T10:54:37.828978",
     "exception": false,
     "start_time": "2021-06-16T10:54:33.431994",
     "status": "completed"
    },
    "tags": []
   },
   "outputs": [],
   "source": [
    "import numpy as np\n",
    "import pandas as pd\n",
    "import matplotlib.pyplot as plt\n",
    "%matplotlib inline\n",
    "import seaborn as sns\n",
    "import plotly\n",
    "import plotly.express as px\n",
    "import plotly.graph_objects as go\n",
    "#plt.rcParams['figure.figsize']=17,8\n",
    "import cufflinks as cf\n",
    "import plotly.offline as pyo\n",
    "from plotly.offline import init_notebook_mode,plot,iplot\n",
    "import folium \n",
    "from folium import plugins\n",
    "plt.rcParams['figure.figsize'] = 10, 12\n",
    "import warnings\n",
    "warnings.filterwarnings('ignore')"
   ]
  },
  {
   "cell_type": "code",
   "execution_count": 2,
   "id": "impossible-migration",
   "metadata": {
    "execution": {
     "iopub.execute_input": "2021-06-16T10:54:37.912368Z",
     "iopub.status.busy": "2021-06-16T10:54:37.911586Z",
     "iopub.status.idle": "2021-06-16T10:54:37.933429Z",
     "shell.execute_reply": "2021-06-16T10:54:37.932926Z",
     "shell.execute_reply.started": "2021-06-16T10:27:17.387280Z"
    },
    "papermill": {
     "duration": 0.064616,
     "end_time": "2021-06-16T10:54:37.933587",
     "exception": false,
     "start_time": "2021-06-16T10:54:37.868971",
     "status": "completed"
    },
    "tags": []
   },
   "outputs": [
    {
     "data": {
      "text/html": [
       "        <script type=\"text/javascript\">\n",
       "        window.PlotlyConfig = {MathJaxConfig: 'local'};\n",
       "        if (window.MathJax) {MathJax.Hub.Config({SVG: {font: \"STIX-Web\"}});}\n",
       "        if (typeof require !== 'undefined') {\n",
       "        require.undef(\"plotly\");\n",
       "        requirejs.config({\n",
       "            paths: {\n",
       "                'plotly': ['https://cdn.plot.ly/plotly-latest.min']\n",
       "            }\n",
       "        });\n",
       "        require(['plotly'], function(Plotly) {\n",
       "            window._Plotly = Plotly;\n",
       "        });\n",
       "        }\n",
       "        </script>\n",
       "        "
      ]
     },
     "metadata": {},
     "output_type": "display_data"
    },
    {
     "data": {
      "text/html": [
       "        <script type=\"text/javascript\">\n",
       "        window.PlotlyConfig = {MathJaxConfig: 'local'};\n",
       "        if (window.MathJax) {MathJax.Hub.Config({SVG: {font: \"STIX-Web\"}});}\n",
       "        if (typeof require !== 'undefined') {\n",
       "        require.undef(\"plotly\");\n",
       "        requirejs.config({\n",
       "            paths: {\n",
       "                'plotly': ['https://cdn.plot.ly/plotly-latest.min']\n",
       "            }\n",
       "        });\n",
       "        require(['plotly'], function(Plotly) {\n",
       "            window._Plotly = Plotly;\n",
       "        });\n",
       "        }\n",
       "        </script>\n",
       "        "
      ]
     },
     "metadata": {},
     "output_type": "display_data"
    }
   ],
   "source": [
    "pyo.init_notebook_mode(connected=True)\n",
    "cf.go_offline()"
   ]
  },
  {
   "cell_type": "markdown",
   "id": "diverse-temple",
   "metadata": {
    "papermill": {
     "duration": 0.040459,
     "end_time": "2021-06-16T10:54:38.013417",
     "exception": false,
     "start_time": "2021-06-16T10:54:37.972958",
     "status": "completed"
    },
    "tags": []
   },
   "source": [
    "# Import the Dataset"
   ]
  },
  {
   "cell_type": "code",
   "execution_count": 3,
   "id": "focal-briefs",
   "metadata": {
    "execution": {
     "iopub.execute_input": "2021-06-16T10:54:38.097599Z",
     "iopub.status.busy": "2021-06-16T10:54:38.096901Z",
     "iopub.status.idle": "2021-06-16T10:54:38.294562Z",
     "shell.execute_reply": "2021-06-16T10:54:38.293793Z",
     "shell.execute_reply.started": "2021-06-16T10:27:17.807473Z"
    },
    "papermill": {
     "duration": 0.241564,
     "end_time": "2021-06-16T10:54:38.294712",
     "exception": false,
     "start_time": "2021-06-16T10:54:38.053148",
     "status": "completed"
    },
    "tags": []
   },
   "outputs": [
    {
     "data": {
      "text/html": [
       "<div>\n",
       "<style scoped>\n",
       "    .dataframe tbody tr th:only-of-type {\n",
       "        vertical-align: middle;\n",
       "    }\n",
       "\n",
       "    .dataframe tbody tr th {\n",
       "        vertical-align: top;\n",
       "    }\n",
       "\n",
       "    .dataframe thead th {\n",
       "        text-align: right;\n",
       "    }\n",
       "</style>\n",
       "<table border=\"1\" class=\"dataframe\">\n",
       "  <thead>\n",
       "    <tr style=\"text-align: right;\">\n",
       "      <th></th>\n",
       "      <th>country</th>\n",
       "      <th>iso_code</th>\n",
       "      <th>date</th>\n",
       "      <th>total_vaccinations</th>\n",
       "      <th>people_vaccinated</th>\n",
       "      <th>people_fully_vaccinated</th>\n",
       "      <th>daily_vaccinations_raw</th>\n",
       "      <th>daily_vaccinations</th>\n",
       "      <th>total_vaccinations_per_hundred</th>\n",
       "      <th>people_vaccinated_per_hundred</th>\n",
       "      <th>people_fully_vaccinated_per_hundred</th>\n",
       "      <th>daily_vaccinations_per_million</th>\n",
       "      <th>vaccines</th>\n",
       "      <th>source_name</th>\n",
       "      <th>source_website</th>\n",
       "    </tr>\n",
       "  </thead>\n",
       "  <tbody>\n",
       "    <tr>\n",
       "      <th>0</th>\n",
       "      <td>Afghanistan</td>\n",
       "      <td>AFG</td>\n",
       "      <td>2021-02-22</td>\n",
       "      <td>0.0</td>\n",
       "      <td>0.0</td>\n",
       "      <td>NaN</td>\n",
       "      <td>NaN</td>\n",
       "      <td>NaN</td>\n",
       "      <td>0.0</td>\n",
       "      <td>0.0</td>\n",
       "      <td>NaN</td>\n",
       "      <td>NaN</td>\n",
       "      <td>BBIBP-CorV, Oxford/AstraZeneca, Pfizer/BioNTech</td>\n",
       "      <td>World Health Organization</td>\n",
       "      <td>https://covid19.who.int/</td>\n",
       "    </tr>\n",
       "    <tr>\n",
       "      <th>1</th>\n",
       "      <td>Afghanistan</td>\n",
       "      <td>AFG</td>\n",
       "      <td>2021-02-23</td>\n",
       "      <td>NaN</td>\n",
       "      <td>NaN</td>\n",
       "      <td>NaN</td>\n",
       "      <td>NaN</td>\n",
       "      <td>1367.0</td>\n",
       "      <td>NaN</td>\n",
       "      <td>NaN</td>\n",
       "      <td>NaN</td>\n",
       "      <td>35.0</td>\n",
       "      <td>BBIBP-CorV, Oxford/AstraZeneca, Pfizer/BioNTech</td>\n",
       "      <td>World Health Organization</td>\n",
       "      <td>https://covid19.who.int/</td>\n",
       "    </tr>\n",
       "    <tr>\n",
       "      <th>2</th>\n",
       "      <td>Afghanistan</td>\n",
       "      <td>AFG</td>\n",
       "      <td>2021-02-24</td>\n",
       "      <td>NaN</td>\n",
       "      <td>NaN</td>\n",
       "      <td>NaN</td>\n",
       "      <td>NaN</td>\n",
       "      <td>1367.0</td>\n",
       "      <td>NaN</td>\n",
       "      <td>NaN</td>\n",
       "      <td>NaN</td>\n",
       "      <td>35.0</td>\n",
       "      <td>BBIBP-CorV, Oxford/AstraZeneca, Pfizer/BioNTech</td>\n",
       "      <td>World Health Organization</td>\n",
       "      <td>https://covid19.who.int/</td>\n",
       "    </tr>\n",
       "    <tr>\n",
       "      <th>3</th>\n",
       "      <td>Afghanistan</td>\n",
       "      <td>AFG</td>\n",
       "      <td>2021-02-25</td>\n",
       "      <td>NaN</td>\n",
       "      <td>NaN</td>\n",
       "      <td>NaN</td>\n",
       "      <td>NaN</td>\n",
       "      <td>1367.0</td>\n",
       "      <td>NaN</td>\n",
       "      <td>NaN</td>\n",
       "      <td>NaN</td>\n",
       "      <td>35.0</td>\n",
       "      <td>BBIBP-CorV, Oxford/AstraZeneca, Pfizer/BioNTech</td>\n",
       "      <td>World Health Organization</td>\n",
       "      <td>https://covid19.who.int/</td>\n",
       "    </tr>\n",
       "    <tr>\n",
       "      <th>4</th>\n",
       "      <td>Afghanistan</td>\n",
       "      <td>AFG</td>\n",
       "      <td>2021-02-26</td>\n",
       "      <td>NaN</td>\n",
       "      <td>NaN</td>\n",
       "      <td>NaN</td>\n",
       "      <td>NaN</td>\n",
       "      <td>1367.0</td>\n",
       "      <td>NaN</td>\n",
       "      <td>NaN</td>\n",
       "      <td>NaN</td>\n",
       "      <td>35.0</td>\n",
       "      <td>BBIBP-CorV, Oxford/AstraZeneca, Pfizer/BioNTech</td>\n",
       "      <td>World Health Organization</td>\n",
       "      <td>https://covid19.who.int/</td>\n",
       "    </tr>\n",
       "  </tbody>\n",
       "</table>\n",
       "</div>"
      ],
      "text/plain": [
       "       country iso_code        date  total_vaccinations  people_vaccinated  \\\n",
       "0  Afghanistan      AFG  2021-02-22                 0.0                0.0   \n",
       "1  Afghanistan      AFG  2021-02-23                 NaN                NaN   \n",
       "2  Afghanistan      AFG  2021-02-24                 NaN                NaN   \n",
       "3  Afghanistan      AFG  2021-02-25                 NaN                NaN   \n",
       "4  Afghanistan      AFG  2021-02-26                 NaN                NaN   \n",
       "\n",
       "   people_fully_vaccinated  daily_vaccinations_raw  daily_vaccinations  \\\n",
       "0                      NaN                     NaN                 NaN   \n",
       "1                      NaN                     NaN              1367.0   \n",
       "2                      NaN                     NaN              1367.0   \n",
       "3                      NaN                     NaN              1367.0   \n",
       "4                      NaN                     NaN              1367.0   \n",
       "\n",
       "   total_vaccinations_per_hundred  people_vaccinated_per_hundred  \\\n",
       "0                             0.0                            0.0   \n",
       "1                             NaN                            NaN   \n",
       "2                             NaN                            NaN   \n",
       "3                             NaN                            NaN   \n",
       "4                             NaN                            NaN   \n",
       "\n",
       "   people_fully_vaccinated_per_hundred  daily_vaccinations_per_million  \\\n",
       "0                                  NaN                             NaN   \n",
       "1                                  NaN                            35.0   \n",
       "2                                  NaN                            35.0   \n",
       "3                                  NaN                            35.0   \n",
       "4                                  NaN                            35.0   \n",
       "\n",
       "                                          vaccines                source_name  \\\n",
       "0  BBIBP-CorV, Oxford/AstraZeneca, Pfizer/BioNTech  World Health Organization   \n",
       "1  BBIBP-CorV, Oxford/AstraZeneca, Pfizer/BioNTech  World Health Organization   \n",
       "2  BBIBP-CorV, Oxford/AstraZeneca, Pfizer/BioNTech  World Health Organization   \n",
       "3  BBIBP-CorV, Oxford/AstraZeneca, Pfizer/BioNTech  World Health Organization   \n",
       "4  BBIBP-CorV, Oxford/AstraZeneca, Pfizer/BioNTech  World Health Organization   \n",
       "\n",
       "             source_website  \n",
       "0  https://covid19.who.int/  \n",
       "1  https://covid19.who.int/  \n",
       "2  https://covid19.who.int/  \n",
       "3  https://covid19.who.int/  \n",
       "4  https://covid19.who.int/  "
      ]
     },
     "execution_count": 3,
     "metadata": {},
     "output_type": "execute_result"
    }
   ],
   "source": [
    "df= pd.read_csv(\"../input/covid-world-vaccination-progress/country_vaccinations.csv\")\n",
    "df.head()"
   ]
  },
  {
   "cell_type": "markdown",
   "id": "changing-fountain",
   "metadata": {
    "papermill": {
     "duration": 0.037997,
     "end_time": "2021-06-16T10:54:38.371424",
     "exception": false,
     "start_time": "2021-06-16T10:54:38.333427",
     "status": "completed"
    },
    "tags": []
   },
   "source": [
    "# Data Description\n",
    "1. country = The name of the country\n",
    "2. iso_code = ISO code for the country\n",
    "3. Date = Date for the data entry\n",
    "4. Total number of vaccinations = This is the absolute number of total vaccinations in the country\n",
    "5. Total number of people vaccinated = The number of people vaccinated.\n",
    "6. Total number of people fully vaccinated = The number of people fully vaccinated(may be 2-3 doses).\n",
    "7. Daily vaccinations (raw) = For a certain data entry, the number of vaccination for that date/country\n",
    "8. Daily vaccinations = for a certain data entry, the number of vaccination for that date/country;\n",
    "9. Total vaccinations per hundred = ratio (in percent) between vaccination number and total population up to the date in the country;\n",
    "10. Total number of people vaccinated per hundred = ratio (in percent) between population immunized and total population up to the date in the country;\n",
    "11. Total number of people fully vaccinated per hundred = ratio (in percent) between population fully immunized and total population up to the date in the country;\n",
    "12. Number of vaccinations per day = number of daily vaccination for that day and country\n",
    "13. Daily vaccinations per million = ratio (in ppm) between vaccination number and total population for the current date in the country\n",
    "14. Vaccines used in the country = total number of vaccines used in the country (up to date);\n",
    "15. Source name = source of the information (national authority, international organization, local organization etc.);\n",
    "16. Source website = website of the source of information;"
   ]
  },
  {
   "cell_type": "code",
   "execution_count": 4,
   "id": "checked-football",
   "metadata": {
    "execution": {
     "iopub.execute_input": "2021-06-16T10:54:38.453572Z",
     "iopub.status.busy": "2021-06-16T10:54:38.452897Z",
     "iopub.status.idle": "2021-06-16T10:54:38.486900Z",
     "shell.execute_reply": "2021-06-16T10:54:38.487635Z",
     "shell.execute_reply.started": "2021-06-16T10:27:18.497389Z"
    },
    "papermill": {
     "duration": 0.078448,
     "end_time": "2021-06-16T10:54:38.487884",
     "exception": false,
     "start_time": "2021-06-16T10:54:38.409436",
     "status": "completed"
    },
    "tags": []
   },
   "outputs": [
    {
     "name": "stdout",
     "output_type": "stream",
     "text": [
      "<class 'pandas.core.frame.DataFrame'>\n",
      "RangeIndex: 24620 entries, 0 to 24619\n",
      "Data columns (total 15 columns):\n",
      " #   Column                               Non-Null Count  Dtype  \n",
      "---  ------                               --------------  -----  \n",
      " 0   country                              24620 non-null  object \n",
      " 1   iso_code                             24620 non-null  object \n",
      " 2   date                                 24620 non-null  object \n",
      " 3   total_vaccinations                   13858 non-null  float64\n",
      " 4   people_vaccinated                    13060 non-null  float64\n",
      " 5   people_fully_vaccinated              10392 non-null  float64\n",
      " 6   daily_vaccinations_raw               11461 non-null  float64\n",
      " 7   daily_vaccinations                   24389 non-null  float64\n",
      " 8   total_vaccinations_per_hundred       13858 non-null  float64\n",
      " 9   people_vaccinated_per_hundred        13060 non-null  float64\n",
      " 10  people_fully_vaccinated_per_hundred  10392 non-null  float64\n",
      " 11  daily_vaccinations_per_million       24389 non-null  float64\n",
      " 12  vaccines                             24620 non-null  object \n",
      " 13  source_name                          24620 non-null  object \n",
      " 14  source_website                       24620 non-null  object \n",
      "dtypes: float64(9), object(6)\n",
      "memory usage: 2.8+ MB\n"
     ]
    }
   ],
   "source": [
    "# Let's check the information in this dataset\n",
    "df.info()"
   ]
  },
  {
   "cell_type": "code",
   "execution_count": 5,
   "id": "spiritual-bones",
   "metadata": {
    "execution": {
     "iopub.execute_input": "2021-06-16T10:54:38.569209Z",
     "iopub.status.busy": "2021-06-16T10:54:38.568529Z",
     "iopub.status.idle": "2021-06-16T10:54:38.590921Z",
     "shell.execute_reply": "2021-06-16T10:54:38.591412Z",
     "shell.execute_reply.started": "2021-06-16T10:27:18.531149Z"
    },
    "papermill": {
     "duration": 0.064414,
     "end_time": "2021-06-16T10:54:38.591620",
     "exception": false,
     "start_time": "2021-06-16T10:54:38.527206",
     "status": "completed"
    },
    "tags": []
   },
   "outputs": [
    {
     "data": {
      "text/plain": [
       "country                                    0\n",
       "iso_code                                   0\n",
       "date                                       0\n",
       "total_vaccinations                     10762\n",
       "people_vaccinated                      11560\n",
       "people_fully_vaccinated                14228\n",
       "daily_vaccinations_raw                 13159\n",
       "daily_vaccinations                       231\n",
       "total_vaccinations_per_hundred         10762\n",
       "people_vaccinated_per_hundred          11560\n",
       "people_fully_vaccinated_per_hundred    14228\n",
       "daily_vaccinations_per_million           231\n",
       "vaccines                                   0\n",
       "source_name                                0\n",
       "source_website                             0\n",
       "dtype: int64"
      ]
     },
     "execution_count": 5,
     "metadata": {},
     "output_type": "execute_result"
    }
   ],
   "source": [
    "# Check the NULL VAlues\n",
    "df.isnull().sum()"
   ]
  },
  {
   "cell_type": "code",
   "execution_count": 6,
   "id": "architectural-pipeline",
   "metadata": {
    "execution": {
     "iopub.execute_input": "2021-06-16T10:54:38.673441Z",
     "iopub.status.busy": "2021-06-16T10:54:38.672768Z",
     "iopub.status.idle": "2021-06-16T10:54:38.686281Z",
     "shell.execute_reply": "2021-06-16T10:54:38.686787Z",
     "shell.execute_reply.started": "2021-06-16T10:27:18.559117Z"
    },
    "papermill": {
     "duration": 0.055867,
     "end_time": "2021-06-16T10:54:38.686976",
     "exception": false,
     "start_time": "2021-06-16T10:54:38.631109",
     "status": "completed"
    },
    "tags": []
   },
   "outputs": [],
   "source": [
    "#converting date to date\n",
    "df['date'] = pd.to_datetime(df['date'])"
   ]
  },
  {
   "cell_type": "markdown",
   "id": "heard-savings",
   "metadata": {
    "papermill": {
     "duration": 0.038725,
     "end_time": "2021-06-16T10:54:38.764700",
     "exception": false,
     "start_time": "2021-06-16T10:54:38.725975",
     "status": "completed"
    },
    "tags": []
   },
   "source": [
    "# 1. Total Vaccinations among Countries? What country has vaccinated more people?"
   ]
  },
  {
   "cell_type": "code",
   "execution_count": 7,
   "id": "diagnostic-cemetery",
   "metadata": {
    "execution": {
     "iopub.execute_input": "2021-06-16T10:54:38.845437Z",
     "iopub.status.busy": "2021-06-16T10:54:38.844838Z",
     "iopub.status.idle": "2021-06-16T10:54:38.869889Z",
     "shell.execute_reply": "2021-06-16T10:54:38.869310Z",
     "shell.execute_reply.started": "2021-06-16T10:27:18.635160Z"
    },
    "papermill": {
     "duration": 0.066522,
     "end_time": "2021-06-16T10:54:38.870029",
     "exception": false,
     "start_time": "2021-06-16T10:54:38.803507",
     "status": "completed"
    },
    "tags": []
   },
   "outputs": [
    {
     "data": {
      "text/html": [
       "<div>\n",
       "<style scoped>\n",
       "    .dataframe tbody tr th:only-of-type {\n",
       "        vertical-align: middle;\n",
       "    }\n",
       "\n",
       "    .dataframe tbody tr th {\n",
       "        vertical-align: top;\n",
       "    }\n",
       "\n",
       "    .dataframe thead th {\n",
       "        text-align: right;\n",
       "    }\n",
       "</style>\n",
       "<table border=\"1\" class=\"dataframe\">\n",
       "  <thead>\n",
       "    <tr style=\"text-align: right;\">\n",
       "      <th></th>\n",
       "      <th>country</th>\n",
       "      <th>iso_code</th>\n",
       "      <th>date</th>\n",
       "      <th>total_vaccinations</th>\n",
       "      <th>people_vaccinated</th>\n",
       "      <th>people_fully_vaccinated</th>\n",
       "      <th>daily_vaccinations_raw</th>\n",
       "      <th>daily_vaccinations</th>\n",
       "      <th>total_vaccinations_per_hundred</th>\n",
       "      <th>people_vaccinated_per_hundred</th>\n",
       "      <th>people_fully_vaccinated_per_hundred</th>\n",
       "      <th>daily_vaccinations_per_million</th>\n",
       "      <th>vaccines</th>\n",
       "      <th>source_name</th>\n",
       "      <th>source_website</th>\n",
       "    </tr>\n",
       "  </thead>\n",
       "  <tbody>\n",
       "    <tr>\n",
       "      <th>0</th>\n",
       "      <td>Afghanistan</td>\n",
       "      <td>AFG</td>\n",
       "      <td>2021-02-22</td>\n",
       "      <td>0.0</td>\n",
       "      <td>0.0</td>\n",
       "      <td>NaN</td>\n",
       "      <td>NaN</td>\n",
       "      <td>NaN</td>\n",
       "      <td>0.0</td>\n",
       "      <td>0.0</td>\n",
       "      <td>NaN</td>\n",
       "      <td>NaN</td>\n",
       "      <td>BBIBP-CorV, Oxford/AstraZeneca, Pfizer/BioNTech</td>\n",
       "      <td>World Health Organization</td>\n",
       "      <td>https://covid19.who.int/</td>\n",
       "    </tr>\n",
       "    <tr>\n",
       "      <th>1</th>\n",
       "      <td>Afghanistan</td>\n",
       "      <td>AFG</td>\n",
       "      <td>2021-02-23</td>\n",
       "      <td>NaN</td>\n",
       "      <td>NaN</td>\n",
       "      <td>NaN</td>\n",
       "      <td>NaN</td>\n",
       "      <td>1367.0</td>\n",
       "      <td>NaN</td>\n",
       "      <td>NaN</td>\n",
       "      <td>NaN</td>\n",
       "      <td>35.0</td>\n",
       "      <td>BBIBP-CorV, Oxford/AstraZeneca, Pfizer/BioNTech</td>\n",
       "      <td>World Health Organization</td>\n",
       "      <td>https://covid19.who.int/</td>\n",
       "    </tr>\n",
       "    <tr>\n",
       "      <th>2</th>\n",
       "      <td>Afghanistan</td>\n",
       "      <td>AFG</td>\n",
       "      <td>2021-02-24</td>\n",
       "      <td>NaN</td>\n",
       "      <td>NaN</td>\n",
       "      <td>NaN</td>\n",
       "      <td>NaN</td>\n",
       "      <td>1367.0</td>\n",
       "      <td>NaN</td>\n",
       "      <td>NaN</td>\n",
       "      <td>NaN</td>\n",
       "      <td>35.0</td>\n",
       "      <td>BBIBP-CorV, Oxford/AstraZeneca, Pfizer/BioNTech</td>\n",
       "      <td>World Health Organization</td>\n",
       "      <td>https://covid19.who.int/</td>\n",
       "    </tr>\n",
       "    <tr>\n",
       "      <th>3</th>\n",
       "      <td>Afghanistan</td>\n",
       "      <td>AFG</td>\n",
       "      <td>2021-02-25</td>\n",
       "      <td>NaN</td>\n",
       "      <td>NaN</td>\n",
       "      <td>NaN</td>\n",
       "      <td>NaN</td>\n",
       "      <td>1367.0</td>\n",
       "      <td>NaN</td>\n",
       "      <td>NaN</td>\n",
       "      <td>NaN</td>\n",
       "      <td>35.0</td>\n",
       "      <td>BBIBP-CorV, Oxford/AstraZeneca, Pfizer/BioNTech</td>\n",
       "      <td>World Health Organization</td>\n",
       "      <td>https://covid19.who.int/</td>\n",
       "    </tr>\n",
       "    <tr>\n",
       "      <th>4</th>\n",
       "      <td>Afghanistan</td>\n",
       "      <td>AFG</td>\n",
       "      <td>2021-02-26</td>\n",
       "      <td>NaN</td>\n",
       "      <td>NaN</td>\n",
       "      <td>NaN</td>\n",
       "      <td>NaN</td>\n",
       "      <td>1367.0</td>\n",
       "      <td>NaN</td>\n",
       "      <td>NaN</td>\n",
       "      <td>NaN</td>\n",
       "      <td>35.0</td>\n",
       "      <td>BBIBP-CorV, Oxford/AstraZeneca, Pfizer/BioNTech</td>\n",
       "      <td>World Health Organization</td>\n",
       "      <td>https://covid19.who.int/</td>\n",
       "    </tr>\n",
       "  </tbody>\n",
       "</table>\n",
       "</div>"
      ],
      "text/plain": [
       "       country iso_code       date  total_vaccinations  people_vaccinated  \\\n",
       "0  Afghanistan      AFG 2021-02-22                 0.0                0.0   \n",
       "1  Afghanistan      AFG 2021-02-23                 NaN                NaN   \n",
       "2  Afghanistan      AFG 2021-02-24                 NaN                NaN   \n",
       "3  Afghanistan      AFG 2021-02-25                 NaN                NaN   \n",
       "4  Afghanistan      AFG 2021-02-26                 NaN                NaN   \n",
       "\n",
       "   people_fully_vaccinated  daily_vaccinations_raw  daily_vaccinations  \\\n",
       "0                      NaN                     NaN                 NaN   \n",
       "1                      NaN                     NaN              1367.0   \n",
       "2                      NaN                     NaN              1367.0   \n",
       "3                      NaN                     NaN              1367.0   \n",
       "4                      NaN                     NaN              1367.0   \n",
       "\n",
       "   total_vaccinations_per_hundred  people_vaccinated_per_hundred  \\\n",
       "0                             0.0                            0.0   \n",
       "1                             NaN                            NaN   \n",
       "2                             NaN                            NaN   \n",
       "3                             NaN                            NaN   \n",
       "4                             NaN                            NaN   \n",
       "\n",
       "   people_fully_vaccinated_per_hundred  daily_vaccinations_per_million  \\\n",
       "0                                  NaN                             NaN   \n",
       "1                                  NaN                            35.0   \n",
       "2                                  NaN                            35.0   \n",
       "3                                  NaN                            35.0   \n",
       "4                                  NaN                            35.0   \n",
       "\n",
       "                                          vaccines                source_name  \\\n",
       "0  BBIBP-CorV, Oxford/AstraZeneca, Pfizer/BioNTech  World Health Organization   \n",
       "1  BBIBP-CorV, Oxford/AstraZeneca, Pfizer/BioNTech  World Health Organization   \n",
       "2  BBIBP-CorV, Oxford/AstraZeneca, Pfizer/BioNTech  World Health Organization   \n",
       "3  BBIBP-CorV, Oxford/AstraZeneca, Pfizer/BioNTech  World Health Organization   \n",
       "4  BBIBP-CorV, Oxford/AstraZeneca, Pfizer/BioNTech  World Health Organization   \n",
       "\n",
       "             source_website  \n",
       "0  https://covid19.who.int/  \n",
       "1  https://covid19.who.int/  \n",
       "2  https://covid19.who.int/  \n",
       "3  https://covid19.who.int/  \n",
       "4  https://covid19.who.int/  "
      ]
     },
     "execution_count": 7,
     "metadata": {},
     "output_type": "execute_result"
    }
   ],
   "source": [
    "df.head()"
   ]
  },
  {
   "cell_type": "code",
   "execution_count": 8,
   "id": "marine-address",
   "metadata": {
    "execution": {
     "iopub.execute_input": "2021-06-16T10:54:38.952619Z",
     "iopub.status.busy": "2021-06-16T10:54:38.951974Z",
     "iopub.status.idle": "2021-06-16T10:54:38.971267Z",
     "shell.execute_reply": "2021-06-16T10:54:38.970108Z",
     "shell.execute_reply.started": "2021-06-16T10:27:18.662575Z"
    },
    "papermill": {
     "duration": 0.061616,
     "end_time": "2021-06-16T10:54:38.971425",
     "exception": false,
     "start_time": "2021-06-16T10:54:38.909809",
     "status": "completed"
    },
    "tags": []
   },
   "outputs": [],
   "source": [
    "df[\"people_vaccinated\"]= df.groupby(\"country\").total_vaccinations.tail(1)\n",
    "vaccination_country=df.groupby(\"country\")[\"people_vaccinated\"].mean().sort_values(ascending= False).head(10).reset_index()"
   ]
  },
  {
   "cell_type": "code",
   "execution_count": 9,
   "id": "documented-terrace",
   "metadata": {
    "execution": {
     "iopub.execute_input": "2021-06-16T10:54:39.063433Z",
     "iopub.status.busy": "2021-06-16T10:54:39.062760Z",
     "iopub.status.idle": "2021-06-16T10:54:39.066093Z",
     "shell.execute_reply": "2021-06-16T10:54:39.066598Z",
     "shell.execute_reply.started": "2021-06-16T10:27:18.687727Z"
    },
    "papermill": {
     "duration": 0.055394,
     "end_time": "2021-06-16T10:54:39.066767",
     "exception": false,
     "start_time": "2021-06-16T10:54:39.011373",
     "status": "completed"
    },
    "tags": []
   },
   "outputs": [
    {
     "data": {
      "text/html": [
       "<div>\n",
       "<style scoped>\n",
       "    .dataframe tbody tr th:only-of-type {\n",
       "        vertical-align: middle;\n",
       "    }\n",
       "\n",
       "    .dataframe tbody tr th {\n",
       "        vertical-align: top;\n",
       "    }\n",
       "\n",
       "    .dataframe thead th {\n",
       "        text-align: right;\n",
       "    }\n",
       "</style>\n",
       "<table border=\"1\" class=\"dataframe\">\n",
       "  <thead>\n",
       "    <tr style=\"text-align: right;\">\n",
       "      <th></th>\n",
       "      <th>country</th>\n",
       "      <th>people_vaccinated</th>\n",
       "    </tr>\n",
       "  </thead>\n",
       "  <tbody>\n",
       "    <tr>\n",
       "      <th>0</th>\n",
       "      <td>China</td>\n",
       "      <td>904134000.0</td>\n",
       "    </tr>\n",
       "    <tr>\n",
       "      <th>1</th>\n",
       "      <td>United States</td>\n",
       "      <td>310645827.0</td>\n",
       "    </tr>\n",
       "    <tr>\n",
       "      <th>2</th>\n",
       "      <td>India</td>\n",
       "      <td>252760364.0</td>\n",
       "    </tr>\n",
       "    <tr>\n",
       "      <th>3</th>\n",
       "      <td>Brazil</td>\n",
       "      <td>78906225.0</td>\n",
       "    </tr>\n",
       "    <tr>\n",
       "      <th>4</th>\n",
       "      <td>United Kingdom</td>\n",
       "      <td>71672208.0</td>\n",
       "    </tr>\n",
       "    <tr>\n",
       "      <th>5</th>\n",
       "      <td>Germany</td>\n",
       "      <td>60735326.0</td>\n",
       "    </tr>\n",
       "    <tr>\n",
       "      <th>6</th>\n",
       "      <td>England</td>\n",
       "      <td>60243055.0</td>\n",
       "    </tr>\n",
       "    <tr>\n",
       "      <th>7</th>\n",
       "      <td>France</td>\n",
       "      <td>44304266.0</td>\n",
       "    </tr>\n",
       "    <tr>\n",
       "      <th>8</th>\n",
       "      <td>Italy</td>\n",
       "      <td>42734542.0</td>\n",
       "    </tr>\n",
       "    <tr>\n",
       "      <th>9</th>\n",
       "      <td>Mexico</td>\n",
       "      <td>37521976.0</td>\n",
       "    </tr>\n",
       "  </tbody>\n",
       "</table>\n",
       "</div>"
      ],
      "text/plain": [
       "          country  people_vaccinated\n",
       "0           China        904134000.0\n",
       "1   United States        310645827.0\n",
       "2           India        252760364.0\n",
       "3          Brazil         78906225.0\n",
       "4  United Kingdom         71672208.0\n",
       "5         Germany         60735326.0\n",
       "6         England         60243055.0\n",
       "7          France         44304266.0\n",
       "8           Italy         42734542.0\n",
       "9          Mexico         37521976.0"
      ]
     },
     "execution_count": 9,
     "metadata": {},
     "output_type": "execute_result"
    }
   ],
   "source": [
    "vaccination_country"
   ]
  },
  {
   "cell_type": "code",
   "execution_count": 10,
   "id": "final-creature",
   "metadata": {
    "execution": {
     "iopub.execute_input": "2021-06-16T10:54:39.160523Z",
     "iopub.status.busy": "2021-06-16T10:54:39.159819Z",
     "iopub.status.idle": "2021-06-16T10:54:39.979176Z",
     "shell.execute_reply": "2021-06-16T10:54:39.979695Z",
     "shell.execute_reply.started": "2021-06-16T10:27:18.710277Z"
    },
    "papermill": {
     "duration": 0.872582,
     "end_time": "2021-06-16T10:54:39.979867",
     "exception": false,
     "start_time": "2021-06-16T10:54:39.107285",
     "status": "completed"
    },
    "tags": []
   },
   "outputs": [
    {
     "data": {
      "application/vnd.plotly.v1+json": {
       "config": {
        "linkText": "Export to plot.ly",
        "plotlyServerURL": "https://plot.ly",
        "showLink": false
       },
       "data": [
        {
         "cells": {
          "align": [
           "center"
          ],
          "fill": {
           "color": [
            "#25FEFD",
            "white"
           ]
          },
          "height": 20,
          "values": [
           [
            "China",
            "United States",
            "India",
            "Brazil",
            "United Kingdom",
            "Germany",
            "England",
            "France",
            "Italy",
            "Mexico"
           ],
           [
            904134000.0,
            310645827.0,
            252760364.0,
            78906225.0,
            71672208.0,
            60735326.0,
            60243055.0,
            44304266.0,
            42734542.0,
            37521976.0
           ]
          ]
         },
         "domain": {
          "x": [
           0,
           0.52
          ],
          "y": [
           0,
           1.0
          ]
         },
         "header": {
          "align": [
           "center"
          ],
          "fill": {
           "color": "#119DFF"
          },
          "font": {
           "color": "white",
           "size": 14
          },
          "height": 30,
          "values": [
           "Country",
           "Total vaccinations"
          ]
         },
         "type": "table"
        },
        {
         "marker": {
          "color": "blue"
         },
         "opacity": 0.6,
         "type": "bar",
         "x": [
          "China",
          "United States",
          "India",
          "Brazil",
          "United Kingdom",
          "Germany",
          "England",
          "France",
          "Italy",
          "Mexico"
         ],
         "xaxis": "x",
         "y": [
          904134000.0,
          310645827.0,
          252760364.0,
          78906225.0,
          71672208.0,
          60735326.0,
          60243055.0,
          44304266.0,
          42734542.0,
          37521976.0
         ],
         "yaxis": "y"
        }
       ],
       "layout": {
        "autosize": false,
        "height": 400,
        "showlegend": false,
        "template": {
         "data": {
          "bar": [
           {
            "error_x": {
             "color": "#2a3f5f"
            },
            "error_y": {
             "color": "#2a3f5f"
            },
            "marker": {
             "line": {
              "color": "#E5ECF6",
              "width": 0.5
             }
            },
            "type": "bar"
           }
          ],
          "barpolar": [
           {
            "marker": {
             "line": {
              "color": "#E5ECF6",
              "width": 0.5
             }
            },
            "type": "barpolar"
           }
          ],
          "carpet": [
           {
            "aaxis": {
             "endlinecolor": "#2a3f5f",
             "gridcolor": "white",
             "linecolor": "white",
             "minorgridcolor": "white",
             "startlinecolor": "#2a3f5f"
            },
            "baxis": {
             "endlinecolor": "#2a3f5f",
             "gridcolor": "white",
             "linecolor": "white",
             "minorgridcolor": "white",
             "startlinecolor": "#2a3f5f"
            },
            "type": "carpet"
           }
          ],
          "choropleth": [
           {
            "colorbar": {
             "outlinewidth": 0,
             "ticks": ""
            },
            "type": "choropleth"
           }
          ],
          "contour": [
           {
            "colorbar": {
             "outlinewidth": 0,
             "ticks": ""
            },
            "colorscale": [
             [
              0.0,
              "#0d0887"
             ],
             [
              0.1111111111111111,
              "#46039f"
             ],
             [
              0.2222222222222222,
              "#7201a8"
             ],
             [
              0.3333333333333333,
              "#9c179e"
             ],
             [
              0.4444444444444444,
              "#bd3786"
             ],
             [
              0.5555555555555556,
              "#d8576b"
             ],
             [
              0.6666666666666666,
              "#ed7953"
             ],
             [
              0.7777777777777778,
              "#fb9f3a"
             ],
             [
              0.8888888888888888,
              "#fdca26"
             ],
             [
              1.0,
              "#f0f921"
             ]
            ],
            "type": "contour"
           }
          ],
          "contourcarpet": [
           {
            "colorbar": {
             "outlinewidth": 0,
             "ticks": ""
            },
            "type": "contourcarpet"
           }
          ],
          "heatmap": [
           {
            "colorbar": {
             "outlinewidth": 0,
             "ticks": ""
            },
            "colorscale": [
             [
              0.0,
              "#0d0887"
             ],
             [
              0.1111111111111111,
              "#46039f"
             ],
             [
              0.2222222222222222,
              "#7201a8"
             ],
             [
              0.3333333333333333,
              "#9c179e"
             ],
             [
              0.4444444444444444,
              "#bd3786"
             ],
             [
              0.5555555555555556,
              "#d8576b"
             ],
             [
              0.6666666666666666,
              "#ed7953"
             ],
             [
              0.7777777777777778,
              "#fb9f3a"
             ],
             [
              0.8888888888888888,
              "#fdca26"
             ],
             [
              1.0,
              "#f0f921"
             ]
            ],
            "type": "heatmap"
           }
          ],
          "heatmapgl": [
           {
            "colorbar": {
             "outlinewidth": 0,
             "ticks": ""
            },
            "colorscale": [
             [
              0.0,
              "#0d0887"
             ],
             [
              0.1111111111111111,
              "#46039f"
             ],
             [
              0.2222222222222222,
              "#7201a8"
             ],
             [
              0.3333333333333333,
              "#9c179e"
             ],
             [
              0.4444444444444444,
              "#bd3786"
             ],
             [
              0.5555555555555556,
              "#d8576b"
             ],
             [
              0.6666666666666666,
              "#ed7953"
             ],
             [
              0.7777777777777778,
              "#fb9f3a"
             ],
             [
              0.8888888888888888,
              "#fdca26"
             ],
             [
              1.0,
              "#f0f921"
             ]
            ],
            "type": "heatmapgl"
           }
          ],
          "histogram": [
           {
            "marker": {
             "colorbar": {
              "outlinewidth": 0,
              "ticks": ""
             }
            },
            "type": "histogram"
           }
          ],
          "histogram2d": [
           {
            "colorbar": {
             "outlinewidth": 0,
             "ticks": ""
            },
            "colorscale": [
             [
              0.0,
              "#0d0887"
             ],
             [
              0.1111111111111111,
              "#46039f"
             ],
             [
              0.2222222222222222,
              "#7201a8"
             ],
             [
              0.3333333333333333,
              "#9c179e"
             ],
             [
              0.4444444444444444,
              "#bd3786"
             ],
             [
              0.5555555555555556,
              "#d8576b"
             ],
             [
              0.6666666666666666,
              "#ed7953"
             ],
             [
              0.7777777777777778,
              "#fb9f3a"
             ],
             [
              0.8888888888888888,
              "#fdca26"
             ],
             [
              1.0,
              "#f0f921"
             ]
            ],
            "type": "histogram2d"
           }
          ],
          "histogram2dcontour": [
           {
            "colorbar": {
             "outlinewidth": 0,
             "ticks": ""
            },
            "colorscale": [
             [
              0.0,
              "#0d0887"
             ],
             [
              0.1111111111111111,
              "#46039f"
             ],
             [
              0.2222222222222222,
              "#7201a8"
             ],
             [
              0.3333333333333333,
              "#9c179e"
             ],
             [
              0.4444444444444444,
              "#bd3786"
             ],
             [
              0.5555555555555556,
              "#d8576b"
             ],
             [
              0.6666666666666666,
              "#ed7953"
             ],
             [
              0.7777777777777778,
              "#fb9f3a"
             ],
             [
              0.8888888888888888,
              "#fdca26"
             ],
             [
              1.0,
              "#f0f921"
             ]
            ],
            "type": "histogram2dcontour"
           }
          ],
          "mesh3d": [
           {
            "colorbar": {
             "outlinewidth": 0,
             "ticks": ""
            },
            "type": "mesh3d"
           }
          ],
          "parcoords": [
           {
            "line": {
             "colorbar": {
              "outlinewidth": 0,
              "ticks": ""
             }
            },
            "type": "parcoords"
           }
          ],
          "pie": [
           {
            "automargin": true,
            "type": "pie"
           }
          ],
          "scatter": [
           {
            "marker": {
             "colorbar": {
              "outlinewidth": 0,
              "ticks": ""
             }
            },
            "type": "scatter"
           }
          ],
          "scatter3d": [
           {
            "line": {
             "colorbar": {
              "outlinewidth": 0,
              "ticks": ""
             }
            },
            "marker": {
             "colorbar": {
              "outlinewidth": 0,
              "ticks": ""
             }
            },
            "type": "scatter3d"
           }
          ],
          "scattercarpet": [
           {
            "marker": {
             "colorbar": {
              "outlinewidth": 0,
              "ticks": ""
             }
            },
            "type": "scattercarpet"
           }
          ],
          "scattergeo": [
           {
            "marker": {
             "colorbar": {
              "outlinewidth": 0,
              "ticks": ""
             }
            },
            "type": "scattergeo"
           }
          ],
          "scattergl": [
           {
            "marker": {
             "colorbar": {
              "outlinewidth": 0,
              "ticks": ""
             }
            },
            "type": "scattergl"
           }
          ],
          "scattermapbox": [
           {
            "marker": {
             "colorbar": {
              "outlinewidth": 0,
              "ticks": ""
             }
            },
            "type": "scattermapbox"
           }
          ],
          "scatterpolar": [
           {
            "marker": {
             "colorbar": {
              "outlinewidth": 0,
              "ticks": ""
             }
            },
            "type": "scatterpolar"
           }
          ],
          "scatterpolargl": [
           {
            "marker": {
             "colorbar": {
              "outlinewidth": 0,
              "ticks": ""
             }
            },
            "type": "scatterpolargl"
           }
          ],
          "scatterternary": [
           {
            "marker": {
             "colorbar": {
              "outlinewidth": 0,
              "ticks": ""
             }
            },
            "type": "scatterternary"
           }
          ],
          "surface": [
           {
            "colorbar": {
             "outlinewidth": 0,
             "ticks": ""
            },
            "colorscale": [
             [
              0.0,
              "#0d0887"
             ],
             [
              0.1111111111111111,
              "#46039f"
             ],
             [
              0.2222222222222222,
              "#7201a8"
             ],
             [
              0.3333333333333333,
              "#9c179e"
             ],
             [
              0.4444444444444444,
              "#bd3786"
             ],
             [
              0.5555555555555556,
              "#d8576b"
             ],
             [
              0.6666666666666666,
              "#ed7953"
             ],
             [
              0.7777777777777778,
              "#fb9f3a"
             ],
             [
              0.8888888888888888,
              "#fdca26"
             ],
             [
              1.0,
              "#f0f921"
             ]
            ],
            "type": "surface"
           }
          ],
          "table": [
           {
            "cells": {
             "fill": {
              "color": "#EBF0F8"
             },
             "line": {
              "color": "white"
             }
            },
            "header": {
             "fill": {
              "color": "#C8D4E3"
             },
             "line": {
              "color": "white"
             }
            },
            "type": "table"
           }
          ]
         },
         "layout": {
          "annotationdefaults": {
           "arrowcolor": "#2a3f5f",
           "arrowhead": 0,
           "arrowwidth": 1
          },
          "autotypenumbers": "strict",
          "coloraxis": {
           "colorbar": {
            "outlinewidth": 0,
            "ticks": ""
           }
          },
          "colorscale": {
           "diverging": [
            [
             0,
             "#8e0152"
            ],
            [
             0.1,
             "#c51b7d"
            ],
            [
             0.2,
             "#de77ae"
            ],
            [
             0.3,
             "#f1b6da"
            ],
            [
             0.4,
             "#fde0ef"
            ],
            [
             0.5,
             "#f7f7f7"
            ],
            [
             0.6,
             "#e6f5d0"
            ],
            [
             0.7,
             "#b8e186"
            ],
            [
             0.8,
             "#7fbc41"
            ],
            [
             0.9,
             "#4d9221"
            ],
            [
             1,
             "#276419"
            ]
           ],
           "sequential": [
            [
             0.0,
             "#0d0887"
            ],
            [
             0.1111111111111111,
             "#46039f"
            ],
            [
             0.2222222222222222,
             "#7201a8"
            ],
            [
             0.3333333333333333,
             "#9c179e"
            ],
            [
             0.4444444444444444,
             "#bd3786"
            ],
            [
             0.5555555555555556,
             "#d8576b"
            ],
            [
             0.6666666666666666,
             "#ed7953"
            ],
            [
             0.7777777777777778,
             "#fb9f3a"
            ],
            [
             0.8888888888888888,
             "#fdca26"
            ],
            [
             1.0,
             "#f0f921"
            ]
           ],
           "sequentialminus": [
            [
             0.0,
             "#0d0887"
            ],
            [
             0.1111111111111111,
             "#46039f"
            ],
            [
             0.2222222222222222,
             "#7201a8"
            ],
            [
             0.3333333333333333,
             "#9c179e"
            ],
            [
             0.4444444444444444,
             "#bd3786"
            ],
            [
             0.5555555555555556,
             "#d8576b"
            ],
            [
             0.6666666666666666,
             "#ed7953"
            ],
            [
             0.7777777777777778,
             "#fb9f3a"
            ],
            [
             0.8888888888888888,
             "#fdca26"
            ],
            [
             1.0,
             "#f0f921"
            ]
           ]
          },
          "colorway": [
           "#636efa",
           "#EF553B",
           "#00cc96",
           "#ab63fa",
           "#FFA15A",
           "#19d3f3",
           "#FF6692",
           "#B6E880",
           "#FF97FF",
           "#FECB52"
          ],
          "font": {
           "color": "#2a3f5f"
          },
          "geo": {
           "bgcolor": "white",
           "lakecolor": "white",
           "landcolor": "#E5ECF6",
           "showlakes": true,
           "showland": true,
           "subunitcolor": "white"
          },
          "hoverlabel": {
           "align": "left"
          },
          "hovermode": "closest",
          "mapbox": {
           "style": "light"
          },
          "paper_bgcolor": "white",
          "plot_bgcolor": "#E5ECF6",
          "polar": {
           "angularaxis": {
            "gridcolor": "white",
            "linecolor": "white",
            "ticks": ""
           },
           "bgcolor": "#E5ECF6",
           "radialaxis": {
            "gridcolor": "white",
            "linecolor": "white",
            "ticks": ""
           }
          },
          "scene": {
           "xaxis": {
            "backgroundcolor": "#E5ECF6",
            "gridcolor": "white",
            "gridwidth": 2,
            "linecolor": "white",
            "showbackground": true,
            "ticks": "",
            "zerolinecolor": "white"
           },
           "yaxis": {
            "backgroundcolor": "#E5ECF6",
            "gridcolor": "white",
            "gridwidth": 2,
            "linecolor": "white",
            "showbackground": true,
            "ticks": "",
            "zerolinecolor": "white"
           },
           "zaxis": {
            "backgroundcolor": "#E5ECF6",
            "gridcolor": "white",
            "gridwidth": 2,
            "linecolor": "white",
            "showbackground": true,
            "ticks": "",
            "zerolinecolor": "white"
           }
          },
          "shapedefaults": {
           "line": {
            "color": "#2a3f5f"
           }
          },
          "ternary": {
           "aaxis": {
            "gridcolor": "white",
            "linecolor": "white",
            "ticks": ""
           },
           "baxis": {
            "gridcolor": "white",
            "linecolor": "white",
            "ticks": ""
           },
           "bgcolor": "#E5ECF6",
           "caxis": {
            "gridcolor": "white",
            "linecolor": "white",
            "ticks": ""
           }
          },
          "title": {
           "x": 0.05
          },
          "xaxis": {
           "automargin": true,
           "gridcolor": "white",
           "linecolor": "white",
           "ticks": "",
           "title": {
            "standoff": 15
           },
           "zerolinecolor": "white",
           "zerolinewidth": 2
          },
          "yaxis": {
           "automargin": true,
           "gridcolor": "white",
           "linecolor": "white",
           "ticks": "",
           "title": {
            "standoff": 15
           },
           "zerolinecolor": "white",
           "zerolinewidth": 2
          }
         }
        },
        "title": {
         "text": "Top-10 Countries with highest number of total vaccination"
        },
        "width": 1000,
        "xaxis": {
         "anchor": "y",
         "domain": [
          0.58,
          1
         ],
         "showticklabels": true
        },
        "yaxis": {
         "anchor": "x",
         "domain": [
          0,
          1.0
         ],
         "hoverformat": ".2f"
        }
       }
      },
      "text/html": [
       "<div>                            <div id=\"b44615dd-d8f1-4a17-b16f-dc5b52d708ba\" class=\"plotly-graph-div\" style=\"height:400px; width:1000px;\"></div>            <script type=\"text/javascript\">                require([\"plotly\"], function(Plotly) {                    window.PLOTLYENV=window.PLOTLYENV || {};                                    if (document.getElementById(\"b44615dd-d8f1-4a17-b16f-dc5b52d708ba\")) {                    Plotly.newPlot(                        \"b44615dd-d8f1-4a17-b16f-dc5b52d708ba\",                        [{\"cells\": {\"align\": [\"center\"], \"fill\": {\"color\": [\"#25FEFD\", \"white\"]}, \"height\": 20, \"values\": [[\"China\", \"United States\", \"India\", \"Brazil\", \"United Kingdom\", \"Germany\", \"England\", \"France\", \"Italy\", \"Mexico\"], [904134000.0, 310645827.0, 252760364.0, 78906225.0, 71672208.0, 60735326.0, 60243055.0, 44304266.0, 42734542.0, 37521976.0]]}, \"domain\": {\"x\": [0, 0.52], \"y\": [0, 1.0]}, \"header\": {\"align\": [\"center\"], \"fill\": {\"color\": \"#119DFF\"}, \"font\": {\"color\": \"white\", \"size\": 14}, \"height\": 30, \"values\": [\"Country\", \"Total vaccinations\"]}, \"type\": \"table\"}, {\"marker\": {\"color\": \"blue\"}, \"opacity\": 0.6, \"type\": \"bar\", \"x\": [\"China\", \"United States\", \"India\", \"Brazil\", \"United Kingdom\", \"Germany\", \"England\", \"France\", \"Italy\", \"Mexico\"], \"xaxis\": \"x\", \"y\": [904134000.0, 310645827.0, 252760364.0, 78906225.0, 71672208.0, 60735326.0, 60243055.0, 44304266.0, 42734542.0, 37521976.0], \"yaxis\": \"y\"}],                        {\"autosize\": false, \"height\": 400, \"showlegend\": false, \"template\": {\"data\": {\"bar\": [{\"error_x\": {\"color\": \"#2a3f5f\"}, \"error_y\": {\"color\": \"#2a3f5f\"}, \"marker\": {\"line\": {\"color\": \"#E5ECF6\", \"width\": 0.5}}, \"type\": \"bar\"}], \"barpolar\": [{\"marker\": {\"line\": {\"color\": \"#E5ECF6\", \"width\": 0.5}}, \"type\": \"barpolar\"}], \"carpet\": [{\"aaxis\": {\"endlinecolor\": \"#2a3f5f\", \"gridcolor\": \"white\", \"linecolor\": \"white\", \"minorgridcolor\": \"white\", \"startlinecolor\": \"#2a3f5f\"}, \"baxis\": {\"endlinecolor\": \"#2a3f5f\", \"gridcolor\": \"white\", \"linecolor\": \"white\", \"minorgridcolor\": \"white\", \"startlinecolor\": \"#2a3f5f\"}, \"type\": \"carpet\"}], \"choropleth\": [{\"colorbar\": {\"outlinewidth\": 0, \"ticks\": \"\"}, \"type\": \"choropleth\"}], \"contour\": [{\"colorbar\": {\"outlinewidth\": 0, \"ticks\": \"\"}, \"colorscale\": [[0.0, \"#0d0887\"], [0.1111111111111111, \"#46039f\"], [0.2222222222222222, \"#7201a8\"], [0.3333333333333333, \"#9c179e\"], [0.4444444444444444, \"#bd3786\"], [0.5555555555555556, \"#d8576b\"], [0.6666666666666666, \"#ed7953\"], [0.7777777777777778, \"#fb9f3a\"], [0.8888888888888888, \"#fdca26\"], [1.0, \"#f0f921\"]], \"type\": \"contour\"}], \"contourcarpet\": [{\"colorbar\": {\"outlinewidth\": 0, \"ticks\": \"\"}, \"type\": \"contourcarpet\"}], \"heatmap\": [{\"colorbar\": {\"outlinewidth\": 0, \"ticks\": \"\"}, \"colorscale\": [[0.0, \"#0d0887\"], [0.1111111111111111, \"#46039f\"], [0.2222222222222222, \"#7201a8\"], [0.3333333333333333, \"#9c179e\"], [0.4444444444444444, \"#bd3786\"], [0.5555555555555556, \"#d8576b\"], [0.6666666666666666, \"#ed7953\"], [0.7777777777777778, \"#fb9f3a\"], [0.8888888888888888, \"#fdca26\"], [1.0, \"#f0f921\"]], \"type\": \"heatmap\"}], \"heatmapgl\": [{\"colorbar\": {\"outlinewidth\": 0, \"ticks\": \"\"}, \"colorscale\": [[0.0, \"#0d0887\"], [0.1111111111111111, \"#46039f\"], [0.2222222222222222, \"#7201a8\"], [0.3333333333333333, \"#9c179e\"], [0.4444444444444444, \"#bd3786\"], [0.5555555555555556, \"#d8576b\"], [0.6666666666666666, \"#ed7953\"], [0.7777777777777778, \"#fb9f3a\"], [0.8888888888888888, \"#fdca26\"], [1.0, \"#f0f921\"]], \"type\": \"heatmapgl\"}], \"histogram\": [{\"marker\": {\"colorbar\": {\"outlinewidth\": 0, \"ticks\": \"\"}}, \"type\": \"histogram\"}], \"histogram2d\": [{\"colorbar\": {\"outlinewidth\": 0, \"ticks\": \"\"}, \"colorscale\": [[0.0, \"#0d0887\"], [0.1111111111111111, \"#46039f\"], [0.2222222222222222, \"#7201a8\"], [0.3333333333333333, \"#9c179e\"], [0.4444444444444444, \"#bd3786\"], [0.5555555555555556, \"#d8576b\"], [0.6666666666666666, \"#ed7953\"], [0.7777777777777778, \"#fb9f3a\"], [0.8888888888888888, \"#fdca26\"], [1.0, \"#f0f921\"]], \"type\": \"histogram2d\"}], \"histogram2dcontour\": [{\"colorbar\": {\"outlinewidth\": 0, \"ticks\": \"\"}, \"colorscale\": [[0.0, \"#0d0887\"], [0.1111111111111111, \"#46039f\"], [0.2222222222222222, \"#7201a8\"], [0.3333333333333333, \"#9c179e\"], [0.4444444444444444, \"#bd3786\"], [0.5555555555555556, \"#d8576b\"], [0.6666666666666666, \"#ed7953\"], [0.7777777777777778, \"#fb9f3a\"], [0.8888888888888888, \"#fdca26\"], [1.0, \"#f0f921\"]], \"type\": \"histogram2dcontour\"}], \"mesh3d\": [{\"colorbar\": {\"outlinewidth\": 0, \"ticks\": \"\"}, \"type\": \"mesh3d\"}], \"parcoords\": [{\"line\": {\"colorbar\": {\"outlinewidth\": 0, \"ticks\": \"\"}}, \"type\": \"parcoords\"}], \"pie\": [{\"automargin\": true, \"type\": \"pie\"}], \"scatter\": [{\"marker\": {\"colorbar\": {\"outlinewidth\": 0, \"ticks\": \"\"}}, \"type\": \"scatter\"}], \"scatter3d\": [{\"line\": {\"colorbar\": {\"outlinewidth\": 0, \"ticks\": \"\"}}, \"marker\": {\"colorbar\": {\"outlinewidth\": 0, \"ticks\": \"\"}}, \"type\": \"scatter3d\"}], \"scattercarpet\": [{\"marker\": {\"colorbar\": {\"outlinewidth\": 0, \"ticks\": \"\"}}, \"type\": \"scattercarpet\"}], \"scattergeo\": [{\"marker\": {\"colorbar\": {\"outlinewidth\": 0, \"ticks\": \"\"}}, \"type\": \"scattergeo\"}], \"scattergl\": [{\"marker\": {\"colorbar\": {\"outlinewidth\": 0, \"ticks\": \"\"}}, \"type\": \"scattergl\"}], \"scattermapbox\": [{\"marker\": {\"colorbar\": {\"outlinewidth\": 0, \"ticks\": \"\"}}, \"type\": \"scattermapbox\"}], \"scatterpolar\": [{\"marker\": {\"colorbar\": {\"outlinewidth\": 0, \"ticks\": \"\"}}, \"type\": \"scatterpolar\"}], \"scatterpolargl\": [{\"marker\": {\"colorbar\": {\"outlinewidth\": 0, \"ticks\": \"\"}}, \"type\": \"scatterpolargl\"}], \"scatterternary\": [{\"marker\": {\"colorbar\": {\"outlinewidth\": 0, \"ticks\": \"\"}}, \"type\": \"scatterternary\"}], \"surface\": [{\"colorbar\": {\"outlinewidth\": 0, \"ticks\": \"\"}, \"colorscale\": [[0.0, \"#0d0887\"], [0.1111111111111111, \"#46039f\"], [0.2222222222222222, \"#7201a8\"], [0.3333333333333333, \"#9c179e\"], [0.4444444444444444, \"#bd3786\"], [0.5555555555555556, \"#d8576b\"], [0.6666666666666666, \"#ed7953\"], [0.7777777777777778, \"#fb9f3a\"], [0.8888888888888888, \"#fdca26\"], [1.0, \"#f0f921\"]], \"type\": \"surface\"}], \"table\": [{\"cells\": {\"fill\": {\"color\": \"#EBF0F8\"}, \"line\": {\"color\": \"white\"}}, \"header\": {\"fill\": {\"color\": \"#C8D4E3\"}, \"line\": {\"color\": \"white\"}}, \"type\": \"table\"}]}, \"layout\": {\"annotationdefaults\": {\"arrowcolor\": \"#2a3f5f\", \"arrowhead\": 0, \"arrowwidth\": 1}, \"autotypenumbers\": \"strict\", \"coloraxis\": {\"colorbar\": {\"outlinewidth\": 0, \"ticks\": \"\"}}, \"colorscale\": {\"diverging\": [[0, \"#8e0152\"], [0.1, \"#c51b7d\"], [0.2, \"#de77ae\"], [0.3, \"#f1b6da\"], [0.4, \"#fde0ef\"], [0.5, \"#f7f7f7\"], [0.6, \"#e6f5d0\"], [0.7, \"#b8e186\"], [0.8, \"#7fbc41\"], [0.9, \"#4d9221\"], [1, \"#276419\"]], \"sequential\": [[0.0, \"#0d0887\"], [0.1111111111111111, \"#46039f\"], [0.2222222222222222, \"#7201a8\"], [0.3333333333333333, \"#9c179e\"], [0.4444444444444444, \"#bd3786\"], [0.5555555555555556, \"#d8576b\"], [0.6666666666666666, \"#ed7953\"], [0.7777777777777778, \"#fb9f3a\"], [0.8888888888888888, \"#fdca26\"], [1.0, \"#f0f921\"]], \"sequentialminus\": [[0.0, \"#0d0887\"], [0.1111111111111111, \"#46039f\"], [0.2222222222222222, \"#7201a8\"], [0.3333333333333333, \"#9c179e\"], [0.4444444444444444, \"#bd3786\"], [0.5555555555555556, \"#d8576b\"], [0.6666666666666666, \"#ed7953\"], [0.7777777777777778, \"#fb9f3a\"], [0.8888888888888888, \"#fdca26\"], [1.0, \"#f0f921\"]]}, \"colorway\": [\"#636efa\", \"#EF553B\", \"#00cc96\", \"#ab63fa\", \"#FFA15A\", \"#19d3f3\", \"#FF6692\", \"#B6E880\", \"#FF97FF\", \"#FECB52\"], \"font\": {\"color\": \"#2a3f5f\"}, \"geo\": {\"bgcolor\": \"white\", \"lakecolor\": \"white\", \"landcolor\": \"#E5ECF6\", \"showlakes\": true, \"showland\": true, \"subunitcolor\": \"white\"}, \"hoverlabel\": {\"align\": \"left\"}, \"hovermode\": \"closest\", \"mapbox\": {\"style\": \"light\"}, \"paper_bgcolor\": \"white\", \"plot_bgcolor\": \"#E5ECF6\", \"polar\": {\"angularaxis\": {\"gridcolor\": \"white\", \"linecolor\": \"white\", \"ticks\": \"\"}, \"bgcolor\": \"#E5ECF6\", \"radialaxis\": {\"gridcolor\": \"white\", \"linecolor\": \"white\", \"ticks\": \"\"}}, \"scene\": {\"xaxis\": {\"backgroundcolor\": \"#E5ECF6\", \"gridcolor\": \"white\", \"gridwidth\": 2, \"linecolor\": \"white\", \"showbackground\": true, \"ticks\": \"\", \"zerolinecolor\": \"white\"}, \"yaxis\": {\"backgroundcolor\": \"#E5ECF6\", \"gridcolor\": \"white\", \"gridwidth\": 2, \"linecolor\": \"white\", \"showbackground\": true, \"ticks\": \"\", \"zerolinecolor\": \"white\"}, \"zaxis\": {\"backgroundcolor\": \"#E5ECF6\", \"gridcolor\": \"white\", \"gridwidth\": 2, \"linecolor\": \"white\", \"showbackground\": true, \"ticks\": \"\", \"zerolinecolor\": \"white\"}}, \"shapedefaults\": {\"line\": {\"color\": \"#2a3f5f\"}}, \"ternary\": {\"aaxis\": {\"gridcolor\": \"white\", \"linecolor\": \"white\", \"ticks\": \"\"}, \"baxis\": {\"gridcolor\": \"white\", \"linecolor\": \"white\", \"ticks\": \"\"}, \"bgcolor\": \"#E5ECF6\", \"caxis\": {\"gridcolor\": \"white\", \"linecolor\": \"white\", \"ticks\": \"\"}}, \"title\": {\"x\": 0.05}, \"xaxis\": {\"automargin\": true, \"gridcolor\": \"white\", \"linecolor\": \"white\", \"ticks\": \"\", \"title\": {\"standoff\": 15}, \"zerolinecolor\": \"white\", \"zerolinewidth\": 2}, \"yaxis\": {\"automargin\": true, \"gridcolor\": \"white\", \"linecolor\": \"white\", \"ticks\": \"\", \"title\": {\"standoff\": 15}, \"zerolinecolor\": \"white\", \"zerolinewidth\": 2}}}, \"title\": {\"text\": \"Top-10 Countries with highest number of total vaccination\"}, \"width\": 1000, \"xaxis\": {\"anchor\": \"y\", \"domain\": [0.58, 1], \"showticklabels\": true}, \"yaxis\": {\"anchor\": \"x\", \"domain\": [0, 1.0], \"hoverformat\": \".2f\"}},                        {\"responsive\": true}                    ).then(function(){\n",
       "                            \n",
       "var gd = document.getElementById('b44615dd-d8f1-4a17-b16f-dc5b52d708ba');\n",
       "var x = new MutationObserver(function (mutations, observer) {{\n",
       "        var display = window.getComputedStyle(gd).display;\n",
       "        if (!display || display === 'none') {{\n",
       "            console.log([gd, 'removed!']);\n",
       "            Plotly.purge(gd);\n",
       "            observer.disconnect();\n",
       "        }}\n",
       "}});\n",
       "\n",
       "// Listen for the removal of the full notebook cells\n",
       "var notebookContainer = gd.closest('#notebook-container');\n",
       "if (notebookContainer) {{\n",
       "    x.observe(notebookContainer, {childList: true});\n",
       "}}\n",
       "\n",
       "// Listen for the clearing of the current output cell\n",
       "var outputEl = gd.closest('.output');\n",
       "if (outputEl) {{\n",
       "    x.observe(outputEl, {childList: true});\n",
       "}}\n",
       "\n",
       "                        })                };                });            </script>        </div>"
      ]
     },
     "metadata": {},
     "output_type": "display_data"
    }
   ],
   "source": [
    "# Top 10 Countries with hishest number of total vaccination\n",
    "top_10=df.groupby(\"country\")[\"people_vaccinated\"].mean().sort_values(ascending= False).head(10).reset_index()\n",
    "trace = go.Table(\n",
    "    domain=dict(x=[0, 0.52],\n",
    "                y=[0, 1.0]),\n",
    "    header=dict(values=[\"Country\",\"Total vaccinations\"],\n",
    "                fill = dict(color = '#119DFF'),\n",
    "                font = dict(color = 'white', size = 14),\n",
    "                align = ['center'],\n",
    "               height = 30),\n",
    "    cells=dict(values=[top_10['country'],top_10['people_vaccinated']],\n",
    "               fill = dict(color = ['#25FEFD', 'white']),\n",
    "               align = ['center'],height=20))\n",
    "\n",
    "trace1 = go.Bar(x=top_10['country'],\n",
    "                y=top_10['people_vaccinated'],\n",
    "                xaxis='x1',\n",
    "                yaxis='y1',\n",
    "                marker=dict(color='blue'),opacity=0.60)\n",
    "layout = dict(\n",
    "    width=1000,\n",
    "    height=400,\n",
    "    autosize=False,\n",
    "    title='Top-10 Countries with highest number of total vaccination',\n",
    "    showlegend=False,   \n",
    "    xaxis1=dict(**dict(domain=[0.58, 1], anchor='y1', showticklabels=True)),\n",
    "    yaxis1=dict(**dict(domain=[0, 1.0], anchor='x1', hoverformat='.2f')),  \n",
    ")\n",
    "fig1 = dict(data=[trace, trace1], layout=layout)\n",
    "iplot(fig1)"
   ]
  },
  {
   "cell_type": "markdown",
   "id": "radio-singles",
   "metadata": {
    "papermill": {
     "duration": 0.047579,
     "end_time": "2021-06-16T10:54:40.074849",
     "exception": false,
     "start_time": "2021-06-16T10:54:40.027270",
     "status": "completed"
    },
    "tags": []
   },
   "source": [
    "# 2. Which country has most number of Fully Vaccinated People?"
   ]
  },
  {
   "cell_type": "code",
   "execution_count": 11,
   "id": "animal-checklist",
   "metadata": {
    "execution": {
     "iopub.execute_input": "2021-06-16T10:54:40.177003Z",
     "iopub.status.busy": "2021-06-16T10:54:40.175903Z",
     "iopub.status.idle": "2021-06-16T10:54:40.187207Z",
     "shell.execute_reply": "2021-06-16T10:54:40.186674Z",
     "shell.execute_reply.started": "2021-06-16T10:27:18.787202Z"
    },
    "papermill": {
     "duration": 0.063688,
     "end_time": "2021-06-16T10:54:40.187348",
     "exception": false,
     "start_time": "2021-06-16T10:54:40.123660",
     "status": "completed"
    },
    "tags": []
   },
   "outputs": [],
   "source": [
    "fully_vaccinated=df.groupby(\"country\")[\"people_fully_vaccinated\"].max().sort_values(ascending= False).head(10).reset_index()"
   ]
  },
  {
   "cell_type": "code",
   "execution_count": 12,
   "id": "discrete-recipient",
   "metadata": {
    "execution": {
     "iopub.execute_input": "2021-06-16T10:54:40.292307Z",
     "iopub.status.busy": "2021-06-16T10:54:40.291641Z",
     "iopub.status.idle": "2021-06-16T10:54:40.294447Z",
     "shell.execute_reply": "2021-06-16T10:54:40.295027Z",
     "shell.execute_reply.started": "2021-06-16T10:27:18.827204Z"
    },
    "papermill": {
     "duration": 0.060642,
     "end_time": "2021-06-16T10:54:40.295191",
     "exception": false,
     "start_time": "2021-06-16T10:54:40.234549",
     "status": "completed"
    },
    "tags": []
   },
   "outputs": [
    {
     "data": {
      "text/html": [
       "<div>\n",
       "<style scoped>\n",
       "    .dataframe tbody tr th:only-of-type {\n",
       "        vertical-align: middle;\n",
       "    }\n",
       "\n",
       "    .dataframe tbody tr th {\n",
       "        vertical-align: top;\n",
       "    }\n",
       "\n",
       "    .dataframe thead th {\n",
       "        text-align: right;\n",
       "    }\n",
       "</style>\n",
       "<table border=\"1\" class=\"dataframe\">\n",
       "  <thead>\n",
       "    <tr style=\"text-align: right;\">\n",
       "      <th></th>\n",
       "      <th>country</th>\n",
       "      <th>people_fully_vaccinated</th>\n",
       "    </tr>\n",
       "  </thead>\n",
       "  <tbody>\n",
       "    <tr>\n",
       "      <th>0</th>\n",
       "      <td>China</td>\n",
       "      <td>223299000.0</td>\n",
       "    </tr>\n",
       "    <tr>\n",
       "      <th>1</th>\n",
       "      <td>United States</td>\n",
       "      <td>144919339.0</td>\n",
       "    </tr>\n",
       "    <tr>\n",
       "      <th>2</th>\n",
       "      <td>India</td>\n",
       "      <td>47189318.0</td>\n",
       "    </tr>\n",
       "    <tr>\n",
       "      <th>3</th>\n",
       "      <td>United Kingdom</td>\n",
       "      <td>29973779.0</td>\n",
       "    </tr>\n",
       "    <tr>\n",
       "      <th>4</th>\n",
       "      <td>England</td>\n",
       "      <td>25391916.0</td>\n",
       "    </tr>\n",
       "    <tr>\n",
       "      <th>5</th>\n",
       "      <td>Brazil</td>\n",
       "      <td>23679758.0</td>\n",
       "    </tr>\n",
       "    <tr>\n",
       "      <th>6</th>\n",
       "      <td>Germany</td>\n",
       "      <td>21812429.0</td>\n",
       "    </tr>\n",
       "    <tr>\n",
       "      <th>7</th>\n",
       "      <td>Mexico</td>\n",
       "      <td>15062873.0</td>\n",
       "    </tr>\n",
       "    <tr>\n",
       "      <th>8</th>\n",
       "      <td>France</td>\n",
       "      <td>14371963.0</td>\n",
       "    </tr>\n",
       "    <tr>\n",
       "      <th>9</th>\n",
       "      <td>Russia</td>\n",
       "      <td>14332077.0</td>\n",
       "    </tr>\n",
       "  </tbody>\n",
       "</table>\n",
       "</div>"
      ],
      "text/plain": [
       "          country  people_fully_vaccinated\n",
       "0           China              223299000.0\n",
       "1   United States              144919339.0\n",
       "2           India               47189318.0\n",
       "3  United Kingdom               29973779.0\n",
       "4         England               25391916.0\n",
       "5          Brazil               23679758.0\n",
       "6         Germany               21812429.0\n",
       "7          Mexico               15062873.0\n",
       "8          France               14371963.0\n",
       "9          Russia               14332077.0"
      ]
     },
     "execution_count": 12,
     "metadata": {},
     "output_type": "execute_result"
    }
   ],
   "source": [
    "fully_vaccinated"
   ]
  },
  {
   "cell_type": "code",
   "execution_count": 13,
   "id": "advisory-edmonton",
   "metadata": {
    "execution": {
     "iopub.execute_input": "2021-06-16T10:54:40.393026Z",
     "iopub.status.busy": "2021-06-16T10:54:40.392387Z",
     "iopub.status.idle": "2021-06-16T10:54:40.446254Z",
     "shell.execute_reply": "2021-06-16T10:54:40.446792Z",
     "shell.execute_reply.started": "2021-06-16T10:41:21.628826Z"
    },
    "papermill": {
     "duration": 0.104381,
     "end_time": "2021-06-16T10:54:40.446968",
     "exception": false,
     "start_time": "2021-06-16T10:54:40.342587",
     "status": "completed"
    },
    "tags": []
   },
   "outputs": [
    {
     "data": {
      "application/vnd.plotly.v1+json": {
       "config": {
        "linkText": "Export to plot.ly",
        "plotlyServerURL": "https://plot.ly",
        "showLink": false
       },
       "data": [
        {
         "cells": {
          "align": [
           "center"
          ],
          "fill": {
           "color": [
            "lime",
            "white"
           ]
          },
          "height": 20,
          "values": [
           [
            "China",
            "United States",
            "India",
            "United Kingdom",
            "England",
            "Brazil",
            "Germany",
            "Mexico",
            "France",
            "Russia"
           ],
           [
            223299000.0,
            144919339.0,
            47189318.0,
            29973779.0,
            25391916.0,
            23679758.0,
            21812429.0,
            15062873.0,
            14371963.0,
            14332077.0
           ]
          ]
         },
         "domain": {
          "x": [
           0,
           0.52
          ],
          "y": [
           0,
           1.0
          ]
         },
         "header": {
          "align": [
           "center"
          ],
          "fill": {
           "color": "#119DFF"
          },
          "font": {
           "color": "white",
           "size": 14
          },
          "height": 30,
          "values": [
           "country",
           "people_fully_vaccinated"
          ]
         },
         "type": "table"
        },
        {
         "marker": {
          "color": "lime"
         },
         "opacity": 0.6,
         "type": "bar",
         "x": [
          "China",
          "United States",
          "India",
          "United Kingdom",
          "England",
          "Brazil",
          "Germany",
          "Mexico",
          "France",
          "Russia"
         ],
         "xaxis": "x",
         "y": [
          223299000.0,
          144919339.0,
          47189318.0,
          29973779.0,
          25391916.0,
          23679758.0,
          21812429.0,
          15062873.0,
          14371963.0,
          14332077.0
         ],
         "yaxis": "y"
        }
       ],
       "layout": {
        "autosize": false,
        "height": 400,
        "showlegend": false,
        "template": {
         "data": {
          "bar": [
           {
            "error_x": {
             "color": "#2a3f5f"
            },
            "error_y": {
             "color": "#2a3f5f"
            },
            "marker": {
             "line": {
              "color": "#E5ECF6",
              "width": 0.5
             }
            },
            "type": "bar"
           }
          ],
          "barpolar": [
           {
            "marker": {
             "line": {
              "color": "#E5ECF6",
              "width": 0.5
             }
            },
            "type": "barpolar"
           }
          ],
          "carpet": [
           {
            "aaxis": {
             "endlinecolor": "#2a3f5f",
             "gridcolor": "white",
             "linecolor": "white",
             "minorgridcolor": "white",
             "startlinecolor": "#2a3f5f"
            },
            "baxis": {
             "endlinecolor": "#2a3f5f",
             "gridcolor": "white",
             "linecolor": "white",
             "minorgridcolor": "white",
             "startlinecolor": "#2a3f5f"
            },
            "type": "carpet"
           }
          ],
          "choropleth": [
           {
            "colorbar": {
             "outlinewidth": 0,
             "ticks": ""
            },
            "type": "choropleth"
           }
          ],
          "contour": [
           {
            "colorbar": {
             "outlinewidth": 0,
             "ticks": ""
            },
            "colorscale": [
             [
              0.0,
              "#0d0887"
             ],
             [
              0.1111111111111111,
              "#46039f"
             ],
             [
              0.2222222222222222,
              "#7201a8"
             ],
             [
              0.3333333333333333,
              "#9c179e"
             ],
             [
              0.4444444444444444,
              "#bd3786"
             ],
             [
              0.5555555555555556,
              "#d8576b"
             ],
             [
              0.6666666666666666,
              "#ed7953"
             ],
             [
              0.7777777777777778,
              "#fb9f3a"
             ],
             [
              0.8888888888888888,
              "#fdca26"
             ],
             [
              1.0,
              "#f0f921"
             ]
            ],
            "type": "contour"
           }
          ],
          "contourcarpet": [
           {
            "colorbar": {
             "outlinewidth": 0,
             "ticks": ""
            },
            "type": "contourcarpet"
           }
          ],
          "heatmap": [
           {
            "colorbar": {
             "outlinewidth": 0,
             "ticks": ""
            },
            "colorscale": [
             [
              0.0,
              "#0d0887"
             ],
             [
              0.1111111111111111,
              "#46039f"
             ],
             [
              0.2222222222222222,
              "#7201a8"
             ],
             [
              0.3333333333333333,
              "#9c179e"
             ],
             [
              0.4444444444444444,
              "#bd3786"
             ],
             [
              0.5555555555555556,
              "#d8576b"
             ],
             [
              0.6666666666666666,
              "#ed7953"
             ],
             [
              0.7777777777777778,
              "#fb9f3a"
             ],
             [
              0.8888888888888888,
              "#fdca26"
             ],
             [
              1.0,
              "#f0f921"
             ]
            ],
            "type": "heatmap"
           }
          ],
          "heatmapgl": [
           {
            "colorbar": {
             "outlinewidth": 0,
             "ticks": ""
            },
            "colorscale": [
             [
              0.0,
              "#0d0887"
             ],
             [
              0.1111111111111111,
              "#46039f"
             ],
             [
              0.2222222222222222,
              "#7201a8"
             ],
             [
              0.3333333333333333,
              "#9c179e"
             ],
             [
              0.4444444444444444,
              "#bd3786"
             ],
             [
              0.5555555555555556,
              "#d8576b"
             ],
             [
              0.6666666666666666,
              "#ed7953"
             ],
             [
              0.7777777777777778,
              "#fb9f3a"
             ],
             [
              0.8888888888888888,
              "#fdca26"
             ],
             [
              1.0,
              "#f0f921"
             ]
            ],
            "type": "heatmapgl"
           }
          ],
          "histogram": [
           {
            "marker": {
             "colorbar": {
              "outlinewidth": 0,
              "ticks": ""
             }
            },
            "type": "histogram"
           }
          ],
          "histogram2d": [
           {
            "colorbar": {
             "outlinewidth": 0,
             "ticks": ""
            },
            "colorscale": [
             [
              0.0,
              "#0d0887"
             ],
             [
              0.1111111111111111,
              "#46039f"
             ],
             [
              0.2222222222222222,
              "#7201a8"
             ],
             [
              0.3333333333333333,
              "#9c179e"
             ],
             [
              0.4444444444444444,
              "#bd3786"
             ],
             [
              0.5555555555555556,
              "#d8576b"
             ],
             [
              0.6666666666666666,
              "#ed7953"
             ],
             [
              0.7777777777777778,
              "#fb9f3a"
             ],
             [
              0.8888888888888888,
              "#fdca26"
             ],
             [
              1.0,
              "#f0f921"
             ]
            ],
            "type": "histogram2d"
           }
          ],
          "histogram2dcontour": [
           {
            "colorbar": {
             "outlinewidth": 0,
             "ticks": ""
            },
            "colorscale": [
             [
              0.0,
              "#0d0887"
             ],
             [
              0.1111111111111111,
              "#46039f"
             ],
             [
              0.2222222222222222,
              "#7201a8"
             ],
             [
              0.3333333333333333,
              "#9c179e"
             ],
             [
              0.4444444444444444,
              "#bd3786"
             ],
             [
              0.5555555555555556,
              "#d8576b"
             ],
             [
              0.6666666666666666,
              "#ed7953"
             ],
             [
              0.7777777777777778,
              "#fb9f3a"
             ],
             [
              0.8888888888888888,
              "#fdca26"
             ],
             [
              1.0,
              "#f0f921"
             ]
            ],
            "type": "histogram2dcontour"
           }
          ],
          "mesh3d": [
           {
            "colorbar": {
             "outlinewidth": 0,
             "ticks": ""
            },
            "type": "mesh3d"
           }
          ],
          "parcoords": [
           {
            "line": {
             "colorbar": {
              "outlinewidth": 0,
              "ticks": ""
             }
            },
            "type": "parcoords"
           }
          ],
          "pie": [
           {
            "automargin": true,
            "type": "pie"
           }
          ],
          "scatter": [
           {
            "marker": {
             "colorbar": {
              "outlinewidth": 0,
              "ticks": ""
             }
            },
            "type": "scatter"
           }
          ],
          "scatter3d": [
           {
            "line": {
             "colorbar": {
              "outlinewidth": 0,
              "ticks": ""
             }
            },
            "marker": {
             "colorbar": {
              "outlinewidth": 0,
              "ticks": ""
             }
            },
            "type": "scatter3d"
           }
          ],
          "scattercarpet": [
           {
            "marker": {
             "colorbar": {
              "outlinewidth": 0,
              "ticks": ""
             }
            },
            "type": "scattercarpet"
           }
          ],
          "scattergeo": [
           {
            "marker": {
             "colorbar": {
              "outlinewidth": 0,
              "ticks": ""
             }
            },
            "type": "scattergeo"
           }
          ],
          "scattergl": [
           {
            "marker": {
             "colorbar": {
              "outlinewidth": 0,
              "ticks": ""
             }
            },
            "type": "scattergl"
           }
          ],
          "scattermapbox": [
           {
            "marker": {
             "colorbar": {
              "outlinewidth": 0,
              "ticks": ""
             }
            },
            "type": "scattermapbox"
           }
          ],
          "scatterpolar": [
           {
            "marker": {
             "colorbar": {
              "outlinewidth": 0,
              "ticks": ""
             }
            },
            "type": "scatterpolar"
           }
          ],
          "scatterpolargl": [
           {
            "marker": {
             "colorbar": {
              "outlinewidth": 0,
              "ticks": ""
             }
            },
            "type": "scatterpolargl"
           }
          ],
          "scatterternary": [
           {
            "marker": {
             "colorbar": {
              "outlinewidth": 0,
              "ticks": ""
             }
            },
            "type": "scatterternary"
           }
          ],
          "surface": [
           {
            "colorbar": {
             "outlinewidth": 0,
             "ticks": ""
            },
            "colorscale": [
             [
              0.0,
              "#0d0887"
             ],
             [
              0.1111111111111111,
              "#46039f"
             ],
             [
              0.2222222222222222,
              "#7201a8"
             ],
             [
              0.3333333333333333,
              "#9c179e"
             ],
             [
              0.4444444444444444,
              "#bd3786"
             ],
             [
              0.5555555555555556,
              "#d8576b"
             ],
             [
              0.6666666666666666,
              "#ed7953"
             ],
             [
              0.7777777777777778,
              "#fb9f3a"
             ],
             [
              0.8888888888888888,
              "#fdca26"
             ],
             [
              1.0,
              "#f0f921"
             ]
            ],
            "type": "surface"
           }
          ],
          "table": [
           {
            "cells": {
             "fill": {
              "color": "#EBF0F8"
             },
             "line": {
              "color": "white"
             }
            },
            "header": {
             "fill": {
              "color": "#C8D4E3"
             },
             "line": {
              "color": "white"
             }
            },
            "type": "table"
           }
          ]
         },
         "layout": {
          "annotationdefaults": {
           "arrowcolor": "#2a3f5f",
           "arrowhead": 0,
           "arrowwidth": 1
          },
          "autotypenumbers": "strict",
          "coloraxis": {
           "colorbar": {
            "outlinewidth": 0,
            "ticks": ""
           }
          },
          "colorscale": {
           "diverging": [
            [
             0,
             "#8e0152"
            ],
            [
             0.1,
             "#c51b7d"
            ],
            [
             0.2,
             "#de77ae"
            ],
            [
             0.3,
             "#f1b6da"
            ],
            [
             0.4,
             "#fde0ef"
            ],
            [
             0.5,
             "#f7f7f7"
            ],
            [
             0.6,
             "#e6f5d0"
            ],
            [
             0.7,
             "#b8e186"
            ],
            [
             0.8,
             "#7fbc41"
            ],
            [
             0.9,
             "#4d9221"
            ],
            [
             1,
             "#276419"
            ]
           ],
           "sequential": [
            [
             0.0,
             "#0d0887"
            ],
            [
             0.1111111111111111,
             "#46039f"
            ],
            [
             0.2222222222222222,
             "#7201a8"
            ],
            [
             0.3333333333333333,
             "#9c179e"
            ],
            [
             0.4444444444444444,
             "#bd3786"
            ],
            [
             0.5555555555555556,
             "#d8576b"
            ],
            [
             0.6666666666666666,
             "#ed7953"
            ],
            [
             0.7777777777777778,
             "#fb9f3a"
            ],
            [
             0.8888888888888888,
             "#fdca26"
            ],
            [
             1.0,
             "#f0f921"
            ]
           ],
           "sequentialminus": [
            [
             0.0,
             "#0d0887"
            ],
            [
             0.1111111111111111,
             "#46039f"
            ],
            [
             0.2222222222222222,
             "#7201a8"
            ],
            [
             0.3333333333333333,
             "#9c179e"
            ],
            [
             0.4444444444444444,
             "#bd3786"
            ],
            [
             0.5555555555555556,
             "#d8576b"
            ],
            [
             0.6666666666666666,
             "#ed7953"
            ],
            [
             0.7777777777777778,
             "#fb9f3a"
            ],
            [
             0.8888888888888888,
             "#fdca26"
            ],
            [
             1.0,
             "#f0f921"
            ]
           ]
          },
          "colorway": [
           "#636efa",
           "#EF553B",
           "#00cc96",
           "#ab63fa",
           "#FFA15A",
           "#19d3f3",
           "#FF6692",
           "#B6E880",
           "#FF97FF",
           "#FECB52"
          ],
          "font": {
           "color": "#2a3f5f"
          },
          "geo": {
           "bgcolor": "white",
           "lakecolor": "white",
           "landcolor": "#E5ECF6",
           "showlakes": true,
           "showland": true,
           "subunitcolor": "white"
          },
          "hoverlabel": {
           "align": "left"
          },
          "hovermode": "closest",
          "mapbox": {
           "style": "light"
          },
          "paper_bgcolor": "white",
          "plot_bgcolor": "#E5ECF6",
          "polar": {
           "angularaxis": {
            "gridcolor": "white",
            "linecolor": "white",
            "ticks": ""
           },
           "bgcolor": "#E5ECF6",
           "radialaxis": {
            "gridcolor": "white",
            "linecolor": "white",
            "ticks": ""
           }
          },
          "scene": {
           "xaxis": {
            "backgroundcolor": "#E5ECF6",
            "gridcolor": "white",
            "gridwidth": 2,
            "linecolor": "white",
            "showbackground": true,
            "ticks": "",
            "zerolinecolor": "white"
           },
           "yaxis": {
            "backgroundcolor": "#E5ECF6",
            "gridcolor": "white",
            "gridwidth": 2,
            "linecolor": "white",
            "showbackground": true,
            "ticks": "",
            "zerolinecolor": "white"
           },
           "zaxis": {
            "backgroundcolor": "#E5ECF6",
            "gridcolor": "white",
            "gridwidth": 2,
            "linecolor": "white",
            "showbackground": true,
            "ticks": "",
            "zerolinecolor": "white"
           }
          },
          "shapedefaults": {
           "line": {
            "color": "#2a3f5f"
           }
          },
          "ternary": {
           "aaxis": {
            "gridcolor": "white",
            "linecolor": "white",
            "ticks": ""
           },
           "baxis": {
            "gridcolor": "white",
            "linecolor": "white",
            "ticks": ""
           },
           "bgcolor": "#E5ECF6",
           "caxis": {
            "gridcolor": "white",
            "linecolor": "white",
            "ticks": ""
           }
          },
          "title": {
           "x": 0.05
          },
          "xaxis": {
           "automargin": true,
           "gridcolor": "white",
           "linecolor": "white",
           "ticks": "",
           "title": {
            "standoff": 15
           },
           "zerolinecolor": "white",
           "zerolinewidth": 2
          },
          "yaxis": {
           "automargin": true,
           "gridcolor": "white",
           "linecolor": "white",
           "ticks": "",
           "title": {
            "standoff": 15
           },
           "zerolinecolor": "white",
           "zerolinewidth": 2
          }
         }
        },
        "title": {
         "text": "Top-10 Countries with number of fully vaccinated people"
        },
        "width": 1000,
        "xaxis": {
         "anchor": "y",
         "domain": [
          0.58,
          1
         ],
         "showticklabels": true
        },
        "yaxis": {
         "anchor": "x",
         "domain": [
          0,
          1.0
         ],
         "hoverformat": ".2f"
        }
       }
      },
      "text/html": [
       "<div>                            <div id=\"b6cb788c-e885-48ea-a0e9-f3ff9f5899ce\" class=\"plotly-graph-div\" style=\"height:400px; width:1000px;\"></div>            <script type=\"text/javascript\">                require([\"plotly\"], function(Plotly) {                    window.PLOTLYENV=window.PLOTLYENV || {};                                    if (document.getElementById(\"b6cb788c-e885-48ea-a0e9-f3ff9f5899ce\")) {                    Plotly.newPlot(                        \"b6cb788c-e885-48ea-a0e9-f3ff9f5899ce\",                        [{\"cells\": {\"align\": [\"center\"], \"fill\": {\"color\": [\"lime\", \"white\"]}, \"height\": 20, \"values\": [[\"China\", \"United States\", \"India\", \"United Kingdom\", \"England\", \"Brazil\", \"Germany\", \"Mexico\", \"France\", \"Russia\"], [223299000.0, 144919339.0, 47189318.0, 29973779.0, 25391916.0, 23679758.0, 21812429.0, 15062873.0, 14371963.0, 14332077.0]]}, \"domain\": {\"x\": [0, 0.52], \"y\": [0, 1.0]}, \"header\": {\"align\": [\"center\"], \"fill\": {\"color\": \"#119DFF\"}, \"font\": {\"color\": \"white\", \"size\": 14}, \"height\": 30, \"values\": [\"country\", \"people_fully_vaccinated\"]}, \"type\": \"table\"}, {\"marker\": {\"color\": \"lime\"}, \"opacity\": 0.6, \"type\": \"bar\", \"x\": [\"China\", \"United States\", \"India\", \"United Kingdom\", \"England\", \"Brazil\", \"Germany\", \"Mexico\", \"France\", \"Russia\"], \"xaxis\": \"x\", \"y\": [223299000.0, 144919339.0, 47189318.0, 29973779.0, 25391916.0, 23679758.0, 21812429.0, 15062873.0, 14371963.0, 14332077.0], \"yaxis\": \"y\"}],                        {\"autosize\": false, \"height\": 400, \"showlegend\": false, \"template\": {\"data\": {\"bar\": [{\"error_x\": {\"color\": \"#2a3f5f\"}, \"error_y\": {\"color\": \"#2a3f5f\"}, \"marker\": {\"line\": {\"color\": \"#E5ECF6\", \"width\": 0.5}}, \"type\": \"bar\"}], \"barpolar\": [{\"marker\": {\"line\": {\"color\": \"#E5ECF6\", \"width\": 0.5}}, \"type\": \"barpolar\"}], \"carpet\": [{\"aaxis\": {\"endlinecolor\": \"#2a3f5f\", \"gridcolor\": \"white\", \"linecolor\": \"white\", \"minorgridcolor\": \"white\", \"startlinecolor\": \"#2a3f5f\"}, \"baxis\": {\"endlinecolor\": \"#2a3f5f\", \"gridcolor\": \"white\", \"linecolor\": \"white\", \"minorgridcolor\": \"white\", \"startlinecolor\": \"#2a3f5f\"}, \"type\": \"carpet\"}], \"choropleth\": [{\"colorbar\": {\"outlinewidth\": 0, \"ticks\": \"\"}, \"type\": \"choropleth\"}], \"contour\": [{\"colorbar\": {\"outlinewidth\": 0, \"ticks\": \"\"}, \"colorscale\": [[0.0, \"#0d0887\"], [0.1111111111111111, \"#46039f\"], [0.2222222222222222, \"#7201a8\"], [0.3333333333333333, \"#9c179e\"], [0.4444444444444444, \"#bd3786\"], [0.5555555555555556, \"#d8576b\"], [0.6666666666666666, \"#ed7953\"], [0.7777777777777778, \"#fb9f3a\"], [0.8888888888888888, \"#fdca26\"], [1.0, \"#f0f921\"]], \"type\": \"contour\"}], \"contourcarpet\": [{\"colorbar\": {\"outlinewidth\": 0, \"ticks\": \"\"}, \"type\": \"contourcarpet\"}], \"heatmap\": [{\"colorbar\": {\"outlinewidth\": 0, \"ticks\": \"\"}, \"colorscale\": [[0.0, \"#0d0887\"], [0.1111111111111111, \"#46039f\"], [0.2222222222222222, \"#7201a8\"], [0.3333333333333333, \"#9c179e\"], [0.4444444444444444, \"#bd3786\"], [0.5555555555555556, \"#d8576b\"], [0.6666666666666666, \"#ed7953\"], [0.7777777777777778, \"#fb9f3a\"], [0.8888888888888888, \"#fdca26\"], [1.0, \"#f0f921\"]], \"type\": \"heatmap\"}], \"heatmapgl\": [{\"colorbar\": {\"outlinewidth\": 0, \"ticks\": \"\"}, \"colorscale\": [[0.0, \"#0d0887\"], [0.1111111111111111, \"#46039f\"], [0.2222222222222222, \"#7201a8\"], [0.3333333333333333, \"#9c179e\"], [0.4444444444444444, \"#bd3786\"], [0.5555555555555556, \"#d8576b\"], [0.6666666666666666, \"#ed7953\"], [0.7777777777777778, \"#fb9f3a\"], [0.8888888888888888, \"#fdca26\"], [1.0, \"#f0f921\"]], \"type\": \"heatmapgl\"}], \"histogram\": [{\"marker\": {\"colorbar\": {\"outlinewidth\": 0, \"ticks\": \"\"}}, \"type\": \"histogram\"}], \"histogram2d\": [{\"colorbar\": {\"outlinewidth\": 0, \"ticks\": \"\"}, \"colorscale\": [[0.0, \"#0d0887\"], [0.1111111111111111, \"#46039f\"], [0.2222222222222222, \"#7201a8\"], [0.3333333333333333, \"#9c179e\"], [0.4444444444444444, \"#bd3786\"], [0.5555555555555556, \"#d8576b\"], [0.6666666666666666, \"#ed7953\"], [0.7777777777777778, \"#fb9f3a\"], [0.8888888888888888, \"#fdca26\"], [1.0, \"#f0f921\"]], \"type\": \"histogram2d\"}], \"histogram2dcontour\": [{\"colorbar\": {\"outlinewidth\": 0, \"ticks\": \"\"}, \"colorscale\": [[0.0, \"#0d0887\"], [0.1111111111111111, \"#46039f\"], [0.2222222222222222, \"#7201a8\"], [0.3333333333333333, \"#9c179e\"], [0.4444444444444444, \"#bd3786\"], [0.5555555555555556, \"#d8576b\"], [0.6666666666666666, \"#ed7953\"], [0.7777777777777778, \"#fb9f3a\"], [0.8888888888888888, \"#fdca26\"], [1.0, \"#f0f921\"]], \"type\": \"histogram2dcontour\"}], \"mesh3d\": [{\"colorbar\": {\"outlinewidth\": 0, \"ticks\": \"\"}, \"type\": \"mesh3d\"}], \"parcoords\": [{\"line\": {\"colorbar\": {\"outlinewidth\": 0, \"ticks\": \"\"}}, \"type\": \"parcoords\"}], \"pie\": [{\"automargin\": true, \"type\": \"pie\"}], \"scatter\": [{\"marker\": {\"colorbar\": {\"outlinewidth\": 0, \"ticks\": \"\"}}, \"type\": \"scatter\"}], \"scatter3d\": [{\"line\": {\"colorbar\": {\"outlinewidth\": 0, \"ticks\": \"\"}}, \"marker\": {\"colorbar\": {\"outlinewidth\": 0, \"ticks\": \"\"}}, \"type\": \"scatter3d\"}], \"scattercarpet\": [{\"marker\": {\"colorbar\": {\"outlinewidth\": 0, \"ticks\": \"\"}}, \"type\": \"scattercarpet\"}], \"scattergeo\": [{\"marker\": {\"colorbar\": {\"outlinewidth\": 0, \"ticks\": \"\"}}, \"type\": \"scattergeo\"}], \"scattergl\": [{\"marker\": {\"colorbar\": {\"outlinewidth\": 0, \"ticks\": \"\"}}, \"type\": \"scattergl\"}], \"scattermapbox\": [{\"marker\": {\"colorbar\": {\"outlinewidth\": 0, \"ticks\": \"\"}}, \"type\": \"scattermapbox\"}], \"scatterpolar\": [{\"marker\": {\"colorbar\": {\"outlinewidth\": 0, \"ticks\": \"\"}}, \"type\": \"scatterpolar\"}], \"scatterpolargl\": [{\"marker\": {\"colorbar\": {\"outlinewidth\": 0, \"ticks\": \"\"}}, \"type\": \"scatterpolargl\"}], \"scatterternary\": [{\"marker\": {\"colorbar\": {\"outlinewidth\": 0, \"ticks\": \"\"}}, \"type\": \"scatterternary\"}], \"surface\": [{\"colorbar\": {\"outlinewidth\": 0, \"ticks\": \"\"}, \"colorscale\": [[0.0, \"#0d0887\"], [0.1111111111111111, \"#46039f\"], [0.2222222222222222, \"#7201a8\"], [0.3333333333333333, \"#9c179e\"], [0.4444444444444444, \"#bd3786\"], [0.5555555555555556, \"#d8576b\"], [0.6666666666666666, \"#ed7953\"], [0.7777777777777778, \"#fb9f3a\"], [0.8888888888888888, \"#fdca26\"], [1.0, \"#f0f921\"]], \"type\": \"surface\"}], \"table\": [{\"cells\": {\"fill\": {\"color\": \"#EBF0F8\"}, \"line\": {\"color\": \"white\"}}, \"header\": {\"fill\": {\"color\": \"#C8D4E3\"}, \"line\": {\"color\": \"white\"}}, \"type\": \"table\"}]}, \"layout\": {\"annotationdefaults\": {\"arrowcolor\": \"#2a3f5f\", \"arrowhead\": 0, \"arrowwidth\": 1}, \"autotypenumbers\": \"strict\", \"coloraxis\": {\"colorbar\": {\"outlinewidth\": 0, \"ticks\": \"\"}}, \"colorscale\": {\"diverging\": [[0, \"#8e0152\"], [0.1, \"#c51b7d\"], [0.2, \"#de77ae\"], [0.3, \"#f1b6da\"], [0.4, \"#fde0ef\"], [0.5, \"#f7f7f7\"], [0.6, \"#e6f5d0\"], [0.7, \"#b8e186\"], [0.8, \"#7fbc41\"], [0.9, \"#4d9221\"], [1, \"#276419\"]], \"sequential\": [[0.0, \"#0d0887\"], [0.1111111111111111, \"#46039f\"], [0.2222222222222222, \"#7201a8\"], [0.3333333333333333, \"#9c179e\"], [0.4444444444444444, \"#bd3786\"], [0.5555555555555556, \"#d8576b\"], [0.6666666666666666, \"#ed7953\"], [0.7777777777777778, \"#fb9f3a\"], [0.8888888888888888, \"#fdca26\"], [1.0, \"#f0f921\"]], \"sequentialminus\": [[0.0, \"#0d0887\"], [0.1111111111111111, \"#46039f\"], [0.2222222222222222, \"#7201a8\"], [0.3333333333333333, \"#9c179e\"], [0.4444444444444444, \"#bd3786\"], [0.5555555555555556, \"#d8576b\"], [0.6666666666666666, \"#ed7953\"], [0.7777777777777778, \"#fb9f3a\"], [0.8888888888888888, \"#fdca26\"], [1.0, \"#f0f921\"]]}, \"colorway\": [\"#636efa\", \"#EF553B\", \"#00cc96\", \"#ab63fa\", \"#FFA15A\", \"#19d3f3\", \"#FF6692\", \"#B6E880\", \"#FF97FF\", \"#FECB52\"], \"font\": {\"color\": \"#2a3f5f\"}, \"geo\": {\"bgcolor\": \"white\", \"lakecolor\": \"white\", \"landcolor\": \"#E5ECF6\", \"showlakes\": true, \"showland\": true, \"subunitcolor\": \"white\"}, \"hoverlabel\": {\"align\": \"left\"}, \"hovermode\": \"closest\", \"mapbox\": {\"style\": \"light\"}, \"paper_bgcolor\": \"white\", \"plot_bgcolor\": \"#E5ECF6\", \"polar\": {\"angularaxis\": {\"gridcolor\": \"white\", \"linecolor\": \"white\", \"ticks\": \"\"}, \"bgcolor\": \"#E5ECF6\", \"radialaxis\": {\"gridcolor\": \"white\", \"linecolor\": \"white\", \"ticks\": \"\"}}, \"scene\": {\"xaxis\": {\"backgroundcolor\": \"#E5ECF6\", \"gridcolor\": \"white\", \"gridwidth\": 2, \"linecolor\": \"white\", \"showbackground\": true, \"ticks\": \"\", \"zerolinecolor\": \"white\"}, \"yaxis\": {\"backgroundcolor\": \"#E5ECF6\", \"gridcolor\": \"white\", \"gridwidth\": 2, \"linecolor\": \"white\", \"showbackground\": true, \"ticks\": \"\", \"zerolinecolor\": \"white\"}, \"zaxis\": {\"backgroundcolor\": \"#E5ECF6\", \"gridcolor\": \"white\", \"gridwidth\": 2, \"linecolor\": \"white\", \"showbackground\": true, \"ticks\": \"\", \"zerolinecolor\": \"white\"}}, \"shapedefaults\": {\"line\": {\"color\": \"#2a3f5f\"}}, \"ternary\": {\"aaxis\": {\"gridcolor\": \"white\", \"linecolor\": \"white\", \"ticks\": \"\"}, \"baxis\": {\"gridcolor\": \"white\", \"linecolor\": \"white\", \"ticks\": \"\"}, \"bgcolor\": \"#E5ECF6\", \"caxis\": {\"gridcolor\": \"white\", \"linecolor\": \"white\", \"ticks\": \"\"}}, \"title\": {\"x\": 0.05}, \"xaxis\": {\"automargin\": true, \"gridcolor\": \"white\", \"linecolor\": \"white\", \"ticks\": \"\", \"title\": {\"standoff\": 15}, \"zerolinecolor\": \"white\", \"zerolinewidth\": 2}, \"yaxis\": {\"automargin\": true, \"gridcolor\": \"white\", \"linecolor\": \"white\", \"ticks\": \"\", \"title\": {\"standoff\": 15}, \"zerolinecolor\": \"white\", \"zerolinewidth\": 2}}}, \"title\": {\"text\": \"Top-10 Countries with number of fully vaccinated people\"}, \"width\": 1000, \"xaxis\": {\"anchor\": \"y\", \"domain\": [0.58, 1], \"showticklabels\": true}, \"yaxis\": {\"anchor\": \"x\", \"domain\": [0, 1.0], \"hoverformat\": \".2f\"}},                        {\"responsive\": true}                    ).then(function(){\n",
       "                            \n",
       "var gd = document.getElementById('b6cb788c-e885-48ea-a0e9-f3ff9f5899ce');\n",
       "var x = new MutationObserver(function (mutations, observer) {{\n",
       "        var display = window.getComputedStyle(gd).display;\n",
       "        if (!display || display === 'none') {{\n",
       "            console.log([gd, 'removed!']);\n",
       "            Plotly.purge(gd);\n",
       "            observer.disconnect();\n",
       "        }}\n",
       "}});\n",
       "\n",
       "// Listen for the removal of the full notebook cells\n",
       "var notebookContainer = gd.closest('#notebook-container');\n",
       "if (notebookContainer) {{\n",
       "    x.observe(notebookContainer, {childList: true});\n",
       "}}\n",
       "\n",
       "// Listen for the clearing of the current output cell\n",
       "var outputEl = gd.closest('.output');\n",
       "if (outputEl) {{\n",
       "    x.observe(outputEl, {childList: true});\n",
       "}}\n",
       "\n",
       "                        })                };                });            </script>        </div>"
      ]
     },
     "metadata": {},
     "output_type": "display_data"
    }
   ],
   "source": [
    "top_10=df.groupby(\"country\")[\"people_fully_vaccinated\"].max().sort_values(ascending= False).head(10).reset_index()\n",
    "trace = go.Table(\n",
    "    domain=dict(x=[0, 0.52],\n",
    "                y=[0, 1.0]),\n",
    "    header=dict(values=[\"country\",\"people_fully_vaccinated\"],\n",
    "                fill = dict(color = '#119DFF'),\n",
    "                font = dict(color = 'white', size = 14),\n",
    "                align = ['center'],\n",
    "               height = 30),\n",
    "    cells=dict(values=[top_10['country'].head(10),top_10['people_fully_vaccinated'].head(10)],\n",
    "               fill = dict(color = ['lime', 'white']),\n",
    "               align = ['center'],height=20))\n",
    "\n",
    "trace1 = go.Bar(x=top_10['country'].head(10),\n",
    "                y=top_10['people_fully_vaccinated'].head(10),\n",
    "                xaxis='x1',\n",
    "                yaxis='y1',\n",
    "                marker=dict(color='lime'),opacity=0.60)\n",
    "layout = dict(\n",
    "    width=1000,\n",
    "    height=400,\n",
    "    autosize=False,\n",
    "    title='Top-10 Countries with number of fully vaccinated people',\n",
    "    showlegend=False,   \n",
    "    xaxis1=dict(**dict(domain=[0.58, 1], anchor='y1', showticklabels=True)),\n",
    "    yaxis1=dict(**dict(domain=[0, 1.0], anchor='x1', hoverformat='.2f')),  \n",
    ")\n",
    "fig1 = dict(data=[trace, trace1], layout=layout)\n",
    "iplot(fig1)"
   ]
  },
  {
   "cell_type": "markdown",
   "id": "scheduled-montana",
   "metadata": {
    "papermill": {
     "duration": 0.053581,
     "end_time": "2021-06-16T10:54:40.554804",
     "exception": false,
     "start_time": "2021-06-16T10:54:40.501223",
     "status": "completed"
    },
    "tags": []
   },
   "source": [
    "# 3. Ratio between people_vaccinated vs fully vaccinated in different country\n",
    "Here we have taken some specific countries like China, India, US, UK"
   ]
  },
  {
   "cell_type": "code",
   "execution_count": 14,
   "id": "common-commitment",
   "metadata": {
    "execution": {
     "iopub.execute_input": "2021-06-16T10:54:40.665690Z",
     "iopub.status.busy": "2021-06-16T10:54:40.665019Z",
     "iopub.status.idle": "2021-06-16T10:54:40.689335Z",
     "shell.execute_reply": "2021-06-16T10:54:40.688751Z",
     "shell.execute_reply.started": "2021-06-16T10:45:50.172383Z"
    },
    "papermill": {
     "duration": 0.080852,
     "end_time": "2021-06-16T10:54:40.689511",
     "exception": false,
     "start_time": "2021-06-16T10:54:40.608659",
     "status": "completed"
    },
    "tags": []
   },
   "outputs": [],
   "source": [
    "people_vaccinated=vaccination_country.query('country in [\"United States\",\"India\", \"China\" , \"United Kingdom\"]')\n",
    "fully_vaccinated_sp=fully_vaccinated.query('country in [\"United States\", \"India\", \"China\" , \"United Kingdom\"]')"
   ]
  },
  {
   "cell_type": "code",
   "execution_count": 15,
   "id": "gross-screen",
   "metadata": {
    "execution": {
     "iopub.execute_input": "2021-06-16T10:54:40.808220Z",
     "iopub.status.busy": "2021-06-16T10:54:40.807465Z",
     "iopub.status.idle": "2021-06-16T10:54:40.812410Z",
     "shell.execute_reply": "2021-06-16T10:54:40.811788Z",
     "shell.execute_reply.started": "2021-06-16T10:45:51.427525Z"
    },
    "papermill": {
     "duration": 0.069106,
     "end_time": "2021-06-16T10:54:40.812564",
     "exception": false,
     "start_time": "2021-06-16T10:54:40.743458",
     "status": "completed"
    },
    "tags": []
   },
   "outputs": [
    {
     "data": {
      "text/html": [
       "<div>\n",
       "<style scoped>\n",
       "    .dataframe tbody tr th:only-of-type {\n",
       "        vertical-align: middle;\n",
       "    }\n",
       "\n",
       "    .dataframe tbody tr th {\n",
       "        vertical-align: top;\n",
       "    }\n",
       "\n",
       "    .dataframe thead th {\n",
       "        text-align: right;\n",
       "    }\n",
       "</style>\n",
       "<table border=\"1\" class=\"dataframe\">\n",
       "  <thead>\n",
       "    <tr style=\"text-align: right;\">\n",
       "      <th></th>\n",
       "      <th>country</th>\n",
       "      <th>people_vaccinated</th>\n",
       "    </tr>\n",
       "  </thead>\n",
       "  <tbody>\n",
       "    <tr>\n",
       "      <th>0</th>\n",
       "      <td>China</td>\n",
       "      <td>904134000.0</td>\n",
       "    </tr>\n",
       "    <tr>\n",
       "      <th>1</th>\n",
       "      <td>United States</td>\n",
       "      <td>310645827.0</td>\n",
       "    </tr>\n",
       "    <tr>\n",
       "      <th>2</th>\n",
       "      <td>India</td>\n",
       "      <td>252760364.0</td>\n",
       "    </tr>\n",
       "    <tr>\n",
       "      <th>4</th>\n",
       "      <td>United Kingdom</td>\n",
       "      <td>71672208.0</td>\n",
       "    </tr>\n",
       "  </tbody>\n",
       "</table>\n",
       "</div>"
      ],
      "text/plain": [
       "          country  people_vaccinated\n",
       "0           China        904134000.0\n",
       "1   United States        310645827.0\n",
       "2           India        252760364.0\n",
       "4  United Kingdom         71672208.0"
      ]
     },
     "execution_count": 15,
     "metadata": {},
     "output_type": "execute_result"
    }
   ],
   "source": [
    "people_vaccinated"
   ]
  },
  {
   "cell_type": "code",
   "execution_count": 16,
   "id": "proper-nicaragua",
   "metadata": {
    "execution": {
     "iopub.execute_input": "2021-06-16T10:54:40.931017Z",
     "iopub.status.busy": "2021-06-16T10:54:40.930050Z",
     "iopub.status.idle": "2021-06-16T10:54:40.934406Z",
     "shell.execute_reply": "2021-06-16T10:54:40.933796Z",
     "shell.execute_reply.started": "2021-06-16T10:45:52.567527Z"
    },
    "papermill": {
     "duration": 0.067437,
     "end_time": "2021-06-16T10:54:40.934566",
     "exception": false,
     "start_time": "2021-06-16T10:54:40.867129",
     "status": "completed"
    },
    "tags": []
   },
   "outputs": [
    {
     "data": {
      "text/html": [
       "<div>\n",
       "<style scoped>\n",
       "    .dataframe tbody tr th:only-of-type {\n",
       "        vertical-align: middle;\n",
       "    }\n",
       "\n",
       "    .dataframe tbody tr th {\n",
       "        vertical-align: top;\n",
       "    }\n",
       "\n",
       "    .dataframe thead th {\n",
       "        text-align: right;\n",
       "    }\n",
       "</style>\n",
       "<table border=\"1\" class=\"dataframe\">\n",
       "  <thead>\n",
       "    <tr style=\"text-align: right;\">\n",
       "      <th></th>\n",
       "      <th>country</th>\n",
       "      <th>people_fully_vaccinated</th>\n",
       "    </tr>\n",
       "  </thead>\n",
       "  <tbody>\n",
       "    <tr>\n",
       "      <th>0</th>\n",
       "      <td>China</td>\n",
       "      <td>223299000.0</td>\n",
       "    </tr>\n",
       "    <tr>\n",
       "      <th>1</th>\n",
       "      <td>United States</td>\n",
       "      <td>144919339.0</td>\n",
       "    </tr>\n",
       "    <tr>\n",
       "      <th>2</th>\n",
       "      <td>India</td>\n",
       "      <td>47189318.0</td>\n",
       "    </tr>\n",
       "    <tr>\n",
       "      <th>3</th>\n",
       "      <td>United Kingdom</td>\n",
       "      <td>29973779.0</td>\n",
       "    </tr>\n",
       "  </tbody>\n",
       "</table>\n",
       "</div>"
      ],
      "text/plain": [
       "          country  people_fully_vaccinated\n",
       "0           China              223299000.0\n",
       "1   United States              144919339.0\n",
       "2           India               47189318.0\n",
       "3  United Kingdom               29973779.0"
      ]
     },
     "execution_count": 16,
     "metadata": {},
     "output_type": "execute_result"
    }
   ],
   "source": [
    "fully_vaccinated_sp"
   ]
  },
  {
   "cell_type": "code",
   "execution_count": 17,
   "id": "compatible-indie",
   "metadata": {
    "execution": {
     "iopub.execute_input": "2021-06-16T10:54:41.051289Z",
     "iopub.status.busy": "2021-06-16T10:54:41.050612Z",
     "iopub.status.idle": "2021-06-16T10:54:41.053722Z",
     "shell.execute_reply": "2021-06-16T10:54:41.053200Z",
     "shell.execute_reply.started": "2021-06-16T10:49:58.908232Z"
    },
    "papermill": {
     "duration": 0.064467,
     "end_time": "2021-06-16T10:54:41.053869",
     "exception": false,
     "start_time": "2021-06-16T10:54:40.989402",
     "status": "completed"
    },
    "tags": []
   },
   "outputs": [],
   "source": [
    "fully_vaccinated_sp['ratio']=fully_vaccinated_sp['people_fully_vaccinated'].values/people_vaccinated['people_vaccinated'].values"
   ]
  },
  {
   "cell_type": "code",
   "execution_count": 18,
   "id": "arbitrary-quality",
   "metadata": {
    "execution": {
     "iopub.execute_input": "2021-06-16T10:54:41.175269Z",
     "iopub.status.busy": "2021-06-16T10:54:41.174380Z",
     "iopub.status.idle": "2021-06-16T10:54:41.179207Z",
     "shell.execute_reply": "2021-06-16T10:54:41.178697Z",
     "shell.execute_reply.started": "2021-06-16T10:50:00.417029Z"
    },
    "papermill": {
     "duration": 0.0705,
     "end_time": "2021-06-16T10:54:41.179339",
     "exception": false,
     "start_time": "2021-06-16T10:54:41.108839",
     "status": "completed"
    },
    "tags": []
   },
   "outputs": [
    {
     "data": {
      "text/html": [
       "<div>\n",
       "<style scoped>\n",
       "    .dataframe tbody tr th:only-of-type {\n",
       "        vertical-align: middle;\n",
       "    }\n",
       "\n",
       "    .dataframe tbody tr th {\n",
       "        vertical-align: top;\n",
       "    }\n",
       "\n",
       "    .dataframe thead th {\n",
       "        text-align: right;\n",
       "    }\n",
       "</style>\n",
       "<table border=\"1\" class=\"dataframe\">\n",
       "  <thead>\n",
       "    <tr style=\"text-align: right;\">\n",
       "      <th></th>\n",
       "      <th>country</th>\n",
       "      <th>people_fully_vaccinated</th>\n",
       "      <th>ratio</th>\n",
       "    </tr>\n",
       "  </thead>\n",
       "  <tbody>\n",
       "    <tr>\n",
       "      <th>0</th>\n",
       "      <td>China</td>\n",
       "      <td>223299000.0</td>\n",
       "      <td>0.246976</td>\n",
       "    </tr>\n",
       "    <tr>\n",
       "      <th>1</th>\n",
       "      <td>United States</td>\n",
       "      <td>144919339.0</td>\n",
       "      <td>0.466510</td>\n",
       "    </tr>\n",
       "    <tr>\n",
       "      <th>2</th>\n",
       "      <td>India</td>\n",
       "      <td>47189318.0</td>\n",
       "      <td>0.186696</td>\n",
       "    </tr>\n",
       "    <tr>\n",
       "      <th>3</th>\n",
       "      <td>United Kingdom</td>\n",
       "      <td>29973779.0</td>\n",
       "      <td>0.418206</td>\n",
       "    </tr>\n",
       "  </tbody>\n",
       "</table>\n",
       "</div>"
      ],
      "text/plain": [
       "          country  people_fully_vaccinated     ratio\n",
       "0           China              223299000.0  0.246976\n",
       "1   United States              144919339.0  0.466510\n",
       "2           India               47189318.0  0.186696\n",
       "3  United Kingdom               29973779.0  0.418206"
      ]
     },
     "execution_count": 18,
     "metadata": {},
     "output_type": "execute_result"
    }
   ],
   "source": [
    "fully_vaccinated_sp"
   ]
  },
  {
   "cell_type": "code",
   "execution_count": 19,
   "id": "exclusive-certificate",
   "metadata": {
    "execution": {
     "iopub.execute_input": "2021-06-16T10:54:41.305881Z",
     "iopub.status.busy": "2021-06-16T10:54:41.305146Z",
     "iopub.status.idle": "2021-06-16T10:54:41.470832Z",
     "shell.execute_reply": "2021-06-16T10:54:41.470048Z",
     "shell.execute_reply.started": "2021-06-16T10:51:57.708509Z"
    },
    "papermill": {
     "duration": 0.236356,
     "end_time": "2021-06-16T10:54:41.471001",
     "exception": false,
     "start_time": "2021-06-16T10:54:41.234645",
     "status": "completed"
    },
    "tags": []
   },
   "outputs": [
    {
     "data": {
      "application/vnd.plotly.v1+json": {
       "config": {
        "plotlyServerURL": "https://plot.ly"
       },
       "data": [
        {
         "alignmentgroup": "True",
         "hovertemplate": "country=%{x}<br>ratio=%{y}<extra></extra>",
         "legendgroup": "",
         "marker": {
          "color": "#636efa"
         },
         "name": "",
         "offsetgroup": "",
         "orientation": "v",
         "showlegend": false,
         "textposition": "auto",
         "type": "bar",
         "x": [
          "China",
          "United States",
          "India",
          "United Kingdom"
         ],
         "xaxis": "x",
         "y": [
          0.2469755589326361,
          0.4665098527140363,
          0.18669587768120163,
          0.41820644063316703
         ],
         "yaxis": "y"
        }
       ],
       "layout": {
        "barmode": "relative",
        "legend": {
         "tracegroupgap": 0
        },
        "margin": {
         "t": 60
        },
        "template": {
         "data": {
          "bar": [
           {
            "error_x": {
             "color": "#2a3f5f"
            },
            "error_y": {
             "color": "#2a3f5f"
            },
            "marker": {
             "line": {
              "color": "#E5ECF6",
              "width": 0.5
             }
            },
            "type": "bar"
           }
          ],
          "barpolar": [
           {
            "marker": {
             "line": {
              "color": "#E5ECF6",
              "width": 0.5
             }
            },
            "type": "barpolar"
           }
          ],
          "carpet": [
           {
            "aaxis": {
             "endlinecolor": "#2a3f5f",
             "gridcolor": "white",
             "linecolor": "white",
             "minorgridcolor": "white",
             "startlinecolor": "#2a3f5f"
            },
            "baxis": {
             "endlinecolor": "#2a3f5f",
             "gridcolor": "white",
             "linecolor": "white",
             "minorgridcolor": "white",
             "startlinecolor": "#2a3f5f"
            },
            "type": "carpet"
           }
          ],
          "choropleth": [
           {
            "colorbar": {
             "outlinewidth": 0,
             "ticks": ""
            },
            "type": "choropleth"
           }
          ],
          "contour": [
           {
            "colorbar": {
             "outlinewidth": 0,
             "ticks": ""
            },
            "colorscale": [
             [
              0.0,
              "#0d0887"
             ],
             [
              0.1111111111111111,
              "#46039f"
             ],
             [
              0.2222222222222222,
              "#7201a8"
             ],
             [
              0.3333333333333333,
              "#9c179e"
             ],
             [
              0.4444444444444444,
              "#bd3786"
             ],
             [
              0.5555555555555556,
              "#d8576b"
             ],
             [
              0.6666666666666666,
              "#ed7953"
             ],
             [
              0.7777777777777778,
              "#fb9f3a"
             ],
             [
              0.8888888888888888,
              "#fdca26"
             ],
             [
              1.0,
              "#f0f921"
             ]
            ],
            "type": "contour"
           }
          ],
          "contourcarpet": [
           {
            "colorbar": {
             "outlinewidth": 0,
             "ticks": ""
            },
            "type": "contourcarpet"
           }
          ],
          "heatmap": [
           {
            "colorbar": {
             "outlinewidth": 0,
             "ticks": ""
            },
            "colorscale": [
             [
              0.0,
              "#0d0887"
             ],
             [
              0.1111111111111111,
              "#46039f"
             ],
             [
              0.2222222222222222,
              "#7201a8"
             ],
             [
              0.3333333333333333,
              "#9c179e"
             ],
             [
              0.4444444444444444,
              "#bd3786"
             ],
             [
              0.5555555555555556,
              "#d8576b"
             ],
             [
              0.6666666666666666,
              "#ed7953"
             ],
             [
              0.7777777777777778,
              "#fb9f3a"
             ],
             [
              0.8888888888888888,
              "#fdca26"
             ],
             [
              1.0,
              "#f0f921"
             ]
            ],
            "type": "heatmap"
           }
          ],
          "heatmapgl": [
           {
            "colorbar": {
             "outlinewidth": 0,
             "ticks": ""
            },
            "colorscale": [
             [
              0.0,
              "#0d0887"
             ],
             [
              0.1111111111111111,
              "#46039f"
             ],
             [
              0.2222222222222222,
              "#7201a8"
             ],
             [
              0.3333333333333333,
              "#9c179e"
             ],
             [
              0.4444444444444444,
              "#bd3786"
             ],
             [
              0.5555555555555556,
              "#d8576b"
             ],
             [
              0.6666666666666666,
              "#ed7953"
             ],
             [
              0.7777777777777778,
              "#fb9f3a"
             ],
             [
              0.8888888888888888,
              "#fdca26"
             ],
             [
              1.0,
              "#f0f921"
             ]
            ],
            "type": "heatmapgl"
           }
          ],
          "histogram": [
           {
            "marker": {
             "colorbar": {
              "outlinewidth": 0,
              "ticks": ""
             }
            },
            "type": "histogram"
           }
          ],
          "histogram2d": [
           {
            "colorbar": {
             "outlinewidth": 0,
             "ticks": ""
            },
            "colorscale": [
             [
              0.0,
              "#0d0887"
             ],
             [
              0.1111111111111111,
              "#46039f"
             ],
             [
              0.2222222222222222,
              "#7201a8"
             ],
             [
              0.3333333333333333,
              "#9c179e"
             ],
             [
              0.4444444444444444,
              "#bd3786"
             ],
             [
              0.5555555555555556,
              "#d8576b"
             ],
             [
              0.6666666666666666,
              "#ed7953"
             ],
             [
              0.7777777777777778,
              "#fb9f3a"
             ],
             [
              0.8888888888888888,
              "#fdca26"
             ],
             [
              1.0,
              "#f0f921"
             ]
            ],
            "type": "histogram2d"
           }
          ],
          "histogram2dcontour": [
           {
            "colorbar": {
             "outlinewidth": 0,
             "ticks": ""
            },
            "colorscale": [
             [
              0.0,
              "#0d0887"
             ],
             [
              0.1111111111111111,
              "#46039f"
             ],
             [
              0.2222222222222222,
              "#7201a8"
             ],
             [
              0.3333333333333333,
              "#9c179e"
             ],
             [
              0.4444444444444444,
              "#bd3786"
             ],
             [
              0.5555555555555556,
              "#d8576b"
             ],
             [
              0.6666666666666666,
              "#ed7953"
             ],
             [
              0.7777777777777778,
              "#fb9f3a"
             ],
             [
              0.8888888888888888,
              "#fdca26"
             ],
             [
              1.0,
              "#f0f921"
             ]
            ],
            "type": "histogram2dcontour"
           }
          ],
          "mesh3d": [
           {
            "colorbar": {
             "outlinewidth": 0,
             "ticks": ""
            },
            "type": "mesh3d"
           }
          ],
          "parcoords": [
           {
            "line": {
             "colorbar": {
              "outlinewidth": 0,
              "ticks": ""
             }
            },
            "type": "parcoords"
           }
          ],
          "pie": [
           {
            "automargin": true,
            "type": "pie"
           }
          ],
          "scatter": [
           {
            "marker": {
             "colorbar": {
              "outlinewidth": 0,
              "ticks": ""
             }
            },
            "type": "scatter"
           }
          ],
          "scatter3d": [
           {
            "line": {
             "colorbar": {
              "outlinewidth": 0,
              "ticks": ""
             }
            },
            "marker": {
             "colorbar": {
              "outlinewidth": 0,
              "ticks": ""
             }
            },
            "type": "scatter3d"
           }
          ],
          "scattercarpet": [
           {
            "marker": {
             "colorbar": {
              "outlinewidth": 0,
              "ticks": ""
             }
            },
            "type": "scattercarpet"
           }
          ],
          "scattergeo": [
           {
            "marker": {
             "colorbar": {
              "outlinewidth": 0,
              "ticks": ""
             }
            },
            "type": "scattergeo"
           }
          ],
          "scattergl": [
           {
            "marker": {
             "colorbar": {
              "outlinewidth": 0,
              "ticks": ""
             }
            },
            "type": "scattergl"
           }
          ],
          "scattermapbox": [
           {
            "marker": {
             "colorbar": {
              "outlinewidth": 0,
              "ticks": ""
             }
            },
            "type": "scattermapbox"
           }
          ],
          "scatterpolar": [
           {
            "marker": {
             "colorbar": {
              "outlinewidth": 0,
              "ticks": ""
             }
            },
            "type": "scatterpolar"
           }
          ],
          "scatterpolargl": [
           {
            "marker": {
             "colorbar": {
              "outlinewidth": 0,
              "ticks": ""
             }
            },
            "type": "scatterpolargl"
           }
          ],
          "scatterternary": [
           {
            "marker": {
             "colorbar": {
              "outlinewidth": 0,
              "ticks": ""
             }
            },
            "type": "scatterternary"
           }
          ],
          "surface": [
           {
            "colorbar": {
             "outlinewidth": 0,
             "ticks": ""
            },
            "colorscale": [
             [
              0.0,
              "#0d0887"
             ],
             [
              0.1111111111111111,
              "#46039f"
             ],
             [
              0.2222222222222222,
              "#7201a8"
             ],
             [
              0.3333333333333333,
              "#9c179e"
             ],
             [
              0.4444444444444444,
              "#bd3786"
             ],
             [
              0.5555555555555556,
              "#d8576b"
             ],
             [
              0.6666666666666666,
              "#ed7953"
             ],
             [
              0.7777777777777778,
              "#fb9f3a"
             ],
             [
              0.8888888888888888,
              "#fdca26"
             ],
             [
              1.0,
              "#f0f921"
             ]
            ],
            "type": "surface"
           }
          ],
          "table": [
           {
            "cells": {
             "fill": {
              "color": "#EBF0F8"
             },
             "line": {
              "color": "white"
             }
            },
            "header": {
             "fill": {
              "color": "#C8D4E3"
             },
             "line": {
              "color": "white"
             }
            },
            "type": "table"
           }
          ]
         },
         "layout": {
          "annotationdefaults": {
           "arrowcolor": "#2a3f5f",
           "arrowhead": 0,
           "arrowwidth": 1
          },
          "autotypenumbers": "strict",
          "coloraxis": {
           "colorbar": {
            "outlinewidth": 0,
            "ticks": ""
           }
          },
          "colorscale": {
           "diverging": [
            [
             0,
             "#8e0152"
            ],
            [
             0.1,
             "#c51b7d"
            ],
            [
             0.2,
             "#de77ae"
            ],
            [
             0.3,
             "#f1b6da"
            ],
            [
             0.4,
             "#fde0ef"
            ],
            [
             0.5,
             "#f7f7f7"
            ],
            [
             0.6,
             "#e6f5d0"
            ],
            [
             0.7,
             "#b8e186"
            ],
            [
             0.8,
             "#7fbc41"
            ],
            [
             0.9,
             "#4d9221"
            ],
            [
             1,
             "#276419"
            ]
           ],
           "sequential": [
            [
             0.0,
             "#0d0887"
            ],
            [
             0.1111111111111111,
             "#46039f"
            ],
            [
             0.2222222222222222,
             "#7201a8"
            ],
            [
             0.3333333333333333,
             "#9c179e"
            ],
            [
             0.4444444444444444,
             "#bd3786"
            ],
            [
             0.5555555555555556,
             "#d8576b"
            ],
            [
             0.6666666666666666,
             "#ed7953"
            ],
            [
             0.7777777777777778,
             "#fb9f3a"
            ],
            [
             0.8888888888888888,
             "#fdca26"
            ],
            [
             1.0,
             "#f0f921"
            ]
           ],
           "sequentialminus": [
            [
             0.0,
             "#0d0887"
            ],
            [
             0.1111111111111111,
             "#46039f"
            ],
            [
             0.2222222222222222,
             "#7201a8"
            ],
            [
             0.3333333333333333,
             "#9c179e"
            ],
            [
             0.4444444444444444,
             "#bd3786"
            ],
            [
             0.5555555555555556,
             "#d8576b"
            ],
            [
             0.6666666666666666,
             "#ed7953"
            ],
            [
             0.7777777777777778,
             "#fb9f3a"
            ],
            [
             0.8888888888888888,
             "#fdca26"
            ],
            [
             1.0,
             "#f0f921"
            ]
           ]
          },
          "colorway": [
           "#636efa",
           "#EF553B",
           "#00cc96",
           "#ab63fa",
           "#FFA15A",
           "#19d3f3",
           "#FF6692",
           "#B6E880",
           "#FF97FF",
           "#FECB52"
          ],
          "font": {
           "color": "#2a3f5f"
          },
          "geo": {
           "bgcolor": "white",
           "lakecolor": "white",
           "landcolor": "#E5ECF6",
           "showlakes": true,
           "showland": true,
           "subunitcolor": "white"
          },
          "hoverlabel": {
           "align": "left"
          },
          "hovermode": "closest",
          "mapbox": {
           "style": "light"
          },
          "paper_bgcolor": "white",
          "plot_bgcolor": "#E5ECF6",
          "polar": {
           "angularaxis": {
            "gridcolor": "white",
            "linecolor": "white",
            "ticks": ""
           },
           "bgcolor": "#E5ECF6",
           "radialaxis": {
            "gridcolor": "white",
            "linecolor": "white",
            "ticks": ""
           }
          },
          "scene": {
           "xaxis": {
            "backgroundcolor": "#E5ECF6",
            "gridcolor": "white",
            "gridwidth": 2,
            "linecolor": "white",
            "showbackground": true,
            "ticks": "",
            "zerolinecolor": "white"
           },
           "yaxis": {
            "backgroundcolor": "#E5ECF6",
            "gridcolor": "white",
            "gridwidth": 2,
            "linecolor": "white",
            "showbackground": true,
            "ticks": "",
            "zerolinecolor": "white"
           },
           "zaxis": {
            "backgroundcolor": "#E5ECF6",
            "gridcolor": "white",
            "gridwidth": 2,
            "linecolor": "white",
            "showbackground": true,
            "ticks": "",
            "zerolinecolor": "white"
           }
          },
          "shapedefaults": {
           "line": {
            "color": "#2a3f5f"
           }
          },
          "ternary": {
           "aaxis": {
            "gridcolor": "white",
            "linecolor": "white",
            "ticks": ""
           },
           "baxis": {
            "gridcolor": "white",
            "linecolor": "white",
            "ticks": ""
           },
           "bgcolor": "#E5ECF6",
           "caxis": {
            "gridcolor": "white",
            "linecolor": "white",
            "ticks": ""
           }
          },
          "title": {
           "x": 0.05
          },
          "xaxis": {
           "automargin": true,
           "gridcolor": "white",
           "linecolor": "white",
           "ticks": "",
           "title": {
            "standoff": 15
           },
           "zerolinecolor": "white",
           "zerolinewidth": 2
          },
          "yaxis": {
           "automargin": true,
           "gridcolor": "white",
           "linecolor": "white",
           "ticks": "",
           "title": {
            "standoff": 15
           },
           "zerolinecolor": "white",
           "zerolinewidth": 2
          }
         }
        },
        "xaxis": {
         "anchor": "y",
         "domain": [
          0.0,
          1.0
         ],
         "title": {
          "text": "country"
         }
        },
        "yaxis": {
         "anchor": "x",
         "domain": [
          0.0,
          1.0
         ],
         "title": {
          "text": "ratio"
         }
        }
       }
      },
      "text/html": [
       "<div>                            <div id=\"e1125734-bc84-4bff-95e2-90ea8214b7b8\" class=\"plotly-graph-div\" style=\"height:525px; width:100%;\"></div>            <script type=\"text/javascript\">                require([\"plotly\"], function(Plotly) {                    window.PLOTLYENV=window.PLOTLYENV || {};                                    if (document.getElementById(\"e1125734-bc84-4bff-95e2-90ea8214b7b8\")) {                    Plotly.newPlot(                        \"e1125734-bc84-4bff-95e2-90ea8214b7b8\",                        [{\"alignmentgroup\": \"True\", \"hovertemplate\": \"country=%{x}<br>ratio=%{y}<extra></extra>\", \"legendgroup\": \"\", \"marker\": {\"color\": \"#636efa\"}, \"name\": \"\", \"offsetgroup\": \"\", \"orientation\": \"v\", \"showlegend\": false, \"textposition\": \"auto\", \"type\": \"bar\", \"x\": [\"China\", \"United States\", \"India\", \"United Kingdom\"], \"xaxis\": \"x\", \"y\": [0.2469755589326361, 0.4665098527140363, 0.18669587768120163, 0.41820644063316703], \"yaxis\": \"y\"}],                        {\"barmode\": \"relative\", \"legend\": {\"tracegroupgap\": 0}, \"margin\": {\"t\": 60}, \"template\": {\"data\": {\"bar\": [{\"error_x\": {\"color\": \"#2a3f5f\"}, \"error_y\": {\"color\": \"#2a3f5f\"}, \"marker\": {\"line\": {\"color\": \"#E5ECF6\", \"width\": 0.5}}, \"type\": \"bar\"}], \"barpolar\": [{\"marker\": {\"line\": {\"color\": \"#E5ECF6\", \"width\": 0.5}}, \"type\": \"barpolar\"}], \"carpet\": [{\"aaxis\": {\"endlinecolor\": \"#2a3f5f\", \"gridcolor\": \"white\", \"linecolor\": \"white\", \"minorgridcolor\": \"white\", \"startlinecolor\": \"#2a3f5f\"}, \"baxis\": {\"endlinecolor\": \"#2a3f5f\", \"gridcolor\": \"white\", \"linecolor\": \"white\", \"minorgridcolor\": \"white\", \"startlinecolor\": \"#2a3f5f\"}, \"type\": \"carpet\"}], \"choropleth\": [{\"colorbar\": {\"outlinewidth\": 0, \"ticks\": \"\"}, \"type\": \"choropleth\"}], \"contour\": [{\"colorbar\": {\"outlinewidth\": 0, \"ticks\": \"\"}, \"colorscale\": [[0.0, \"#0d0887\"], [0.1111111111111111, \"#46039f\"], [0.2222222222222222, \"#7201a8\"], [0.3333333333333333, \"#9c179e\"], [0.4444444444444444, \"#bd3786\"], [0.5555555555555556, \"#d8576b\"], [0.6666666666666666, \"#ed7953\"], [0.7777777777777778, \"#fb9f3a\"], [0.8888888888888888, \"#fdca26\"], [1.0, \"#f0f921\"]], \"type\": \"contour\"}], \"contourcarpet\": [{\"colorbar\": {\"outlinewidth\": 0, \"ticks\": \"\"}, \"type\": \"contourcarpet\"}], \"heatmap\": [{\"colorbar\": {\"outlinewidth\": 0, \"ticks\": \"\"}, \"colorscale\": [[0.0, \"#0d0887\"], [0.1111111111111111, \"#46039f\"], [0.2222222222222222, \"#7201a8\"], [0.3333333333333333, \"#9c179e\"], [0.4444444444444444, \"#bd3786\"], [0.5555555555555556, \"#d8576b\"], [0.6666666666666666, \"#ed7953\"], [0.7777777777777778, \"#fb9f3a\"], [0.8888888888888888, \"#fdca26\"], [1.0, \"#f0f921\"]], \"type\": \"heatmap\"}], \"heatmapgl\": [{\"colorbar\": {\"outlinewidth\": 0, \"ticks\": \"\"}, \"colorscale\": [[0.0, \"#0d0887\"], [0.1111111111111111, \"#46039f\"], [0.2222222222222222, \"#7201a8\"], [0.3333333333333333, \"#9c179e\"], [0.4444444444444444, \"#bd3786\"], [0.5555555555555556, \"#d8576b\"], [0.6666666666666666, \"#ed7953\"], [0.7777777777777778, \"#fb9f3a\"], [0.8888888888888888, \"#fdca26\"], [1.0, \"#f0f921\"]], \"type\": \"heatmapgl\"}], \"histogram\": [{\"marker\": {\"colorbar\": {\"outlinewidth\": 0, \"ticks\": \"\"}}, \"type\": \"histogram\"}], \"histogram2d\": [{\"colorbar\": {\"outlinewidth\": 0, \"ticks\": \"\"}, \"colorscale\": [[0.0, \"#0d0887\"], [0.1111111111111111, \"#46039f\"], [0.2222222222222222, \"#7201a8\"], [0.3333333333333333, \"#9c179e\"], [0.4444444444444444, \"#bd3786\"], [0.5555555555555556, \"#d8576b\"], [0.6666666666666666, \"#ed7953\"], [0.7777777777777778, \"#fb9f3a\"], [0.8888888888888888, \"#fdca26\"], [1.0, \"#f0f921\"]], \"type\": \"histogram2d\"}], \"histogram2dcontour\": [{\"colorbar\": {\"outlinewidth\": 0, \"ticks\": \"\"}, \"colorscale\": [[0.0, \"#0d0887\"], [0.1111111111111111, \"#46039f\"], [0.2222222222222222, \"#7201a8\"], [0.3333333333333333, \"#9c179e\"], [0.4444444444444444, \"#bd3786\"], [0.5555555555555556, \"#d8576b\"], [0.6666666666666666, \"#ed7953\"], [0.7777777777777778, \"#fb9f3a\"], [0.8888888888888888, \"#fdca26\"], [1.0, \"#f0f921\"]], \"type\": \"histogram2dcontour\"}], \"mesh3d\": [{\"colorbar\": {\"outlinewidth\": 0, \"ticks\": \"\"}, \"type\": \"mesh3d\"}], \"parcoords\": [{\"line\": {\"colorbar\": {\"outlinewidth\": 0, \"ticks\": \"\"}}, \"type\": \"parcoords\"}], \"pie\": [{\"automargin\": true, \"type\": \"pie\"}], \"scatter\": [{\"marker\": {\"colorbar\": {\"outlinewidth\": 0, \"ticks\": \"\"}}, \"type\": \"scatter\"}], \"scatter3d\": [{\"line\": {\"colorbar\": {\"outlinewidth\": 0, \"ticks\": \"\"}}, \"marker\": {\"colorbar\": {\"outlinewidth\": 0, \"ticks\": \"\"}}, \"type\": \"scatter3d\"}], \"scattercarpet\": [{\"marker\": {\"colorbar\": {\"outlinewidth\": 0, \"ticks\": \"\"}}, \"type\": \"scattercarpet\"}], \"scattergeo\": [{\"marker\": {\"colorbar\": {\"outlinewidth\": 0, \"ticks\": \"\"}}, \"type\": \"scattergeo\"}], \"scattergl\": [{\"marker\": {\"colorbar\": {\"outlinewidth\": 0, \"ticks\": \"\"}}, \"type\": \"scattergl\"}], \"scattermapbox\": [{\"marker\": {\"colorbar\": {\"outlinewidth\": 0, \"ticks\": \"\"}}, \"type\": \"scattermapbox\"}], \"scatterpolar\": [{\"marker\": {\"colorbar\": {\"outlinewidth\": 0, \"ticks\": \"\"}}, \"type\": \"scatterpolar\"}], \"scatterpolargl\": [{\"marker\": {\"colorbar\": {\"outlinewidth\": 0, \"ticks\": \"\"}}, \"type\": \"scatterpolargl\"}], \"scatterternary\": [{\"marker\": {\"colorbar\": {\"outlinewidth\": 0, \"ticks\": \"\"}}, \"type\": \"scatterternary\"}], \"surface\": [{\"colorbar\": {\"outlinewidth\": 0, \"ticks\": \"\"}, \"colorscale\": [[0.0, \"#0d0887\"], [0.1111111111111111, \"#46039f\"], [0.2222222222222222, \"#7201a8\"], [0.3333333333333333, \"#9c179e\"], [0.4444444444444444, \"#bd3786\"], [0.5555555555555556, \"#d8576b\"], [0.6666666666666666, \"#ed7953\"], [0.7777777777777778, \"#fb9f3a\"], [0.8888888888888888, \"#fdca26\"], [1.0, \"#f0f921\"]], \"type\": \"surface\"}], \"table\": [{\"cells\": {\"fill\": {\"color\": \"#EBF0F8\"}, \"line\": {\"color\": \"white\"}}, \"header\": {\"fill\": {\"color\": \"#C8D4E3\"}, \"line\": {\"color\": \"white\"}}, \"type\": \"table\"}]}, \"layout\": {\"annotationdefaults\": {\"arrowcolor\": \"#2a3f5f\", \"arrowhead\": 0, \"arrowwidth\": 1}, \"autotypenumbers\": \"strict\", \"coloraxis\": {\"colorbar\": {\"outlinewidth\": 0, \"ticks\": \"\"}}, \"colorscale\": {\"diverging\": [[0, \"#8e0152\"], [0.1, \"#c51b7d\"], [0.2, \"#de77ae\"], [0.3, \"#f1b6da\"], [0.4, \"#fde0ef\"], [0.5, \"#f7f7f7\"], [0.6, \"#e6f5d0\"], [0.7, \"#b8e186\"], [0.8, \"#7fbc41\"], [0.9, \"#4d9221\"], [1, \"#276419\"]], \"sequential\": [[0.0, \"#0d0887\"], [0.1111111111111111, \"#46039f\"], [0.2222222222222222, \"#7201a8\"], [0.3333333333333333, \"#9c179e\"], [0.4444444444444444, \"#bd3786\"], [0.5555555555555556, \"#d8576b\"], [0.6666666666666666, \"#ed7953\"], [0.7777777777777778, \"#fb9f3a\"], [0.8888888888888888, \"#fdca26\"], [1.0, \"#f0f921\"]], \"sequentialminus\": [[0.0, \"#0d0887\"], [0.1111111111111111, \"#46039f\"], [0.2222222222222222, \"#7201a8\"], [0.3333333333333333, \"#9c179e\"], [0.4444444444444444, \"#bd3786\"], [0.5555555555555556, \"#d8576b\"], [0.6666666666666666, \"#ed7953\"], [0.7777777777777778, \"#fb9f3a\"], [0.8888888888888888, \"#fdca26\"], [1.0, \"#f0f921\"]]}, \"colorway\": [\"#636efa\", \"#EF553B\", \"#00cc96\", \"#ab63fa\", \"#FFA15A\", \"#19d3f3\", \"#FF6692\", \"#B6E880\", \"#FF97FF\", \"#FECB52\"], \"font\": {\"color\": \"#2a3f5f\"}, \"geo\": {\"bgcolor\": \"white\", \"lakecolor\": \"white\", \"landcolor\": \"#E5ECF6\", \"showlakes\": true, \"showland\": true, \"subunitcolor\": \"white\"}, \"hoverlabel\": {\"align\": \"left\"}, \"hovermode\": \"closest\", \"mapbox\": {\"style\": \"light\"}, \"paper_bgcolor\": \"white\", \"plot_bgcolor\": \"#E5ECF6\", \"polar\": {\"angularaxis\": {\"gridcolor\": \"white\", \"linecolor\": \"white\", \"ticks\": \"\"}, \"bgcolor\": \"#E5ECF6\", \"radialaxis\": {\"gridcolor\": \"white\", \"linecolor\": \"white\", \"ticks\": \"\"}}, \"scene\": {\"xaxis\": {\"backgroundcolor\": \"#E5ECF6\", \"gridcolor\": \"white\", \"gridwidth\": 2, \"linecolor\": \"white\", \"showbackground\": true, \"ticks\": \"\", \"zerolinecolor\": \"white\"}, \"yaxis\": {\"backgroundcolor\": \"#E5ECF6\", \"gridcolor\": \"white\", \"gridwidth\": 2, \"linecolor\": \"white\", \"showbackground\": true, \"ticks\": \"\", \"zerolinecolor\": \"white\"}, \"zaxis\": {\"backgroundcolor\": \"#E5ECF6\", \"gridcolor\": \"white\", \"gridwidth\": 2, \"linecolor\": \"white\", \"showbackground\": true, \"ticks\": \"\", \"zerolinecolor\": \"white\"}}, \"shapedefaults\": {\"line\": {\"color\": \"#2a3f5f\"}}, \"ternary\": {\"aaxis\": {\"gridcolor\": \"white\", \"linecolor\": \"white\", \"ticks\": \"\"}, \"baxis\": {\"gridcolor\": \"white\", \"linecolor\": \"white\", \"ticks\": \"\"}, \"bgcolor\": \"#E5ECF6\", \"caxis\": {\"gridcolor\": \"white\", \"linecolor\": \"white\", \"ticks\": \"\"}}, \"title\": {\"x\": 0.05}, \"xaxis\": {\"automargin\": true, \"gridcolor\": \"white\", \"linecolor\": \"white\", \"ticks\": \"\", \"title\": {\"standoff\": 15}, \"zerolinecolor\": \"white\", \"zerolinewidth\": 2}, \"yaxis\": {\"automargin\": true, \"gridcolor\": \"white\", \"linecolor\": \"white\", \"ticks\": \"\", \"title\": {\"standoff\": 15}, \"zerolinecolor\": \"white\", \"zerolinewidth\": 2}}}, \"xaxis\": {\"anchor\": \"y\", \"domain\": [0.0, 1.0], \"title\": {\"text\": \"country\"}}, \"yaxis\": {\"anchor\": \"x\", \"domain\": [0.0, 1.0], \"title\": {\"text\": \"ratio\"}}},                        {\"responsive\": true}                    ).then(function(){\n",
       "                            \n",
       "var gd = document.getElementById('e1125734-bc84-4bff-95e2-90ea8214b7b8');\n",
       "var x = new MutationObserver(function (mutations, observer) {{\n",
       "        var display = window.getComputedStyle(gd).display;\n",
       "        if (!display || display === 'none') {{\n",
       "            console.log([gd, 'removed!']);\n",
       "            Plotly.purge(gd);\n",
       "            observer.disconnect();\n",
       "        }}\n",
       "}});\n",
       "\n",
       "// Listen for the removal of the full notebook cells\n",
       "var notebookContainer = gd.closest('#notebook-container');\n",
       "if (notebookContainer) {{\n",
       "    x.observe(notebookContainer, {childList: true});\n",
       "}}\n",
       "\n",
       "// Listen for the clearing of the current output cell\n",
       "var outputEl = gd.closest('.output');\n",
       "if (outputEl) {{\n",
       "    x.observe(outputEl, {childList: true});\n",
       "}}\n",
       "\n",
       "                        })                };                });            </script>        </div>"
      ]
     },
     "metadata": {},
     "output_type": "display_data"
    }
   ],
   "source": [
    "px.bar(fully_vaccinated_sp,x='country',y='ratio')"
   ]
  },
  {
   "cell_type": "markdown",
   "id": "generic-sunrise",
   "metadata": {
    "papermill": {
     "duration": 0.061018,
     "end_time": "2021-06-16T10:54:41.594607",
     "exception": false,
     "start_time": "2021-06-16T10:54:41.533589",
     "status": "completed"
    },
    "tags": []
   },
   "source": [
    "From thr above graph we can say that in US there is a good ratio between total no. of people get vaccinated vs fully vaccinated people, in India there are still many people need to be get fully vaccinated."
   ]
  },
  {
   "cell_type": "markdown",
   "id": "satellite-anger",
   "metadata": {
    "papermill": {
     "duration": 0.061657,
     "end_time": "2021-06-16T10:54:41.718953",
     "exception": false,
     "start_time": "2021-06-16T10:54:41.657296",
     "status": "completed"
    },
    "tags": []
   },
   "source": [
    "# 4. Trace the daily vaccinations dynamic?"
   ]
  },
  {
   "cell_type": "code",
   "execution_count": 20,
   "id": "confidential-visit",
   "metadata": {
    "execution": {
     "iopub.execute_input": "2021-06-16T10:54:41.852523Z",
     "iopub.status.busy": "2021-06-16T10:54:41.851406Z",
     "iopub.status.idle": "2021-06-16T10:54:48.162758Z",
     "shell.execute_reply": "2021-06-16T10:54:48.162204Z",
     "shell.execute_reply.started": "2021-06-16T10:27:18.867258Z"
    },
    "papermill": {
     "duration": 6.381085,
     "end_time": "2021-06-16T10:54:48.162914",
     "exception": false,
     "start_time": "2021-06-16T10:54:41.781829",
     "status": "completed"
    },
    "tags": []
   },
   "outputs": [
    {
     "data": {
      "image/png": "[encoded data removed]",
      "text/plain": [
       "<Figure size 1080x360 with 1 Axes>"
      ]
     },
     "metadata": {
      "needs_background": "light"
     },
     "output_type": "display_data"
    }
   ],
   "source": [
    "plt.figure(figsize= (15,5))\n",
    "sns.lineplot(x= \"date\",y= \"daily_vaccinations\",data= df)\n",
    "plt.title(\"Exploring trend in the number of daily vaccinations\")\n",
    "plt.show()"
   ]
  },
  {
   "cell_type": "markdown",
   "id": "transsexual-dietary",
   "metadata": {
    "papermill": {
     "duration": 0.062479,
     "end_time": "2021-06-16T10:54:48.288306",
     "exception": false,
     "start_time": "2021-06-16T10:54:48.225827",
     "status": "completed"
    },
    "tags": []
   },
   "source": [
    "From this above figure we can sat that the vaccination starts increase in the month of february, may be caused by the second peak pf coronavirus"
   ]
  },
  {
   "cell_type": "markdown",
   "id": "biological-warning",
   "metadata": {
    "papermill": {
     "duration": 0.062592,
     "end_time": "2021-06-16T10:54:48.413693",
     "exception": false,
     "start_time": "2021-06-16T10:54:48.351101",
     "status": "completed"
    },
    "tags": []
   },
   "source": [
    "# 5. From which month based on countries vaccination procedure go on rapidly?"
   ]
  },
  {
   "cell_type": "code",
   "execution_count": 21,
   "id": "macro-delta",
   "metadata": {
    "execution": {
     "iopub.execute_input": "2021-06-16T10:54:48.548165Z",
     "iopub.status.busy": "2021-06-16T10:54:48.547497Z",
     "iopub.status.idle": "2021-06-16T10:54:48.967791Z",
     "shell.execute_reply": "2021-06-16T10:54:48.968291Z",
     "shell.execute_reply.started": "2021-06-16T10:27:25.504414Z"
    },
    "papermill": {
     "duration": 0.491816,
     "end_time": "2021-06-16T10:54:48.968462",
     "exception": false,
     "start_time": "2021-06-16T10:54:48.476646",
     "status": "completed"
    },
    "tags": []
   },
   "outputs": [
    {
     "data": {
      "text/plain": [
       "<AxesSubplot:xlabel='date', ylabel='daily_vaccinations_per_million'>"
      ]
     },
     "execution_count": 21,
     "metadata": {},
     "output_type": "execute_result"
    },
    {
     "data": {
      "image/png": "[encoded data removed]",
      "text/plain": [
       "<Figure size 720x864 with 1 Axes>"
      ]
     },
     "metadata": {
      "needs_background": "light"
     },
     "output_type": "display_data"
    }
   ],
   "source": [
    "countries = df.groupby('country')['total_vaccinations'].max().sort_values(ascending= False)[:5].index\n",
    "\n",
    "top_countries = pd.DataFrame(columns= df.columns)\n",
    "for country in countries:\n",
    "    top_countries = top_countries.append(df.loc[df['country'] == country])\n",
    "sns.lineplot(top_countries['date'], \n",
    "             top_countries['daily_vaccinations_per_million'], \n",
    "             hue= top_countries['country'], ci= False)"
   ]
  },
  {
   "cell_type": "markdown",
   "id": "funky-nepal",
   "metadata": {
    "papermill": {
     "duration": 0.068375,
     "end_time": "2021-06-16T10:54:49.103993",
     "exception": false,
     "start_time": "2021-06-16T10:54:49.035618",
     "status": "completed"
    },
    "tags": []
   },
   "source": [
    "As we can see fromthe above graph that every country except US, increase thier vaccination procedure, some countries like India has some decrease in graph in the month of may(may be people at that time due to second wave can't able to get the vaccination also shortage of vaccination also can be a factor), but after may in the month of june onwards it's again increased"
   ]
  },
  {
   "cell_type": "code",
   "execution_count": 22,
   "id": "going-optimization",
   "metadata": {
    "execution": {
     "iopub.execute_input": "2021-06-16T10:54:49.240936Z",
     "iopub.status.busy": "2021-06-16T10:54:49.240220Z",
     "iopub.status.idle": "2021-06-16T10:54:49.458260Z",
     "shell.execute_reply": "2021-06-16T10:54:49.458778Z",
     "shell.execute_reply.started": "2021-06-16T10:27:25.941143Z"
    },
    "papermill": {
     "duration": 0.287935,
     "end_time": "2021-06-16T10:54:49.458977",
     "exception": false,
     "start_time": "2021-06-16T10:54:49.171042",
     "status": "completed"
    },
    "tags": []
   },
   "outputs": [
    {
     "data": {
      "image/png": "[encoded data removed]",
      "text/plain": [
       "<Figure size 1080x360 with 1 Axes>"
      ]
     },
     "metadata": {
      "needs_background": "light"
     },
     "output_type": "display_data"
    }
   ],
   "source": [
    "plt.figure(figsize= (15,5))\n",
    "# In India\n",
    "sns.lineplot(x= \"date\",y= \"daily_vaccinations\",data= df[df.country== \"India\"])\n",
    "plt.title(\"Daily vaccinations in India\")\n",
    "plt.show()"
   ]
  },
  {
   "cell_type": "markdown",
   "id": "jewish-smith",
   "metadata": {
    "papermill": {
     "duration": 0.067353,
     "end_time": "2021-06-16T10:54:49.594895",
     "exception": false,
     "start_time": "2021-06-16T10:54:49.527542",
     "status": "completed"
    },
    "tags": []
   },
   "source": [
    "# 6. What is the country that vaccinated completely most of the population?"
   ]
  },
  {
   "cell_type": "code",
   "execution_count": 23,
   "id": "fatal-fairy",
   "metadata": {
    "execution": {
     "iopub.execute_input": "2021-06-16T10:54:49.737508Z",
     "iopub.status.busy": "2021-06-16T10:54:49.736712Z",
     "iopub.status.idle": "2021-06-16T10:54:49.743880Z",
     "shell.execute_reply": "2021-06-16T10:54:49.743167Z",
     "shell.execute_reply.started": "2021-06-16T10:27:26.179797Z"
    },
    "papermill": {
     "duration": 0.081504,
     "end_time": "2021-06-16T10:54:49.744024",
     "exception": false,
     "start_time": "2021-06-16T10:54:49.662520",
     "status": "completed"
    },
    "tags": []
   },
   "outputs": [],
   "source": [
    "population_country=df.groupby('country')['total_vaccinations_per_hundred'].max().sort_values(ascending=False).head(10).reset_index()"
   ]
  },
  {
   "cell_type": "code",
   "execution_count": 24,
   "id": "sunrise-example",
   "metadata": {
    "execution": {
     "iopub.execute_input": "2021-06-16T10:54:49.891760Z",
     "iopub.status.busy": "2021-06-16T10:54:49.890522Z",
     "iopub.status.idle": "2021-06-16T10:54:49.895222Z",
     "shell.execute_reply": "2021-06-16T10:54:49.895757Z",
     "shell.execute_reply.started": "2021-06-16T10:27:26.190117Z"
    },
    "papermill": {
     "duration": 0.084248,
     "end_time": "2021-06-16T10:54:49.895955",
     "exception": false,
     "start_time": "2021-06-16T10:54:49.811707",
     "status": "completed"
    },
    "tags": []
   },
   "outputs": [
    {
     "data": {
      "text/html": [
       "<div>\n",
       "<style scoped>\n",
       "    .dataframe tbody tr th:only-of-type {\n",
       "        vertical-align: middle;\n",
       "    }\n",
       "\n",
       "    .dataframe tbody tr th {\n",
       "        vertical-align: top;\n",
       "    }\n",
       "\n",
       "    .dataframe thead th {\n",
       "        text-align: right;\n",
       "    }\n",
       "</style>\n",
       "<table border=\"1\" class=\"dataframe\">\n",
       "  <thead>\n",
       "    <tr style=\"text-align: right;\">\n",
       "      <th></th>\n",
       "      <th>country</th>\n",
       "      <th>total_vaccinations_per_hundred</th>\n",
       "    </tr>\n",
       "  </thead>\n",
       "  <tbody>\n",
       "    <tr>\n",
       "      <th>0</th>\n",
       "      <td>Gibraltar</td>\n",
       "      <td>231.01</td>\n",
       "    </tr>\n",
       "    <tr>\n",
       "      <th>1</th>\n",
       "      <td>United Arab Emirates</td>\n",
       "      <td>140.02</td>\n",
       "    </tr>\n",
       "    <tr>\n",
       "      <th>2</th>\n",
       "      <td>Seychelles</td>\n",
       "      <td>139.51</td>\n",
       "    </tr>\n",
       "    <tr>\n",
       "      <th>3</th>\n",
       "      <td>Malta</td>\n",
       "      <td>133.51</td>\n",
       "    </tr>\n",
       "    <tr>\n",
       "      <th>4</th>\n",
       "      <td>Cayman Islands</td>\n",
       "      <td>131.94</td>\n",
       "    </tr>\n",
       "    <tr>\n",
       "      <th>5</th>\n",
       "      <td>Saint Helena</td>\n",
       "      <td>130.00</td>\n",
       "    </tr>\n",
       "    <tr>\n",
       "      <th>6</th>\n",
       "      <td>San Marino</td>\n",
       "      <td>128.19</td>\n",
       "    </tr>\n",
       "    <tr>\n",
       "      <th>7</th>\n",
       "      <td>Falkland Islands</td>\n",
       "      <td>126.53</td>\n",
       "    </tr>\n",
       "    <tr>\n",
       "      <th>8</th>\n",
       "      <td>Israel</td>\n",
       "      <td>122.79</td>\n",
       "    </tr>\n",
       "    <tr>\n",
       "      <th>9</th>\n",
       "      <td>Bermuda</td>\n",
       "      <td>120.20</td>\n",
       "    </tr>\n",
       "  </tbody>\n",
       "</table>\n",
       "</div>"
      ],
      "text/plain": [
       "                country  total_vaccinations_per_hundred\n",
       "0             Gibraltar                          231.01\n",
       "1  United Arab Emirates                          140.02\n",
       "2            Seychelles                          139.51\n",
       "3                 Malta                          133.51\n",
       "4        Cayman Islands                          131.94\n",
       "5          Saint Helena                          130.00\n",
       "6            San Marino                          128.19\n",
       "7      Falkland Islands                          126.53\n",
       "8                Israel                          122.79\n",
       "9               Bermuda                          120.20"
      ]
     },
     "execution_count": 24,
     "metadata": {},
     "output_type": "execute_result"
    }
   ],
   "source": [
    "population_country"
   ]
  },
  {
   "cell_type": "code",
   "execution_count": 25,
   "id": "billion-yukon",
   "metadata": {
    "execution": {
     "iopub.execute_input": "2021-06-16T10:54:50.074660Z",
     "iopub.status.busy": "2021-06-16T10:54:50.064548Z",
     "iopub.status.idle": "2021-06-16T10:54:50.275338Z",
     "shell.execute_reply": "2021-06-16T10:54:50.274700Z",
     "shell.execute_reply.started": "2021-06-16T10:27:26.211484Z"
    },
    "papermill": {
     "duration": 0.308585,
     "end_time": "2021-06-16T10:54:50.275493",
     "exception": false,
     "start_time": "2021-06-16T10:54:49.966908",
     "status": "completed"
    },
    "tags": []
   },
   "outputs": [
    {
     "data": {
      "image/png": "[encoded data removed]",
      "text/plain": [
       "<Figure size 576x360 with 1 Axes>"
      ]
     },
     "metadata": {
      "needs_background": "light"
     },
     "output_type": "display_data"
    }
   ],
   "source": [
    "plt.figure(figsize= (8, 5))\n",
    "\n",
    "ax = sns.barplot(data=population_country, y= 'country', x= 'total_vaccinations_per_hundred')\n",
    "\n",
    "plt.title('Total Vaccinations / Population', size= 20)\n",
    "plt.xlabel('Total Vaccinations', size= 15)\n",
    "plt.ylabel('Country', size= 15)\n",
    "\n",
    "for patch in ax.patches:\n",
    "    width = patch.get_width()\n",
    "    height = patch.get_height()\n",
    "    x = patch.get_x()\n",
    "    y = patch.get_y()\n",
    "    \n",
    "    plt.text(width + x, height + y, '{:.1f} %'.format(width))"
   ]
  },
  {
   "cell_type": "markdown",
   "id": "fiscal-quest",
   "metadata": {
    "papermill": {
     "duration": 0.068901,
     "end_time": "2021-06-16T10:54:50.413855",
     "exception": false,
     "start_time": "2021-06-16T10:54:50.344954",
     "status": "completed"
    },
    "tags": []
   },
   "source": [
    "# 7. What country has immunized the largest percent from its population?"
   ]
  },
  {
   "cell_type": "code",
   "execution_count": 26,
   "id": "standard-filename",
   "metadata": {
    "execution": {
     "iopub.execute_input": "2021-06-16T10:54:50.559820Z",
     "iopub.status.busy": "2021-06-16T10:54:50.559098Z",
     "iopub.status.idle": "2021-06-16T10:54:50.566061Z",
     "shell.execute_reply": "2021-06-16T10:54:50.565390Z",
     "shell.execute_reply.started": "2021-06-16T10:27:26.463138Z"
    },
    "papermill": {
     "duration": 0.083017,
     "end_time": "2021-06-16T10:54:50.566211",
     "exception": false,
     "start_time": "2021-06-16T10:54:50.483194",
     "status": "completed"
    },
    "tags": []
   },
   "outputs": [],
   "source": [
    "population_people_vaccination=df.groupby('country')['people_vaccinated_per_hundred'].max().sort_values(ascending=False).head(10).reset_index()"
   ]
  },
  {
   "cell_type": "code",
   "execution_count": 27,
   "id": "completed-helen",
   "metadata": {
    "execution": {
     "iopub.execute_input": "2021-06-16T10:54:50.767044Z",
     "iopub.status.busy": "2021-06-16T10:54:50.766082Z",
     "iopub.status.idle": "2021-06-16T10:54:50.770840Z",
     "shell.execute_reply": "2021-06-16T10:54:50.770275Z",
     "shell.execute_reply.started": "2021-06-16T10:27:26.478765Z"
    },
    "papermill": {
     "duration": 0.134988,
     "end_time": "2021-06-16T10:54:50.770990",
     "exception": false,
     "start_time": "2021-06-16T10:54:50.636002",
     "status": "completed"
    },
    "tags": []
   },
   "outputs": [
    {
     "data": {
      "text/html": [
       "<div>\n",
       "<style scoped>\n",
       "    .dataframe tbody tr th:only-of-type {\n",
       "        vertical-align: middle;\n",
       "    }\n",
       "\n",
       "    .dataframe tbody tr th {\n",
       "        vertical-align: top;\n",
       "    }\n",
       "\n",
       "    .dataframe thead th {\n",
       "        text-align: right;\n",
       "    }\n",
       "</style>\n",
       "<table border=\"1\" class=\"dataframe\">\n",
       "  <thead>\n",
       "    <tr style=\"text-align: right;\">\n",
       "      <th></th>\n",
       "      <th>country</th>\n",
       "      <th>people_vaccinated_per_hundred</th>\n",
       "    </tr>\n",
       "  </thead>\n",
       "  <tbody>\n",
       "    <tr>\n",
       "      <th>0</th>\n",
       "      <td>Gibraltar</td>\n",
       "      <td>116.15</td>\n",
       "    </tr>\n",
       "    <tr>\n",
       "      <th>1</th>\n",
       "      <td>Malta</td>\n",
       "      <td>77.01</td>\n",
       "    </tr>\n",
       "    <tr>\n",
       "      <th>2</th>\n",
       "      <td>Falkland Islands</td>\n",
       "      <td>75.57</td>\n",
       "    </tr>\n",
       "    <tr>\n",
       "      <th>3</th>\n",
       "      <td>Isle of Man</td>\n",
       "      <td>73.10</td>\n",
       "    </tr>\n",
       "    <tr>\n",
       "      <th>4</th>\n",
       "      <td>Seychelles</td>\n",
       "      <td>71.85</td>\n",
       "    </tr>\n",
       "    <tr>\n",
       "      <th>5</th>\n",
       "      <td>Saint Helena</td>\n",
       "      <td>71.83</td>\n",
       "    </tr>\n",
       "    <tr>\n",
       "      <th>6</th>\n",
       "      <td>Cayman Islands</td>\n",
       "      <td>71.41</td>\n",
       "    </tr>\n",
       "    <tr>\n",
       "      <th>7</th>\n",
       "      <td>Wales</td>\n",
       "      <td>70.29</td>\n",
       "    </tr>\n",
       "    <tr>\n",
       "      <th>8</th>\n",
       "      <td>Nauru</td>\n",
       "      <td>68.65</td>\n",
       "    </tr>\n",
       "    <tr>\n",
       "      <th>9</th>\n",
       "      <td>Canada</td>\n",
       "      <td>65.07</td>\n",
       "    </tr>\n",
       "  </tbody>\n",
       "</table>\n",
       "</div>"
      ],
      "text/plain": [
       "            country  people_vaccinated_per_hundred\n",
       "0         Gibraltar                         116.15\n",
       "1             Malta                          77.01\n",
       "2  Falkland Islands                          75.57\n",
       "3       Isle of Man                          73.10\n",
       "4        Seychelles                          71.85\n",
       "5      Saint Helena                          71.83\n",
       "6    Cayman Islands                          71.41\n",
       "7             Wales                          70.29\n",
       "8             Nauru                          68.65\n",
       "9            Canada                          65.07"
      ]
     },
     "execution_count": 27,
     "metadata": {},
     "output_type": "execute_result"
    }
   ],
   "source": [
    "population_people_vaccination"
   ]
  },
  {
   "cell_type": "code",
   "execution_count": 28,
   "id": "homeless-oklahoma",
   "metadata": {
    "execution": {
     "iopub.execute_input": "2021-06-16T10:54:50.944813Z",
     "iopub.status.busy": "2021-06-16T10:54:50.943133Z",
     "iopub.status.idle": "2021-06-16T10:54:51.156278Z",
     "shell.execute_reply": "2021-06-16T10:54:51.155669Z",
     "shell.execute_reply.started": "2021-06-16T10:27:26.495907Z"
    },
    "papermill": {
     "duration": 0.314794,
     "end_time": "2021-06-16T10:54:51.156415",
     "exception": false,
     "start_time": "2021-06-16T10:54:50.841621",
     "status": "completed"
    },
    "tags": []
   },
   "outputs": [
    {
     "data": {
      "image/png": "[encoded data removed]",
      "text/plain": [
       "<Figure size 576x360 with 1 Axes>"
      ]
     },
     "metadata": {
      "needs_background": "light"
     },
     "output_type": "display_data"
    }
   ],
   "source": [
    "plt.figure(figsize= (8, 5))\n",
    "\n",
    "ax = sns.barplot(data=population_people_vaccination, y= 'country', x= 'people_vaccinated_per_hundred')\n",
    "\n",
    "plt.title('Percentage of the Vaccinated Population', size= 20)\n",
    "plt.xlabel('People Vaccinated', size= 15)\n",
    "plt.ylabel('Country', size= 15)\n",
    "\n",
    "for patch in ax.patches:\n",
    "    width = patch.get_width()\n",
    "    height = patch.get_height()\n",
    "    x = patch.get_x()\n",
    "    y = patch.get_y()\n",
    "    \n",
    "    plt.text(width + x, height + y, '{:.1f} %'.format(width))"
   ]
  },
  {
   "cell_type": "markdown",
   "id": "dying-current",
   "metadata": {
    "papermill": {
     "duration": 0.070555,
     "end_time": "2021-06-16T10:54:51.299555",
     "exception": false,
     "start_time": "2021-06-16T10:54:51.229000",
     "status": "completed"
    },
    "tags": []
   },
   "source": [
    "# 8. What is the vaccine used in the largest number of countries?"
   ]
  },
  {
   "cell_type": "code",
   "execution_count": 29,
   "id": "sporting-blues",
   "metadata": {
    "execution": {
     "iopub.execute_input": "2021-06-16T10:54:51.455763Z",
     "iopub.status.busy": "2021-06-16T10:54:51.452360Z",
     "iopub.status.idle": "2021-06-16T10:54:51.460028Z",
     "shell.execute_reply": "2021-06-16T10:54:51.459374Z",
     "shell.execute_reply.started": "2021-06-16T10:27:26.924330Z"
    },
    "papermill": {
     "duration": 0.08928,
     "end_time": "2021-06-16T10:54:51.460169",
     "exception": false,
     "start_time": "2021-06-16T10:54:51.370889",
     "status": "completed"
    },
    "tags": []
   },
   "outputs": [
    {
     "data": {
      "text/plain": [
       "Oxford/AstraZeneca                                                                    4130\n",
       "Johnson&Johnson, Moderna, Oxford/AstraZeneca, Pfizer/BioNTech                         3314\n",
       "Moderna, Oxford/AstraZeneca, Pfizer/BioNTech                                          2107\n",
       "Oxford/AstraZeneca, Pfizer/BioNTech                                                   1739\n",
       "Moderna, Pfizer/BioNTech                                                              1514\n",
       "Oxford/AstraZeneca, Pfizer/BioNTech, Sinopharm/Beijing, Sputnik V                     1289\n",
       "Pfizer/BioNTech                                                                       1061\n",
       "Oxford/AstraZeneca, Sinopharm/Beijing                                                 1030\n",
       "Oxford/AstraZeneca, Pfizer/BioNTech, Sinovac                                           986\n",
       "Oxford/AstraZeneca, Sputnik V                                                          527\n",
       "Oxford/AstraZeneca, Pfizer/BioNTech, Sinovac, Sputnik V                                479\n",
       "Oxford/AstraZeneca, Sinopharm/Beijing, Sputnik V                                       450\n",
       "BBIBP-CorV, Oxford/AstraZeneca                                                         431\n",
       "Sinopharm/Beijing, Sputnik V                                                           324\n",
       "Oxford/AstraZeneca, Sinovac                                                            289\n",
       "Sinopharm/Beijing                                                                      289\n",
       "Pfizer/BioNTech, Sinovac                                                               266\n",
       "Oxford/AstraZeneca, Pfizer/BioNTech, Sinopharm/Beijing                                 257\n",
       "Oxford/AstraZeneca, Sinovac, Sputnik V                                                 217\n",
       "Moderna, Oxford/AstraZeneca                                                            195\n",
       "Covaxin, Oxford/AstraZeneca                                                            185\n",
       "Covaxin, Oxford/AstraZeneca, Sinopharm/Beijing                                         184\n",
       "CanSino, Sinopharm/Beijing, Sinopharm/Wuhan, Sinovac                                   182\n",
       "EpiVacCorona, Sputnik V                                                                182\n",
       "Johnson&Johnson, Moderna, Pfizer/BioNTech                                              177\n",
       "CanSino, Oxford/AstraZeneca, Pfizer/BioNTech, Sinovac, Sputnik V                       172\n",
       "CanSino, Oxford/AstraZeneca, Pfizer/BioNTech, Sinovac                                  172\n",
       "Moderna, Oxford/AstraZeneca, Pfizer/BioNTech, Sinopharm/Beijing, Sputnik V             164\n",
       "Oxford/AstraZeneca, Pfizer/BioNTech, Sinopharm/Beijing, Sinopharm/Wuhan, Sputnik V     161\n",
       "BBIBP-CorV, Oxford/AstraZeneca, Sinovac, Sputnik V                                     140\n",
       "Moderna                                                                                139\n",
       "QazVac, Sinopharm/HayatVax, Sputnik V                                                  135\n",
       "CanSino, Oxford/AstraZeneca, Sinopharm/Beijing, Sinovac, Sputnik V                     132\n",
       "Pfizer/BioNTech, Sinopharm/Beijing                                                     127\n",
       "Oxford/AstraZeneca, Sinopharm/Beijing, Sinovac                                         126\n",
       "Covaxin, Oxford/AstraZeneca, Sinopharm/Beijing, Sputnik V                              121\n",
       "Oxford/AstraZeneca, Pfizer/BioNTech, Sinopharm/Beijing, Sinovac                        119\n",
       "Johnson&Johnson, Pfizer/BioNTech                                                       119\n",
       "BBIBP-CorV, Sputnik V                                                                  115\n",
       "BBIBP-CorV, Oxford/AstraZeneca, Pfizer/BioNTech                                        113\n",
       "Covaxin, Oxford/AstraZeneca, Sinopharm/Beijing, Sinovac, Sputnik V                     110\n",
       "Pfizer/BioNTech, Sputnik V                                                             107\n",
       "Johnson&Johnson, Moderna, Oxford/AstraZeneca, Sputnik V                                106\n",
       "BBIBP-CorV, Oxford/AstraZeneca, Pfizer/BioNTech, Sinovac                                97\n",
       "Sputnik V                                                                               75\n",
       "Oxford/AstraZeneca, RBD-Dimer, Sputnik V                                                63\n",
       "BBIBP-CorV, Moderna, Oxford/AstraZeneca, Sputnik V                                      62\n",
       "Johnson&Johnson, Moderna, Oxford/AstraZeneca, Pfizer/BioNTech, Sinovac, Sputnik V       57\n",
       "BBIBP-CorV, Oxford/AstraZeneca, Sinovac                                                 57\n",
       "Abdala, Soberana02                                                                      25\n",
       "BBIBP-CorV                                                                               1\n",
       "EpiVacCorona, Oxford/AstraZeneca, Sinopharm/Beijing, Sputnik V                           1\n",
       "Name: vaccines, dtype: int64"
      ]
     },
     "execution_count": 29,
     "metadata": {},
     "output_type": "execute_result"
    }
   ],
   "source": [
    "df['vaccines'].value_counts()"
   ]
  },
  {
   "cell_type": "code",
   "execution_count": 30,
   "id": "earned-commission",
   "metadata": {
    "execution": {
     "iopub.execute_input": "2021-06-16T10:54:51.612373Z",
     "iopub.status.busy": "2021-06-16T10:54:51.611701Z",
     "iopub.status.idle": "2021-06-16T10:54:53.092657Z",
     "shell.execute_reply": "2021-06-16T10:54:53.093211Z",
     "shell.execute_reply.started": "2021-06-16T10:27:26.940339Z"
    },
    "papermill": {
     "duration": 1.560575,
     "end_time": "2021-06-16T10:54:53.093392",
     "exception": false,
     "start_time": "2021-06-16T10:54:51.532817",
     "status": "completed"
    },
    "tags": []
   },
   "outputs": [
    {
     "data": {
      "image/png": "[encoded data removed]",
      "text/plain": [
       "<Figure size 1440x720 with 1 Axes>"
      ]
     },
     "metadata": {
      "needs_background": "light"
     },
     "output_type": "display_data"
    }
   ],
   "source": [
    "from wordcloud import WordCloud, STOPWORDS\n",
    "plt.figure(figsize= (20,10))\n",
    "all_words = \"\".join(df[\"vaccines\"])\n",
    "wc = WordCloud(stopwords=STOPWORDS, \n",
    "                 background_color=\"black\",\n",
    "               max_words=2000, max_font_size=280,\n",
    "               random_state=42, width=1000,\n",
    "               height=800).generate(all_words)\n",
    "\n",
    "plt.imshow(wc, interpolation=\"bilinear\")\n",
    "plt.axis('off')\n",
    "plt.show()"
   ]
  },
  {
   "cell_type": "code",
   "execution_count": 31,
   "id": "oriental-ordering",
   "metadata": {
    "execution": {
     "iopub.execute_input": "2021-06-16T10:54:53.286861Z",
     "iopub.status.busy": "2021-06-16T10:54:53.285825Z",
     "iopub.status.idle": "2021-06-16T10:54:53.599134Z",
     "shell.execute_reply": "2021-06-16T10:54:53.598467Z",
     "shell.execute_reply.started": "2021-06-16T10:27:28.369899Z"
    },
    "papermill": {
     "duration": 0.424434,
     "end_time": "2021-06-16T10:54:53.599282",
     "exception": false,
     "start_time": "2021-06-16T10:54:53.174848",
     "status": "completed"
    },
    "tags": []
   },
   "outputs": [
    {
     "data": {
      "image/png": "[encoded data removed]",
      "text/plain": [
       "<Figure size 720x720 with 1 Axes>"
      ]
     },
     "metadata": {
      "needs_background": "light"
     },
     "output_type": "display_data"
    }
   ],
   "source": [
    "plt.figure(figsize=[10,10])\n",
    "sns.countplot(y=df.vaccines,palette='CMRmap',\n",
    "             order=df['vaccines'].value_counts().head(15).index)\n",
    "plt.title(\"Popularly used vaccines\")\n",
    "plt.xticks(rotation=90);"
   ]
  },
  {
   "cell_type": "markdown",
   "id": "offensive-triangle",
   "metadata": {
    "papermill": {
     "duration": 0.082898,
     "end_time": "2021-06-16T10:54:53.765715",
     "exception": false,
     "start_time": "2021-06-16T10:54:53.682817",
     "status": "completed"
    },
    "tags": []
   },
   "source": [
    "From this above graph we can get that the most used vaccines are oxford/AstraZeneca and Pfizer"
   ]
  },
  {
   "cell_type": "markdown",
   "id": "color-package",
   "metadata": {
    "papermill": {
     "duration": 0.084218,
     "end_time": "2021-06-16T10:54:53.933251",
     "exception": false,
     "start_time": "2021-06-16T10:54:53.849033",
     "status": "completed"
    },
    "tags": []
   },
   "source": [
    "# 9. What vaccination schemes (combination of vaccines) are used and in which countries?"
   ]
  },
  {
   "cell_type": "code",
   "execution_count": 32,
   "id": "virtual-hamilton",
   "metadata": {
    "execution": {
     "iopub.execute_input": "2021-06-16T10:54:54.113980Z",
     "iopub.status.busy": "2021-06-16T10:54:54.112907Z",
     "iopub.status.idle": "2021-06-16T10:54:54.129928Z",
     "shell.execute_reply": "2021-06-16T10:54:54.129333Z",
     "shell.execute_reply.started": "2021-06-16T10:27:28.727822Z"
    },
    "papermill": {
     "duration": 0.110133,
     "end_time": "2021-06-16T10:54:54.130070",
     "exception": false,
     "start_time": "2021-06-16T10:54:54.019937",
     "status": "completed"
    },
    "tags": []
   },
   "outputs": [
    {
     "data": {
      "text/plain": [
       "country                          vaccines                                                      \n",
       "Norway                           Moderna, Pfizer/BioNTech                                          194\n",
       "Scotland                         Moderna, Oxford/AstraZeneca, Pfizer/BioNTech                      186\n",
       "Canada                           Moderna, Oxford/AstraZeneca, Pfizer/BioNTech                      183\n",
       "Russia                           EpiVacCorona, Sputnik V                                           182\n",
       "China                            CanSino, Sinopharm/Beijing, Sinopharm/Wuhan, Sinovac              182\n",
       "                                                                                                  ... \n",
       "Burkina Faso                     Oxford/AstraZeneca                                                 13\n",
       "Vanuatu                          Oxford/AstraZeneca                                                  8\n",
       "Bonaire Sint Eustatius and Saba  Moderna, Pfizer/BioNTech                                            1\n",
       "Turkmenistan                     EpiVacCorona, Oxford/AstraZeneca, Sinopharm/Beijing, Sputnik V      1\n",
       "Chad                             BBIBP-CorV                                                          1\n",
       "Name: vaccines, Length: 216, dtype: int64"
      ]
     },
     "execution_count": 32,
     "metadata": {},
     "output_type": "execute_result"
    }
   ],
   "source": [
    "df.groupby('country')['vaccines'].value_counts().sort_values(ascending=False)"
   ]
  },
  {
   "cell_type": "markdown",
   "id": "arbitrary-identification",
   "metadata": {
    "papermill": {
     "duration": 0.085596,
     "end_time": "2021-06-16T10:54:54.300972",
     "exception": false,
     "start_time": "2021-06-16T10:54:54.215376",
     "status": "completed"
    },
    "tags": []
   },
   "source": [
    "so here we can see some countries using some of the mixed vaccines, like norway is using modrena as well as pfizer"
   ]
  },
  {
   "cell_type": "code",
   "execution_count": 33,
   "id": "double-cambridge",
   "metadata": {
    "execution": {
     "iopub.execute_input": "2021-06-16T10:54:54.484143Z",
     "iopub.status.busy": "2021-06-16T10:54:54.482991Z",
     "iopub.status.idle": "2021-06-16T10:54:54.926104Z",
     "shell.execute_reply": "2021-06-16T10:54:54.925572Z",
     "shell.execute_reply.started": "2021-06-16T10:27:28.750138Z"
    },
    "papermill": {
     "duration": 0.53519,
     "end_time": "2021-06-16T10:54:54.926249",
     "exception": false,
     "start_time": "2021-06-16T10:54:54.391059",
     "status": "completed"
    },
    "tags": []
   },
   "outputs": [
    {
     "data": {
      "text/plain": [
       "<AxesSubplot:xlabel='country,vaccines'>"
      ]
     },
     "execution_count": 33,
     "metadata": {},
     "output_type": "execute_result"
    },
    {
     "data": {
      "image/png": "[encoded data removed]",
      "text/plain": [
       "<Figure size 720x864 with 1 Axes>"
      ]
     },
     "metadata": {
      "needs_background": "light"
     },
     "output_type": "display_data"
    }
   ],
   "source": [
    "df.groupby('country')['vaccines'].value_counts().sort_values(ascending=False).head(20).plot(kind='bar')"
   ]
  },
  {
   "cell_type": "markdown",
   "id": "surrounded-things",
   "metadata": {
    "papermill": {
     "duration": 0.088071,
     "end_time": "2021-06-16T10:54:55.102957",
     "exception": false,
     "start_time": "2021-06-16T10:54:55.014886",
     "status": "completed"
    },
    "tags": []
   },
   "source": [
    "# 10. Which country prefers what vaccine?"
   ]
  },
  {
   "cell_type": "code",
   "execution_count": 34,
   "id": "geological-cameroon",
   "metadata": {
    "execution": {
     "iopub.execute_input": "2021-06-16T10:54:55.284328Z",
     "iopub.status.busy": "2021-06-16T10:54:55.283645Z",
     "iopub.status.idle": "2021-06-16T10:54:55.327647Z",
     "shell.execute_reply": "2021-06-16T10:54:55.327066Z",
     "shell.execute_reply.started": "2021-06-16T10:27:29.212267Z"
    },
    "papermill": {
     "duration": 0.138218,
     "end_time": "2021-06-16T10:54:55.327807",
     "exception": false,
     "start_time": "2021-06-16T10:54:55.189589",
     "status": "completed"
    },
    "tags": []
   },
   "outputs": [
    {
     "data": {
      "text/html": [
       "<div>\n",
       "<style scoped>\n",
       "    .dataframe tbody tr th:only-of-type {\n",
       "        vertical-align: middle;\n",
       "    }\n",
       "\n",
       "    .dataframe tbody tr th {\n",
       "        vertical-align: top;\n",
       "    }\n",
       "\n",
       "    .dataframe thead th {\n",
       "        text-align: right;\n",
       "    }\n",
       "</style>\n",
       "<table border=\"1\" class=\"dataframe\">\n",
       "  <thead>\n",
       "    <tr style=\"text-align: right;\">\n",
       "      <th></th>\n",
       "      <th>vaccines</th>\n",
       "      <th>country</th>\n",
       "    </tr>\n",
       "  </thead>\n",
       "  <tbody>\n",
       "    <tr>\n",
       "      <th>0</th>\n",
       "      <td>Abdala, Soberana02</td>\n",
       "      <td>[Cuba]</td>\n",
       "    </tr>\n",
       "    <tr>\n",
       "      <th>1</th>\n",
       "      <td>BBIBP-CorV</td>\n",
       "      <td>[Chad]</td>\n",
       "    </tr>\n",
       "    <tr>\n",
       "      <th>2</th>\n",
       "      <td>BBIBP-CorV, Moderna, Oxford/AstraZeneca, Sputn...</td>\n",
       "      <td>[Congo]</td>\n",
       "    </tr>\n",
       "    <tr>\n",
       "      <th>3</th>\n",
       "      <td>BBIBP-CorV, Oxford/AstraZeneca</td>\n",
       "      <td>[Cameroon, Mauritania, Niger, Senegal, Sierra ...</td>\n",
       "    </tr>\n",
       "    <tr>\n",
       "      <th>4</th>\n",
       "      <td>BBIBP-CorV, Oxford/AstraZeneca, Pfizer/BioNTech</td>\n",
       "      <td>[Afghanistan]</td>\n",
       "    </tr>\n",
       "    <tr>\n",
       "      <th>5</th>\n",
       "      <td>BBIBP-CorV, Oxford/AstraZeneca, Pfizer/BioNTec...</td>\n",
       "      <td>[Sudan]</td>\n",
       "    </tr>\n",
       "    <tr>\n",
       "      <th>6</th>\n",
       "      <td>BBIBP-CorV, Oxford/AstraZeneca, Sinovac</td>\n",
       "      <td>[Somalia]</td>\n",
       "    </tr>\n",
       "    <tr>\n",
       "      <th>7</th>\n",
       "      <td>BBIBP-CorV, Oxford/AstraZeneca, Sinovac, Sputn...</td>\n",
       "      <td>[Egypt]</td>\n",
       "    </tr>\n",
       "    <tr>\n",
       "      <th>8</th>\n",
       "      <td>BBIBP-CorV, Sputnik V</td>\n",
       "      <td>[Venezuela]</td>\n",
       "    </tr>\n",
       "    <tr>\n",
       "      <th>9</th>\n",
       "      <td>CanSino, Oxford/AstraZeneca, Pfizer/BioNTech, ...</td>\n",
       "      <td>[Chile]</td>\n",
       "    </tr>\n",
       "    <tr>\n",
       "      <th>10</th>\n",
       "      <td>CanSino, Oxford/AstraZeneca, Pfizer/BioNTech, ...</td>\n",
       "      <td>[Mexico]</td>\n",
       "    </tr>\n",
       "    <tr>\n",
       "      <th>11</th>\n",
       "      <td>CanSino, Oxford/AstraZeneca, Sinopharm/Beijing...</td>\n",
       "      <td>[Pakistan]</td>\n",
       "    </tr>\n",
       "    <tr>\n",
       "      <th>12</th>\n",
       "      <td>CanSino, Sinopharm/Beijing, Sinopharm/Wuhan, S...</td>\n",
       "      <td>[China]</td>\n",
       "    </tr>\n",
       "    <tr>\n",
       "      <th>13</th>\n",
       "      <td>Covaxin, Oxford/AstraZeneca</td>\n",
       "      <td>[Central African Republic, India]</td>\n",
       "    </tr>\n",
       "    <tr>\n",
       "      <th>14</th>\n",
       "      <td>Covaxin, Oxford/AstraZeneca, Sinopharm/Beijing</td>\n",
       "      <td>[Comoros, Mauritius]</td>\n",
       "    </tr>\n",
       "    <tr>\n",
       "      <th>15</th>\n",
       "      <td>Covaxin, Oxford/AstraZeneca, Sinopharm/Beijing...</td>\n",
       "      <td>[Paraguay]</td>\n",
       "    </tr>\n",
       "    <tr>\n",
       "      <th>16</th>\n",
       "      <td>Covaxin, Oxford/AstraZeneca, Sinopharm/Beijing...</td>\n",
       "      <td>[Iran]</td>\n",
       "    </tr>\n",
       "    <tr>\n",
       "      <th>17</th>\n",
       "      <td>EpiVacCorona, Oxford/AstraZeneca, Sinopharm/Be...</td>\n",
       "      <td>[Turkmenistan]</td>\n",
       "    </tr>\n",
       "    <tr>\n",
       "      <th>18</th>\n",
       "      <td>EpiVacCorona, Sputnik V</td>\n",
       "      <td>[Russia]</td>\n",
       "    </tr>\n",
       "    <tr>\n",
       "      <th>19</th>\n",
       "      <td>Johnson&amp;Johnson, Moderna, Oxford/AstraZeneca, ...</td>\n",
       "      <td>[Austria, Belgium, Bulgaria, Cyprus, Czechia, ...</td>\n",
       "    </tr>\n",
       "    <tr>\n",
       "      <th>20</th>\n",
       "      <td>Johnson&amp;Johnson, Moderna, Oxford/AstraZeneca, ...</td>\n",
       "      <td>[Libya]</td>\n",
       "    </tr>\n",
       "    <tr>\n",
       "      <th>21</th>\n",
       "      <td>Johnson&amp;Johnson, Moderna, Oxford/AstraZeneca, ...</td>\n",
       "      <td>[Honduras]</td>\n",
       "    </tr>\n",
       "    <tr>\n",
       "      <th>22</th>\n",
       "      <td>Johnson&amp;Johnson, Moderna, Pfizer/BioNTech</td>\n",
       "      <td>[United States]</td>\n",
       "    </tr>\n",
       "    <tr>\n",
       "      <th>23</th>\n",
       "      <td>Johnson&amp;Johnson, Pfizer/BioNTech</td>\n",
       "      <td>[South Africa]</td>\n",
       "    </tr>\n",
       "    <tr>\n",
       "      <th>24</th>\n",
       "      <td>Moderna</td>\n",
       "      <td>[Greenland]</td>\n",
       "    </tr>\n",
       "    <tr>\n",
       "      <th>25</th>\n",
       "      <td>Moderna, Oxford/AstraZeneca</td>\n",
       "      <td>[Guatemala, Taiwan]</td>\n",
       "    </tr>\n",
       "    <tr>\n",
       "      <th>26</th>\n",
       "      <td>Moderna, Oxford/AstraZeneca, Pfizer/BioNTech</td>\n",
       "      <td>[Canada, Croatia, England, Finland, Guernsey, ...</td>\n",
       "    </tr>\n",
       "    <tr>\n",
       "      <th>27</th>\n",
       "      <td>Moderna, Oxford/AstraZeneca, Pfizer/BioNTech, ...</td>\n",
       "      <td>[Hungary]</td>\n",
       "    </tr>\n",
       "    <tr>\n",
       "      <th>28</th>\n",
       "      <td>Moderna, Pfizer/BioNTech</td>\n",
       "      <td>[Bonaire Sint Eustatius and Saba, Curacao, Den...</td>\n",
       "    </tr>\n",
       "    <tr>\n",
       "      <th>29</th>\n",
       "      <td>Oxford/AstraZeneca</td>\n",
       "      <td>[Angola, Anguilla, Antigua and Barbuda, Bahama...</td>\n",
       "    </tr>\n",
       "    <tr>\n",
       "      <th>30</th>\n",
       "      <td>Oxford/AstraZeneca, Pfizer/BioNTech</td>\n",
       "      <td>[Andorra, Australia, Cape Verde, Cayman Island...</td>\n",
       "    </tr>\n",
       "    <tr>\n",
       "      <th>31</th>\n",
       "      <td>Oxford/AstraZeneca, Pfizer/BioNTech, Sinopharm...</td>\n",
       "      <td>[Maldives, Peru]</td>\n",
       "    </tr>\n",
       "    <tr>\n",
       "      <th>32</th>\n",
       "      <td>Oxford/AstraZeneca, Pfizer/BioNTech, Sinopharm...</td>\n",
       "      <td>[United Arab Emirates]</td>\n",
       "    </tr>\n",
       "    <tr>\n",
       "      <th>33</th>\n",
       "      <td>Oxford/AstraZeneca, Pfizer/BioNTech, Sinopharm...</td>\n",
       "      <td>[Dominican Republic]</td>\n",
       "    </tr>\n",
       "    <tr>\n",
       "      <th>34</th>\n",
       "      <td>Oxford/AstraZeneca, Pfizer/BioNTech, Sinopharm...</td>\n",
       "      <td>[Bahrain, Bolivia, Iraq, Jordan, Lebanon, Mold...</td>\n",
       "    </tr>\n",
       "    <tr>\n",
       "      <th>35</th>\n",
       "      <td>Oxford/AstraZeneca, Pfizer/BioNTech, Sinovac</td>\n",
       "      <td>[Brazil, Colombia, Ecuador, El Salvador, Malay...</td>\n",
       "    </tr>\n",
       "    <tr>\n",
       "      <th>36</th>\n",
       "      <td>Oxford/AstraZeneca, Pfizer/BioNTech, Sinovac, ...</td>\n",
       "      <td>[Albania, Bosnia and Herzegovina, Philippines,...</td>\n",
       "    </tr>\n",
       "    <tr>\n",
       "      <th>37</th>\n",
       "      <td>Oxford/AstraZeneca, RBD-Dimer, Sputnik V</td>\n",
       "      <td>[Uzbekistan]</td>\n",
       "    </tr>\n",
       "    <tr>\n",
       "      <th>38</th>\n",
       "      <td>Oxford/AstraZeneca, Sinopharm/Beijing</td>\n",
       "      <td>[Belize, Brunei, Gambia, Guinea-Bissau, Morocc...</td>\n",
       "    </tr>\n",
       "    <tr>\n",
       "      <th>39</th>\n",
       "      <td>Oxford/AstraZeneca, Sinopharm/Beijing, Sinovac</td>\n",
       "      <td>[Cambodia]</td>\n",
       "    </tr>\n",
       "    <tr>\n",
       "      <th>40</th>\n",
       "      <td>Oxford/AstraZeneca, Sinopharm/Beijing, Sputnik V</td>\n",
       "      <td>[Argentina, Djibouti, Sri Lanka, Syria]</td>\n",
       "    </tr>\n",
       "    <tr>\n",
       "      <th>41</th>\n",
       "      <td>Oxford/AstraZeneca, Sinovac</td>\n",
       "      <td>[Benin, Indonesia, Thailand]</td>\n",
       "    </tr>\n",
       "    <tr>\n",
       "      <th>42</th>\n",
       "      <td>Oxford/AstraZeneca, Sinovac, Sputnik V</td>\n",
       "      <td>[Armenia, Azerbaijan]</td>\n",
       "    </tr>\n",
       "    <tr>\n",
       "      <th>43</th>\n",
       "      <td>Oxford/AstraZeneca, Sputnik V</td>\n",
       "      <td>[Algeria, Ghana, Guyana, Kenya, Nicaragua]</td>\n",
       "    </tr>\n",
       "    <tr>\n",
       "      <th>44</th>\n",
       "      <td>Pfizer/BioNTech</td>\n",
       "      <td>[Aruba, Bermuda, Gibraltar, Kuwait, Monaco, Ne...</td>\n",
       "    </tr>\n",
       "    <tr>\n",
       "      <th>45</th>\n",
       "      <td>Pfizer/BioNTech, Sinopharm/Beijing</td>\n",
       "      <td>[Macao]</td>\n",
       "    </tr>\n",
       "    <tr>\n",
       "      <th>46</th>\n",
       "      <td>Pfizer/BioNTech, Sinovac</td>\n",
       "      <td>[Hong Kong, Turkey]</td>\n",
       "    </tr>\n",
       "    <tr>\n",
       "      <th>47</th>\n",
       "      <td>Pfizer/BioNTech, Sputnik V</td>\n",
       "      <td>[San Marino]</td>\n",
       "    </tr>\n",
       "    <tr>\n",
       "      <th>48</th>\n",
       "      <td>QazVac, Sinopharm/HayatVax, Sputnik V</td>\n",
       "      <td>[Kazakhstan]</td>\n",
       "    </tr>\n",
       "    <tr>\n",
       "      <th>49</th>\n",
       "      <td>Sinopharm/Beijing</td>\n",
       "      <td>[Equatorial Guinea, Gabon, Zimbabwe]</td>\n",
       "    </tr>\n",
       "    <tr>\n",
       "      <th>50</th>\n",
       "      <td>Sinopharm/Beijing, Sputnik V</td>\n",
       "      <td>[Belarus, Kyrgyzstan, Laos]</td>\n",
       "    </tr>\n",
       "    <tr>\n",
       "      <th>51</th>\n",
       "      <td>Sputnik V</td>\n",
       "      <td>[Guinea]</td>\n",
       "    </tr>\n",
       "  </tbody>\n",
       "</table>\n",
       "</div>"
      ],
      "text/plain": [
       "                                             vaccines  \\\n",
       "0                                  Abdala, Soberana02   \n",
       "1                                          BBIBP-CorV   \n",
       "2   BBIBP-CorV, Moderna, Oxford/AstraZeneca, Sputn...   \n",
       "3                      BBIBP-CorV, Oxford/AstraZeneca   \n",
       "4     BBIBP-CorV, Oxford/AstraZeneca, Pfizer/BioNTech   \n",
       "5   BBIBP-CorV, Oxford/AstraZeneca, Pfizer/BioNTec...   \n",
       "6             BBIBP-CorV, Oxford/AstraZeneca, Sinovac   \n",
       "7   BBIBP-CorV, Oxford/AstraZeneca, Sinovac, Sputn...   \n",
       "8                               BBIBP-CorV, Sputnik V   \n",
       "9   CanSino, Oxford/AstraZeneca, Pfizer/BioNTech, ...   \n",
       "10  CanSino, Oxford/AstraZeneca, Pfizer/BioNTech, ...   \n",
       "11  CanSino, Oxford/AstraZeneca, Sinopharm/Beijing...   \n",
       "12  CanSino, Sinopharm/Beijing, Sinopharm/Wuhan, S...   \n",
       "13                        Covaxin, Oxford/AstraZeneca   \n",
       "14     Covaxin, Oxford/AstraZeneca, Sinopharm/Beijing   \n",
       "15  Covaxin, Oxford/AstraZeneca, Sinopharm/Beijing...   \n",
       "16  Covaxin, Oxford/AstraZeneca, Sinopharm/Beijing...   \n",
       "17  EpiVacCorona, Oxford/AstraZeneca, Sinopharm/Be...   \n",
       "18                            EpiVacCorona, Sputnik V   \n",
       "19  Johnson&Johnson, Moderna, Oxford/AstraZeneca, ...   \n",
       "20  Johnson&Johnson, Moderna, Oxford/AstraZeneca, ...   \n",
       "21  Johnson&Johnson, Moderna, Oxford/AstraZeneca, ...   \n",
       "22          Johnson&Johnson, Moderna, Pfizer/BioNTech   \n",
       "23                   Johnson&Johnson, Pfizer/BioNTech   \n",
       "24                                            Moderna   \n",
       "25                        Moderna, Oxford/AstraZeneca   \n",
       "26       Moderna, Oxford/AstraZeneca, Pfizer/BioNTech   \n",
       "27  Moderna, Oxford/AstraZeneca, Pfizer/BioNTech, ...   \n",
       "28                           Moderna, Pfizer/BioNTech   \n",
       "29                                 Oxford/AstraZeneca   \n",
       "30                Oxford/AstraZeneca, Pfizer/BioNTech   \n",
       "31  Oxford/AstraZeneca, Pfizer/BioNTech, Sinopharm...   \n",
       "32  Oxford/AstraZeneca, Pfizer/BioNTech, Sinopharm...   \n",
       "33  Oxford/AstraZeneca, Pfizer/BioNTech, Sinopharm...   \n",
       "34  Oxford/AstraZeneca, Pfizer/BioNTech, Sinopharm...   \n",
       "35       Oxford/AstraZeneca, Pfizer/BioNTech, Sinovac   \n",
       "36  Oxford/AstraZeneca, Pfizer/BioNTech, Sinovac, ...   \n",
       "37           Oxford/AstraZeneca, RBD-Dimer, Sputnik V   \n",
       "38              Oxford/AstraZeneca, Sinopharm/Beijing   \n",
       "39     Oxford/AstraZeneca, Sinopharm/Beijing, Sinovac   \n",
       "40   Oxford/AstraZeneca, Sinopharm/Beijing, Sputnik V   \n",
       "41                        Oxford/AstraZeneca, Sinovac   \n",
       "42             Oxford/AstraZeneca, Sinovac, Sputnik V   \n",
       "43                      Oxford/AstraZeneca, Sputnik V   \n",
       "44                                    Pfizer/BioNTech   \n",
       "45                 Pfizer/BioNTech, Sinopharm/Beijing   \n",
       "46                           Pfizer/BioNTech, Sinovac   \n",
       "47                         Pfizer/BioNTech, Sputnik V   \n",
       "48              QazVac, Sinopharm/HayatVax, Sputnik V   \n",
       "49                                  Sinopharm/Beijing   \n",
       "50                       Sinopharm/Beijing, Sputnik V   \n",
       "51                                          Sputnik V   \n",
       "\n",
       "                                              country  \n",
       "0                                              [Cuba]  \n",
       "1                                              [Chad]  \n",
       "2                                             [Congo]  \n",
       "3   [Cameroon, Mauritania, Niger, Senegal, Sierra ...  \n",
       "4                                       [Afghanistan]  \n",
       "5                                             [Sudan]  \n",
       "6                                           [Somalia]  \n",
       "7                                             [Egypt]  \n",
       "8                                         [Venezuela]  \n",
       "9                                             [Chile]  \n",
       "10                                           [Mexico]  \n",
       "11                                         [Pakistan]  \n",
       "12                                            [China]  \n",
       "13                  [Central African Republic, India]  \n",
       "14                               [Comoros, Mauritius]  \n",
       "15                                         [Paraguay]  \n",
       "16                                             [Iran]  \n",
       "17                                     [Turkmenistan]  \n",
       "18                                           [Russia]  \n",
       "19  [Austria, Belgium, Bulgaria, Cyprus, Czechia, ...  \n",
       "20                                            [Libya]  \n",
       "21                                         [Honduras]  \n",
       "22                                    [United States]  \n",
       "23                                     [South Africa]  \n",
       "24                                        [Greenland]  \n",
       "25                                [Guatemala, Taiwan]  \n",
       "26  [Canada, Croatia, England, Finland, Guernsey, ...  \n",
       "27                                          [Hungary]  \n",
       "28  [Bonaire Sint Eustatius and Saba, Curacao, Den...  \n",
       "29  [Angola, Anguilla, Antigua and Barbuda, Bahama...  \n",
       "30  [Andorra, Australia, Cape Verde, Cayman Island...  \n",
       "31                                   [Maldives, Peru]  \n",
       "32                             [United Arab Emirates]  \n",
       "33                               [Dominican Republic]  \n",
       "34  [Bahrain, Bolivia, Iraq, Jordan, Lebanon, Mold...  \n",
       "35  [Brazil, Colombia, Ecuador, El Salvador, Malay...  \n",
       "36  [Albania, Bosnia and Herzegovina, Philippines,...  \n",
       "37                                       [Uzbekistan]  \n",
       "38  [Belize, Brunei, Gambia, Guinea-Bissau, Morocc...  \n",
       "39                                         [Cambodia]  \n",
       "40            [Argentina, Djibouti, Sri Lanka, Syria]  \n",
       "41                       [Benin, Indonesia, Thailand]  \n",
       "42                              [Armenia, Azerbaijan]  \n",
       "43         [Algeria, Ghana, Guyana, Kenya, Nicaragua]  \n",
       "44  [Aruba, Bermuda, Gibraltar, Kuwait, Monaco, Ne...  \n",
       "45                                            [Macao]  \n",
       "46                                [Hong Kong, Turkey]  \n",
       "47                                       [San Marino]  \n",
       "48                                       [Kazakhstan]  \n",
       "49               [Equatorial Guinea, Gabon, Zimbabwe]  \n",
       "50                        [Belarus, Kyrgyzstan, Laos]  \n",
       "51                                           [Guinea]  "
      ]
     },
     "execution_count": 34,
     "metadata": {},
     "output_type": "execute_result"
    }
   ],
   "source": [
    "vaccines = df.groupby('vaccines')['country'].unique()\n",
    "vaccines = pd.DataFrame(vaccines).reset_index()\n",
    "vaccines"
   ]
  },
  {
   "cell_type": "code",
   "execution_count": null,
   "id": "organizational-beast",
   "metadata": {
    "papermill": {
     "duration": 0.088198,
     "end_time": "2021-06-16T10:54:55.506386",
     "exception": false,
     "start_time": "2021-06-16T10:54:55.418188",
     "status": "completed"
    },
    "tags": []
   },
   "outputs": [],
   "source": []
  }
 ],
 "metadata": {
  "kernelspec": {
   "display_name": "Python 3",
   "language": "python",
   "name": "python3"
  },
  "language_info": {
   "codemirror_mode": {
    "name": "ipython",
    "version": 3
   },
   "file_extension": ".py",
   "mimetype": "text/x-python",
   "name": "python",
   "nbconvert_exporter": "python",
   "pygments_lexer": "ipython3",
   "version": "3.7.10"
  },
  "papermill": {
   "default_parameters": {},
   "duration": 31.935613,
   "end_time": "2021-06-16T10:54:57.074454",
   "environment_variables": {},
   "exception": null,
   "input_path": "__notebook__.ipynb",
   "output_path": "__notebook__.ipynb",
   "parameters": {},
   "start_time": "2021-06-16T10:54:25.138841",
   "version": "2.3.3"
  }
 },
 "nbformat": 4,
 "nbformat_minor": 5
}
